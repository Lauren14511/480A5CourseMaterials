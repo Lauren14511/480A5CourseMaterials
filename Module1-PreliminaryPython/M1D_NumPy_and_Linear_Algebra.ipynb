{
 "cells": [
  {
   "cell_type": "markdown",
   "metadata": {
    "id": "4nmji1trStg4"
   },
   "source": [
    "<html>\n",
    "    <summary></summary>\n",
    "    <p float=\"left\">\n",
    "         <div> <p></p> </div>\n",
    "         <div style=\"font-size: 20px; width: 800px;\">\n",
    "              <h1>\n",
    "               <left>Linear Algebra in Python </left>\n",
    "              </h1>\n",
    "              <p><left>============================================================================</left> </p>              \n",
    "             <pre>Course: BIOM/CBE 480A5, Spring 2025\n",
    "Instructor: Dr. Brian Munsky\n",
    "Contact Info: munsky@colostate.edu\n",
    "Authors: Will Raymond, Dr. Luis Aguilera, Dr. Brian Munsky\n",
    "</pre>\n",
    "         </div>\n",
    "    </p>\n",
    "\n",
    "</html>\n",
    "\n",
    "\n",
    "\n",
    "<details>\n",
    "  <summary>Copyright info</summary>\n",
    "\n",
    "```\n",
    "Copyright 2023 Brian Munsky\n",
    "\n",
    "Redistribution and use in source and binary forms, with or without modification, are permitted provided that the following conditions are met:\n",
    "\n",
    "1. Redistributions of source code must retain the above copyright notice, this list of conditions and the following disclaimer.\n",
    "\n",
    "2. Redistributions in binary form must reproduce the above copyright notice, this list of conditions and the following disclaimer in the documentation and/or other materials provided with the distribution.\n",
    "\n",
    "3. Neither the name of the copyright holder nor the names of its contributors may be used to endorse or promote products derived from this software without specific prior written permission.\n",
    "\n",
    "THIS SOFTWARE IS PROVIDED BY THE COPYRIGHT HOLDERS AND CONTRIBUTORS \"AS IS\" AND ANY EXPRESS OR IMPLIED WARRANTIES, INCLUDING, BUT NOT LIMITED TO, THE IMPLIED WARRANTIES OF MERCHANTABILITY AND FITNESS FOR A PARTICULAR PURPOSE ARE DISCLAIMED. IN NO EVENT SHALL THE COPYRIGHT HOLDER OR CONTRIBUTORS BE LIABLE FOR ANY DIRECT, INDIRECT, INCIDENTAL, SPECIAL, EXEMPLARY, OR CONSEQUENTIAL DAMAGES (INCLUDING, BUT NOT LIMITED TO, PROCUREMENT OF SUBSTITUTE GOODS OR SERVICES; LOSS OF USE, DATA, OR PROFITS; OR BUSINESS INTERRUPTION) HOWEVER CAUSED AND ON ANY THEORY OF LIABILITY, WHETHER IN CONTRACT, STRICT LIABILITY, OR TORT (INCLUDING NEGLIGENCE OR OTHERWISE) ARISING IN ANY WAY OUT OF THE USE OF THIS SOFTWARE, EVEN IF ADVISED OF THE POSSIBILITY OF SUCH DAMAGE.\n",
    "```\n",
    "<details>"
   ]
  },
  {
   "cell_type": "markdown",
   "metadata": {},
   "source": [
    "# **Learning Objectives**\n",
    "\n",
    "In this notebook, we will begin a fast review of linear algebra, while focussing on several tools in NumPy that we will use again and again in this course.  Upon completing this lesson, students will achieve learning objectives to create and solve ```Linear equations``` and to manipulate different types of ```Arrays``` (i.e., vectors, matrices, and tensors). Specifically, when you complete this notebook, you will be able to \n",
    "\n",
    "* Describe the meaning of ```linear equations``` and be able to write them in the form of ```matrices``` and ```vectors```.\n",
    "* Use ```NumPy``` in Python to create different NumPy ```ndarrays``` to represent vectors, matrices, and tensors.\n",
    "* Manipulate NumPy ndarrays using different techniques for ```indexing```, ```reshaping```, ```broadcasting``` and ```reduction``` to focus in on important quantities or perform important calculations.\n",
    "* Solve sets of coupled ```linear equations``` in NumPy.\n",
    "* Recognize and formulate linear equations in augmented matrix form.\n",
    "* Define and test for ```linear independence```."
   ]
  },
  {
   "cell_type": "markdown",
   "metadata": {},
   "source": [
    "# **1. Linear Equations**\n",
    "\n",
    "A **Linear Equation** is an equation that describes a \"straight-line\" relationship between any two variables.  For example:\n",
    " $$ y = ax + b$$\n",
    "describes a linear relationship between the variables $x\\in \\mathbb{R}$ and $y\\in \\mathbb{R}$.  \n",
    "\n",
    "Here, we use the notation $\\mathbb{R}$ to denote the set of real numbers.  The variables $a$ and $b$ are the parameters of the equation.  The parameter $a$ is describes the ```slope``` of the line for how $y$ changes with respect to $x$ and the parameter $b$ is the ```bias``` or the ```y-intercept``` of the line (i.e., the value of $y$ when $x$ is equal to zero). Let's see what this might look like.\n",
    "\n",
    "Before we can work with these equations, we need to load some functions by running the next cell."
   ]
  },
  {
   "cell_type": "code",
<<<<<<< HEAD
   "execution_count": 2,
=======
   "execution_count": 27,
>>>>>>> upstream/main
   "metadata": {},
   "outputs": [],
   "source": [
    "# First, lets import numpy and matplot lib and set some options for plotting.\n",
    "import numpy as np\n",
    "import matplotlib.pyplot as plt\n",
    "import os, sys\n",
    "import importlib\n",
    "# add the path ../BIOM480A5 to the system path\n",
    "try:\n",
    "    os.listdir(os.path.abspath('../BIOM480A5'))\n",
    "    BIOM480A5_path = os.path.abspath('../BIOM480A5')\n",
    "except:\n",
    "    os.listdir(os.path.abspath('BIOM480A5'))\n",
    "    BIOM480A5_path = os.path.abspath('BIOM480A5')\n",
    "sys.path.append(BIOM480A5_path)\n",
    "import BIOM480A5_Quizzes\n",
    "\n",
    "# Plotting style - here we set some options for plotting later in this notebook.\n",
    "import matplotlib.pyplot as plt\n",
    "from cycler import cycler\n",
    "import matplotlib.cm as cm\n",
    "from matplotlib.lines import Line2D\n",
    "colors = ['#ef476f', '#06d6a0','#7400b8','#073b4c', '#118ab2',]\n",
    "#colors = ['#fa8174', '#b3de69', '#bc82bd','#ccebc4','#ffed6f','#81b1d2']\n",
    "font = {'family' : 'monospace',\n",
    "    'weight' : 'bold',\n",
    "    'size'   : 12}\n",
    "plt.rcParams.update({'font.size': 12, 'font.weight':'bold', 'font.family':'monospace'  }   )\n",
    "plt.rcParams.update({'axes.prop_cycle':cycler(color=colors)})\n",
    "plt.rcParams.update({'axes.prop_cycle':cycler(color=colors)})\n",
    "plt.rcParams.update({'axes.prop_cycle':cycler(color=colors)})\n",
    "plt.rcParams.update({'xtick.major.width'   : 2.8 })\n",
    "plt.rcParams.update({'xtick.labelsize'   : 12 })\n",
    "plt.rcParams.update({'ytick.major.width'   : 2.8 })\n",
    "plt.rcParams.update({'ytick.labelsize'   : 12})\n",
    "plt.rcParams.update({'axes.titleweight'   : 'bold'})\n",
    "plt.rcParams.update({'axes.titlesize'   : 10})\n",
    "plt.rcParams.update({'axes.labelweight'   : 'bold'})\n",
    "plt.rcParams.update({'axes.labelsize'   : 12})\n",
    "plt.rcParams.update({'axes.linewidth':2.8})\n",
    "plt.rcParams.update({'axes.labelpad':8})\n",
    "plt.rcParams.update({'axes.titlepad':10})  "
   ]
  },
  {
   "cell_type": "markdown",
   "metadata": {},
   "source": [
    "### **1.A. Plotting the line corrsponding to a linear equation in Python**"
   ]
  },
  {
   "cell_type": "code",
   "execution_count": 3,
   "metadata": {},
   "outputs": [
    {
     "data": {
      "text/plain": [
       "<matplotlib.legend.Legend at 0x1b1f7bf6830>"
      ]
     },
     "execution_count": 3,
     "metadata": {},
     "output_type": "execute_result"
    },
    {
     "data": {
      "image/png": "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",
      "text/plain": [
       "<Figure size 640x480 with 1 Axes>"
      ]
     },
     "metadata": {},
     "output_type": "display_data"
    }
   ],
   "source": [
    "# Now to make a plot of our line.\n",
    "# # make a numpy array x with 100 values from -5 to 5\n",
    "x = np.linspace(-5, 5, 100)\n",
    "a = 2\n",
    "b = 5\n",
    "\n",
    "# make a numpy array y that is the line a*x + 1\n",
    "y = a * x + b\n",
    "\n",
    "# plot y vs. x\n",
    "plt.plot(x, y)\n",
    "# label the x and y axes\n",
    "plt.xlabel('x')\n",
    "plt.ylabel('y')\n",
    "\n",
    "# draw a horizontal dashed line at y=b and a vertical dashed line at x=0 to demonstrate the intercepts.\n",
    "plt.axhline(y=b, color='k', linestyle='--')\n",
    "plt.axvline(x=0, color='k', linestyle='--')\n",
    "\n",
    "# draw a diagonal dashed line through the origin to demonstrate the slope.\n",
    "plt.plot(x, a*x, linestyle='--', color='c')\n",
    "\n",
    "# add a legend\n",
    "plt.legend(['y = ax + b', 'y-intercept', 'x-intercept', 'y = ax (same slope)'])\n",
    "\n"
   ]
  },
  {
   "cell_type": "markdown",
   "metadata": {},
   "source": [
    "## **1.B. Multiple Linear Equations**\n",
    "In the previous example, we had a single linear equation with a single independent variable, $x\\in \\mathbb{R}$ and a single dependent variable, $y\\in \\mathbb{R}$. More generally, we can describe a set of many linear equations, where the input is a vector $x\\in \\mathbb{R}^n$ and the output is a vector $y\\in \\mathbb{R}^m$, and we can write the system of equations in matrix form as $$\\mathbf{y} = \\mathbf{Ax} + \\mathbf{b},$$ where $\\mathbf{b}\\in \\mathbb{R}^{m\\times 1}$ is the ```bias``` vector (i.e., the values of $\\mathbf{y}$ when all values of $\\mathbf{x}$ are zero) and $\\mathbf{A}\\in \\mathbb{R}^{m\\times n}$ is the ```matrix of coefficients``` that maps changes in the input vector $\\mathbf{x}$ (relative to zero) to corresponding changes in the output vector $\\mathbf{y}$ (relative to $\\mathbf{b})$.\n",
    "\n",
    "### Other Ways or Writing Linear Equations\n",
    "The matrix form shown here is equivalent to writing $m$ different equations, such as:\n",
    "$$\\begin{matrix} \n",
    "y_1 = a_{11}x_1 + \\ldots + a_{1n}x_n + b_1\\\\\n",
    "y_2 = a_{21}x_1 + \\ldots + a_{2n}x_n + b_2\\\\\n",
    "\\vdots\\\\\n",
    "y_m = a_{m1}x_1 + \\ldots + a_{mn}x_n + b_m,\n",
    "\\end{matrix}\n",
    "$$\n",
    "where \n",
    "\n",
    "$$\\mathbf{x} = \n",
    "\\left[\\begin{matrix} \n",
    "x_1\\\\\n",
    "x_2\\\\\n",
    "\\vdots\\\\\n",
    "x_{n}\n",
    "\\end{matrix}\\right],\\ \n",
    " \\mathbf{y} = \n",
    "\\left[\\begin{matrix} \n",
    "y_1\\\\\n",
    "y_2\\\\\n",
    "\\vdots\\\\\n",
    "y_{m}\n",
    "\\end{matrix}\\right],\\ \n",
    " \\mathbf{b} = \n",
    "\\left[\\begin{matrix} \n",
    "b_1\\\\\n",
    "b_2\\\\\n",
    "\\vdots\\\\\n",
    "b_{m}\n",
    "\\end{matrix}\\right],\\ \\text{and }\n",
    "\\mathbf{A} = \n",
    "\\left[\\begin{matrix} \n",
    "a_{11}&a_{12}& \\ldots &a_{1n}\\\\ \n",
    "a_{21}&a_{22}&\\ldots &a_{2n}\\\\ \n",
    "\\ldots &\\ldots &\\ldots &\\ldots\\\\\n",
    "a_{m1}&a_{m2}&\\ldots &a_{mn}\n",
    " \\end{matrix}\\right]\n",
    "$$\n",
    "\n",
    "In additon to the matrix and individual equation forms, there are also other common ways to describe these equations:\n",
    "\n",
    "In **column form**, we write:\n",
    "$${\\mathbf{y}}  = \n",
    "\\sum_{j=1}^n \n",
    "\\mathbf{A}_j x_j,$$\n",
    "where $\\mathbf{A}_j$ represent the different columns of the matrix $\\mathbf{A}$ (e.g., $\\mathbf{A} = \n",
    "\\left[\\begin{matrix} \n",
    "\\mathbf{A}_1 & \\mathbf{A}_2 &\\ldots &\\mathbf{A}_n \\end{matrix}\\right]$\n",
    ")\n",
    "\n",
    "In **row form**, we write: \n",
    "$${\\mathbf{y}}  = \n",
    "\\left[\\begin{matrix}\n",
    "\\tilde{\\mathbf{A}}_1 \\mathbf{x}\\\\\n",
    "\\tilde{\\mathbf{A}}_2 \\mathbf{x}\\\\\n",
    "\\vdots\\\\\n",
    "\\tilde{\\mathbf{A}}_m \\mathbf{x}\n",
    "\\end{matrix}\\right],\\text{ where } {\\mathbf{A}}  = \n",
    "\\left[\\begin{matrix}\n",
    "\\tilde{\\mathbf{A}}_1\\\\\n",
    "\\tilde{\\mathbf{A}}_2 \\\\\n",
    "\\vdots\\\\\n",
    "\\tilde{\\mathbf{A}}_m\n",
    "\\end{matrix}\\right],$$\n",
    "and $\\tilde{\\mathbf{A}}_i$ represents the $i^{\\rm th}$ row of the matrix $\\mathbf{A}$.\n",
    "\n",
    "For the rest of this notebook, we are going to be working with these kinds of equations, but first we need to introduce some useful python tools."
   ]
  },
  {
   "cell_type": "markdown",
   "metadata": {},
   "source": []
  },
  {
   "cell_type": "markdown",
   "metadata": {
    "id": "hKUM83zzMfrg"
   },
   "source": [
    "# **2. Basic NumPy**\n",
    "\n",
    "<html>\n",
    "<summary></summary>\n",
    "<p float=\"left\">\n",
    "<img align=\"left\" src=\"https://numpy.org/images/logo.svg\" width=\"150\" height=\"150\">\n",
    "</p>\n",
    "</html>\n",
    "\n",
    "In this notebook, we are going to work with linear equations, like those defined above.  And to help us in that process, we are going to use one of the most widely used data manipulation packages within Python, ```Numpy```!\n",
    "\n",
    "```numpy``` and ```scipy``` are ubiquitous in the world of scientific computing in Python. ```NumPy```, short for Numeric Python, is a library provides access to a lot of generalized array functions for linear algebra or manipulation that is not available with the standard list typing in Python. In addition to providing its powerful ```ndarray``` type, ```numpy``` also includes a myriad of packages for random simulation, basic statistics, sorting, and various matrix transforms. \n",
    "\n",
    "The core of numpy is the array, ```ndarray```, so let's take a look at that first. \n",
    "\n",
    "------\n",
    "\n",
    "You can also read more about these operations in the textbook:\n",
    "```Reading: Kinder, Nelson Section 2```"
   ]
  },
  {
   "cell_type": "markdown",
   "metadata": {
    "id": "F62JOW7VKQpc"
   },
   "source": [
    "## **2.A.  Making your first array**\n",
    "\n",
    "There are multiple ways of making an array, but one of the easiest is to first generate a list or list of lists, or even a list of lists of lists, and then pass this to ```np.array``` .\n",
    "\n",
    "Let's try it."
   ]
  },
  {
   "cell_type": "code",
   "execution_count": 4,
   "metadata": {
    "colab": {
     "base_uri": "https://localhost:8080/"
    },
    "id": "7enN7MQdc_6a",
    "outputId": "1da912d6-4dd9-4a9a-b6dd-4934f5e27bee"
   },
   "outputs": [
    {
     "name": "stdout",
     "output_type": "stream",
     "text": [
      "[0 1 2 3 4]\n"
     ]
    }
   ],
   "source": [
    "# Let's start witha simple numpy array corresponding to an n-dimensional vector (like 'x' in the introduction).\n",
    "my_list = [0,1,2,3,4]\n",
    "my_np_array = np.array(my_list)\n",
    "\n",
    "print(my_np_array)"
   ]
  },
  {
   "cell_type": "markdown",
   "metadata": {},
   "source": [
    "## **2.B. Overview of Methods for ndarrays**\n",
    "\n",
    "Recall that python objects can have lots of methods or functions that can operate on the object data.  Let's look what at what is avaialble in numpy's ```ndarray```."
   ]
  },
  {
   "cell_type": "code",
   "execution_count": 5,
   "metadata": {
    "colab": {
     "base_uri": "https://localhost:8080/"
    },
    "id": "QvBE6-bdUmv7",
    "outputId": "134dc79f-4b34-43b0-e1c6-bdec8fe0d145"
   },
   "outputs": [
    {
     "name": "stdout",
     "output_type": "stream",
     "text": [
      "The callable functions of np_arrays are:\n",
      "['T', 'all', 'any', 'argmax', 'argmin', 'argpartition', 'argsort', 'astype', 'base', 'byteswap', 'choose', 'clip', 'compress', 'conj', 'conjugate', 'copy', 'ctypes', 'cumprod', 'cumsum', 'data', 'diagonal', 'dot', 'dtype', 'dump', 'dumps', 'fill', 'flags', 'flat', 'flatten', 'getfield', 'imag', 'item', 'itemset', 'itemsize', 'max', 'mean', 'min', 'nbytes', 'ndim', 'newbyteorder', 'nonzero', 'partition', 'prod', 'ptp', 'put', 'ravel', 'real', 'repeat', 'reshape', 'resize', 'round', 'searchsorted', 'setfield', 'setflags', 'shape', 'size', 'sort', 'squeeze', 'std', 'strides', 'sum', 'swapaxes', 'take', 'tobytes', 'tofile', 'tolist', 'tostring', 'trace', 'transpose', 'var', 'view']\n",
      "The callable functions of lists are:\n",
      "['append', 'clear', 'copy', 'count', 'extend', 'index', 'insert', 'pop', 'remove', 'reverse', 'sort']\n"
     ]
    }
   ],
   "source": [
    "#Now that we have this ndarray, let's compare its methods to those of lists that we saw in a previous module.\n",
    "print('The callable functions of np_arrays are:')\n",
    "print([f for f in dir(my_np_array) if not f.startswith(\"_\")])\n",
    "print('The callable functions of lists are:')\n",
    "print([f for f in dir(my_list) if not f.startswith(\"_\")])"
   ]
  },
  {
   "cell_type": "markdown",
   "metadata": {
    "id": "9DKQJ6PQPC1z"
   },
   "source": [
    "\n",
    "Numpy arrays have way more functions associated with them than a regular list! Let's take a look at some of the more commonly used ones:\n",
    "\n",
    "Now that we have an array in memory, we can call functons to look at of it features. \n",
    "\n",
    "How big is it? What is its shape?  ```numpy``` has some useful methods to get information for all of these and many more.\n",
    "\n",
    "Here's some common ones:\n",
    "\n",
    "given ```arr = np.array([[0,1,2,3,4]])```\n",
    "\n",
    "| Method    | Description  | Result\n",
    "| ----------- | ----------- | ------------ |\n",
    "| arr.shape   |  returns a tuple of the size of each dimensions | ```(1,5) ```   |\n",
    "| arr.ndim | number of dimensions |```2 ```   |\n",
    "| arr.dtype   |  the datatype of the info inside the array | ```dtype('int64') ```    \n",
    "| arr.size | integer total entries of this array | ```5```  |  \n",
    "| arr.nbytes | the number of bytes in RAM consumed by storing only the information inside the array | ``` 40 ```|\n",
    "\n",
    "Let's try them out on our ndarray."
   ]
  },
  {
   "cell_type": "code",
   "execution_count": 6,
   "metadata": {
    "cellView": "form",
    "colab": {
     "base_uri": "https://localhost:8080/"
    },
    "id": "vPnY4LuYO8bM",
    "outputId": "7ead1820-c5fc-4e49-f895-dcad3eed6e61"
   },
   "outputs": [
    {
     "name": "stdout",
     "output_type": "stream",
     "text": [
      "The shape of the array is (5,) \n",
      "The ndim of the array is 1 dimensions\n",
      "The dtype of the array is int32 \n",
      "The size of the array is 5 elements\n",
      "The nbytes of the array is 20 bytes\n"
     ]
    }
   ],
   "source": [
    "# Let's start with a simple numpy array corresponding to an n-dimensional vector (like 'x' in the introduction).\n",
    "arr = np.array([0,1,2,3,4]) # 2 square brackets means a list of list\n",
    "\n",
    "# Here are some descriptions of the attributes of the array arranged in a dictionary with the attribute as the key,\n",
    "# and a description of the attribute as the value.\n",
    "desc = {'shape': '',\n",
    "    'ndim': 'dimensions',\n",
    "    'dtype': '',\n",
    "    'size': 'elements',\n",
    "    'nbytes':'bytes'}\n",
    "\n",
    "# And here are the results of the methods of the array arranged in a dictionary with the method as the key,\n",
    "# and the result of the method as the value.\n",
    "arr_methods = {'shape': arr.shape,\n",
    "    'ndim':arr.ndim,\n",
    "    'dtype':arr.dtype,\n",
    "    'size':arr.size,\n",
    "    'nbytes':arr.nbytes}\n",
    "\n",
    "# Now, let's run a loop to print out the results of the methods of the array.\n",
    "for x in [\"shape\", \"ndim\", \"dtype\",\"size\",\"nbytes\"]:\n",
    "    dropdown = x\n",
    "\n",
    "    print('The %s of the array is %s %s' % (dropdown, str(arr_methods[dropdown]), desc[dropdown] ))\n",
    "\n"
   ]
  },
  {
   "cell_type": "markdown",
   "metadata": {},
   "source": [
    "Try to adde a few more methods to the dictionaries above.  You can find a list of methods here:\n",
    " https://numpy.org/doc/stable/reference/arrays.ndarray.html#array-methods"
   ]
  },
  {
   "cell_type": "markdown",
   "metadata": {
    "id": "6PKZyosKS8nD"
   },
   "source": [
    "## **2.C.  Array allocation methods**\n",
    "\n",
    "```numpy``` also has some nice methods to preallocate arrays of any size or shape you wish, that you can then fill later with some values.\n",
    "\n",
    "| Method    | Description  | Examples  | Result\n",
    "| ----------- | ----------- | ------------ | ------------ |\n",
    "| np.zeros([n1,n2...]) |  Returns an ndim array of zeros  | ```np.zeros([10,10,10]) ```   | a (10 x 10 x 10) 3d array of zeros\n",
    "| np.ones([n1,n2...]) | Returns an ndim array of ones  |```np.ones([3,5]) ```   | a (3 x 5) 2d array of ones |\n",
    "| np.array([n1,n2...]) | converts an iterable to an array | ``np.array([1,2,3])``  |  a 1d array of [1,2,3] |\n",
    "| np.empty([n1,n2...]) | an empty ndim array | ``` np.empty([3,3]) ```| a (3 x 3) empty array - note values will be from whatever memory it allocated.\n",
    "\n",
    "Specific cases for easily allocating ranges/identity matrix\n",
    "\n",
    "| Method    | Description  | Examples  \n",
    "| ----------- | ----------- | ------------ |\n",
    "| np.linspace(start, stop, n_steps) | returns a linearly spaced array from start to stop with n_steps | ```np.linspace(0,10,11) ```  |  \n",
    "| np.logspace(start, stop, n_steps) | returns a linearly spaced array from 10^start to 10^stop with n_step | ``` np.logspace(0,10,11)```|\n",
    "| np.arange(stop,) | returns a linearly spaced array from a given start or 0 to stop with integer steps (or optional step sizes) | ``` np.arange(10)```  |\n",
    "| np.eye(N)   | gives a 2d identify matrix of NxN|  ```np.eye(3) ```   | a (3 x 3) identity matrix (diagonals are 1)\n",
    "\n",
    "Let's try some of these out."
   ]
  },
  {
   "cell_type": "code",
   "execution_count": 7,
   "metadata": {
    "colab": {
     "base_uri": "https://localhost:8080/"
    },
    "id": "fs7v6BGRbMYg",
    "outputId": "fe1d70ce-5385-47ad-f15c-724fc7838d7a"
   },
   "outputs": [
    {
     "name": "stdout",
     "output_type": "stream",
     "text": [
      "np.zeros([3,3]) makes an array of zeros:\n",
      " [[0. 0. 0.]\n",
      " [0. 0. 0.]\n",
      " [0. 0. 0.]]\n",
      "np.ones([3,3]) makes an array of ones:\n",
      " [[1. 1. 1.]\n",
      " [1. 1. 1.]\n",
      " [1. 1. 1.]]\n",
      "np.eye(3) makes an identity matrix:\n",
      " [[1. 0. 0.]\n",
      " [0. 1. 0.]\n",
      " [0. 0. 1.]]\n",
      "np.random.rand(3,3) makes a random array:\n",
      " [[0.11327662 0.00732399 0.27793638]\n",
      " [0.92446109 0.11728695 0.28449558]\n",
      " [0.67811959 0.90716144 0.10876767]]\n"
     ]
    }
   ],
   "source": [
    "# Here are some common 3x3 arrays.\n",
    "print(f'np.zeros([3,3]) makes an array of zeros:\\n {np.zeros([3,3])}')\n",
    "print(f'np.ones([3,3]) makes an array of ones:\\n {np.ones([3,3])}')\n",
    "print(f'np.eye(3) makes an identity matrix:\\n {np.eye(3)}')\n",
    "print(f'np.random.rand(3,3) makes a random array:\\n {np.random.rand(3,3)}')\n"
   ]
  },
  {
   "cell_type": "code",
   "execution_count": 8,
   "metadata": {},
   "outputs": [
    {
     "name": "stdout",
     "output_type": "stream",
     "text": [
      "np.array() of a list of lists\n",
      "[[0 1 2]\n",
      " [3 4 5]\n",
      " [6 7 8]]\n"
     ]
    }
   ],
   "source": [
    "# Here is a way to make a 3x3 array using a list of lists.\n",
    "list_of_lists = [ [y for y in range(3*x,3*x+3)] for x in range(0,3)]\n",
    "print('np.array() of a list of lists')\n",
    "print(np.array(list_of_lists ))"
   ]
  },
  {
   "cell_type": "code",
   "execution_count": 9,
   "metadata": {
    "colab": {
     "base_uri": "https://localhost:8080/"
    },
    "id": "_7DYx1D5cxLl",
    "outputId": "aee5e426-84aa-4960-a485-fb77f1c0a65c"
   },
   "outputs": [
    {
     "name": "stdout",
     "output_type": "stream",
     "text": [
      "np.linspace(start, stop, n_steps):\n",
      "[ 3.5      3.71875  3.9375   4.15625  4.375    4.59375  4.8125   5.03125\n",
      "  5.25     5.46875  5.6875   5.90625  6.125    6.34375  6.5625   6.78125\n",
      "  7.       7.21875  7.4375   7.65625  7.875    8.09375  8.3125   8.53125\n",
      "  8.75     8.96875  9.1875   9.40625  9.625    9.84375 10.0625  10.28125\n",
      " 10.5     10.71875 10.9375  11.15625 11.375   11.59375 11.8125  12.03125\n",
      " 12.25    12.46875 12.6875  12.90625 13.125   13.34375 13.5625  13.78125\n",
      " 14.     ]\n",
      "\n",
      "np.logspace(log10(start), log10(stop), n_steps -- in logspace):\n",
      "[ 3.5         3.60255783  3.70812083  3.81677706  3.92861717  4.04373444\n",
      "  4.1622249   4.2841874   4.40972367  4.53893844  4.67193949  4.80883777\n",
      "  4.94974747  5.09478614  5.24407477  5.39773789  5.55590368  5.71870409\n",
      "  5.88627491  6.05875593  6.23629103  6.4190283   6.60712019  6.80072359\n",
      "  7.          7.20511566  7.41624166  7.63355413  7.85723434  8.08746888\n",
      "  8.32444981  8.5683748   8.81944735  9.07787688  9.34387898  9.61767553\n",
      "  9.89949494 10.18957228 10.48814954 10.79547578 11.11180736 11.43740817\n",
      " 11.77254981 12.11751185 12.47258205 12.8380566  13.21424038 13.60144718\n",
      " 14.        ]\n",
      "\n",
      "np.arange(stop):\n",
      "[ 0  1  2  3  4  5  6  7  8  9 10 11 12 13]\n",
      "\n",
      "np.arange(start, stop):\n",
      "[ 3.5  4.5  5.5  6.5  7.5  8.5  9.5 10.5 11.5 12.5 13.5]\n"
     ]
    }
   ],
   "source": [
    "# Here is a way to make an an orderred array using linspace:\n",
    "start = 3.5\n",
    "stop = 14\n",
    "n_steps = 49\n",
    "\n",
    "print('np.linspace(start, stop, n_steps):')\n",
    "print(np.linspace(start, stop, n_steps))\n",
    "\n",
    "# We can also do it in logarithmic space:\n",
    "print('\\nnp.logspace(log10(start), log10(stop), n_steps -- in logspace):')\n",
    "print(np.logspace(np.log10(start), np.log10(stop), n_steps))\n",
    "\n",
    "# We can also do it in integer space starting at 0 using the np.arange() function:\n",
    "print('\\nnp.arange(stop):')\n",
    "print(np.arange(stop))\n",
    "\n",
    "# We can also do it in integer space starting at `start' using the np.arange() function:\n",
    "print('\\nnp.arange(start, stop):')\n",
    "print(np.arange(start, stop))"
   ]
  },
  {
   "cell_type": "markdown",
   "metadata": {},
   "source": [
    "***Note that when you use ```np.arrange```, the start can be a float, and the stop is not included in the array.*** \n",
    "\n",
    "### **Practice your understanding for numpy arrays**\n",
    "\n",
    "Complete the following quiz to practice your understanding of ```numpy``` arrays."
   ]
  },
  {
   "cell_type": "code",
   "execution_count": null,
   "metadata": {},
   "outputs": [
    {
     "name": "stdout",
     "output_type": "stream",
     "text": [
      "Which command would you use to perform the following numpy operations:\n",
      " create a diagonal matrix with the values 1, 2, 3 ?\n",
      "0: X = np.array([1,2,3])\n",
      "1: X = np.random.rand(3,4)\n",
      "2: X = np.diag([1,2,3])\n",
      "3: X.dtype\n",
      "4: X = np.logspace(0,np.log10(5),10)\n",
      "5: X.shape[1]\n"
     ]
    }
   ],
   "source": [
    "\n",
    "importlib.reload(BIOM480A5_Quizzes)\n",
    "from BIOM480A5_Quizzes import multiple_choice_quiz\n",
    "multiple_choice_quiz('numpy_arrays')"
   ]
  },
  {
   "cell_type": "markdown",
   "metadata": {
    "id": "dlES1vmKbOeS"
   },
   "source": [
    "## **2.D.  Array Manipulation using Slicing and Indexing**\n",
    "\n",
    "Just like we previously saw for lists, we will need to know how to ```index``` and ```slice``` numpy arrays. In addition to these, we will want to apply more mathematical operations known as ```broadcasting``` and ```reduction```."
   ]
  },
  {
   "cell_type": "markdown",
   "metadata": {},
   "source": [
    "Each dimension in a ```numpy``` array can be sliced or indexed just like we did previousy for python list:\n",
    "\n",
    "**array[ row, column, ...., n ]**\n",
    "\n",
    "For example, consider this array:\n",
    "\n",
    "```\n",
    "arr = np.array([[1,2,3], \\\n",
    "                [4,5,6], \\\n",
    "                [7,8,9]])\n",
    "```\n",
    "\n",
    "| Example    | Description  | Result  \n",
    "| ----------- | ----------- | ------------ |\n",
    "| arr[0] | row 0 | ``` [1,2,3] ```  |  \n",
    "| arr[0,0]| element in row 0, column 0 | ``` [1]```|\n",
    "| arr[:,0]| column 0 | ``` [1,4,7]```|\n",
    "| arr[0:2,0:2]| top left block of size 2 x 2 | ``` array([[1,2],[4,5]])```|\n",
    "| arr[::-1]| reverses the rows | ```[[7,8,9],[4,5,6],[1,2,3]] ```|\n",
    "| arr[::-1, ::-1]| reverses the rows AND columns | ```[[9,8,7],[6,5,4],[3,2,1]] ```|\n",
    "\n",
    "\n",
    "### **2.D.1. Indexing Arrays using Logicals**\n",
    "\n",
    "```numpy``` arrays will accept ```logical indexing``` or any indexing as long as the shape and maximum indices make sense for the original matrix.\n",
    "\n",
    "```Logical indexing```, also known as ```boolean indexing```, is a technique in Python (and other programming languages) used to select elements from an array or a sequence based on a condition. This condition is typically represented as a boolean array, where ```True``` indicates that the corresponding element should be selected, and ```False``` indicates that it should not.  In python, you can apply logical indexing to any or all of the dimensions of the original nparray.\n",
    "\n",
    "| Example    | Description  | Result  \n",
    "| ----------- | ----------- | ------------ |\n",
    "| arr[arr > 5 ]| returns all elements greater than 5| ```array([6, 7, 8, 9]) ```|  \n",
    "| arr[1][arr[1] > 5 ]| returns all elements in row 1 greater than 5| ```array([6]) ```|  \n",
    "\n",
    "In the first example, the indexing is over the whole matrix, and only the elements that satisfy the conditioons are returned. In the second example, the first row is selected first, and then logical indexing is only over the entries in that row.\n",
    "\n",
    "### **2.D.2. Other common manipulation methods:**\n",
    "\n",
    "| Method    | Description  | Examples  \n",
    "| ----------- | ----------- | ------------ |\n",
    "| arr.reshape() | will resize an array, the new size must have the same amount of elements!| ```arr.resize(1,9)```  |  \n",
    "| arr.T | transposes the array | ``` arr.T```|\n",
    "| np.expand_dims(array, axis) | adds an axis to a given array| ``` np.expand_dims(arr,axis=0)```|\n",
    "| arr.flatten()   | flattens an array to 1 dimension |  ```arr.flatten()```   |\n",
    "| np.diag(array,offset)   | gets the diagonal of an array based on offset from middle diag |  ```np.diag(arr,0)```   |\n",
    "| np.where(statement)   | returns indexes matching the statement |  ```np.where(arr < 5)```   |\n",
    "| np.at_least2d(arr)   | adds an axis to a 1d array if needed, leaves any ndim >= 2 alone|  ```np.atleast_2d(arr)```   |\n",
    "| np.tile(iterable, N) | repeat an iterable object N times along an axis | ``` np.tile(arr, N)```|\n",
    "| np.hstack(iterable of iterables) |Horizontally stack the arrays provided in an iterable (list of arrays) | ```np.hstack([arr1,arr2])``` |\n",
    "| np.vstack(iterable of iterables) | Vertically stack the arrays provided in an iterable (list of arrays) | ```np.vstack([arr1,arr2])```|\n",
    "| ___.astype(dtype) | convert a given array to a particular data type | ```np.array([1.2,1.4,1.5]).astype(int)```|\n",
    "| ___.tolist() | convert a given array to a python list or lists of lists| ```np.array([1.2,1.4,1.5]).tolist()```|"
   ]
  },
  {
   "cell_type": "code",
   "execution_count": null,
   "metadata": {
    "colab": {
     "base_uri": "https://localhost:8080/"
    },
    "id": "8NYrjNUngD-1",
    "outputId": "5fda1706-12f8-44dc-c621-4ffc62253f46"
   },
   "outputs": [],
   "source": [
    "# Let's try some of those out.\n",
    "arr = np.array([[1,2,3], \\\n",
    "                [4,5,6], \\\n",
    "                [7,8,9]])\n",
    "print('\\nOriginal:')\n",
    "print(arr)"
   ]
  },
  {
   "cell_type": "code",
   "execution_count": null,
   "metadata": {},
   "outputs": [],
   "source": [
    "# reshaping the array\n",
    "print('\\nReshaped:')\n",
    "print(arr.reshape(1,9))"
   ]
  },
  {
   "cell_type": "code",
   "execution_count": null,
   "metadata": {},
   "outputs": [],
   "source": [
    "# flattening the array\n",
    "print('\\nFlattened:')\n",
    "print(arr.flatten())"
   ]
  },
  {
   "cell_type": "code",
   "execution_count": null,
   "metadata": {},
   "outputs": [],
   "source": [
    "# transposing the array\n",
    "print('\\nTranspose:')\n",
    "print(arr.T)"
   ]
  },
  {
   "cell_type": "code",
   "execution_count": null,
   "metadata": {},
   "outputs": [],
   "source": [
    "# Adding an extra dimension to the front of the array.\n",
    "print('\\nadd an extra dimension to the FRONT:')\n",
    "print(np.expand_dims(arr, axis=0))\n",
    "\n",
    "# Adding an extra dimension to the end of the array.\n",
    "print('\\nadd an extra dimension to the END:')\n",
    "print(np.expand_dims(arr, axis=2))\n",
    "\n",
    "# Adding an extra dimension to the middle of the array.\n",
    "print('\\nadd an extra dimension to the MIDDLE:')\n",
    "print(np.expand_dims(arr, axis=1))\n",
    "\n",
    "# Note that this increases the number of dimensions by one, but does not change the lenghts in the other dimensions."
   ]
  },
  {
   "cell_type": "code",
   "execution_count": null,
   "metadata": {},
   "outputs": [],
   "source": [
    "# Grab the middle diagonal of a rectangular array.\n",
    "print('\\nmiddle diagonal:')\n",
    "print(np.diag(arr, 0))\n",
    "\n",
    "# Grab the diagonal just above the middle diagonal of a rectangular array.\n",
    "print('\\nabove middle diagonal:')\n",
    "print(np.diag(arr, 1))"
   ]
  },
  {
   "cell_type": "code",
   "execution_count": null,
   "metadata": {},
   "outputs": [],
   "source": [
    "# Find which elements are less than 5 using the np.where() function.\n",
    "print('\\nindexes of array where the element is less than 5:')\n",
    "row,col = np.where(arr < 5)\n",
    "print(f'rows:    {row}')\n",
    "print(f'columns: {col}')"
   ]
  },
  {
   "cell_type": "code",
   "execution_count": null,
   "metadata": {},
   "outputs": [],
   "source": [
    "# Change the data type to float64 (i.e, double precision floating point).\n",
    "print('\\nconvert the array to the floating point datatype')\n",
    "print(arr.astype(np.float64))"
   ]
  },
  {
   "cell_type": "code",
   "execution_count": null,
   "metadata": {},
   "outputs": [],
   "source": [
    "# Change the array into a list.\n",
    "print('\\nconvert the array to a python list')\n",
    "print(arr.tolist())"
   ]
  },
  {
   "cell_type": "markdown",
   "metadata": {},
   "source": [
    "### **Quiz to practice some basic numpy array slizing and manipulation commands**"
   ]
  },
  {
   "cell_type": "code",
   "execution_count": null,
   "metadata": {},
   "outputs": [],
   "source": [
    "importlib.reload(BIOM480A5_Quizzes)\n",
    "from BIOM480A5_Quizzes import multiple_choice_quiz\n",
    "multiple_choice_quiz('numpy_slicing')"
   ]
  },
  {
   "cell_type": "markdown",
   "metadata": {},
   "source": [
    "### **2.D.3.  Addiitonal Practice Using Logical Indexing to Manipulate Arrays**\n",
    "When procesing large amounts of data, we often want to perform the same task again and a gain to similar entries in a maxtrix or vector. Logical indexing is a fast and convenient way to accomplish such tasks.\n",
    "\n",
    "Below is an example that is very relevant to image processing.  We will take a matrix and perform a saturation operation that sets any number over a specific threshold to that threshold."
   ]
  },
  {
   "cell_type": "code",
   "execution_count": 4,
   "metadata": {},
   "outputs": [
    {
     "name": "stdout",
     "output_type": "stream",
     "text": [
      "Our Original matrix is:\n",
      " [[ 0  1  2  3  4  5  6  7  8  9 10 11 12 13 14]\n",
      " [ 3  4  5  6  7  8  9 10 11 12 13 14 15 16 17]\n",
      " [ 6  7  8  9 10 11 12 13 14 15 16 17 18 19 20]\n",
      " [ 9 10 11 12 13 14 15 16 17 18 19 20 21 22 23]\n",
      " [12 13 14 15 16 17 18 19 20 21 22 23 24 25 26]\n",
      " [15 16 17 18 19 20 21 22 23 24 25 26 27 28 29]\n",
      " [18 19 20 21 22 23 24 25 26 27 28 29 30 31 32]\n",
      " [21 22 23 24 25 26 27 28 29 30 31 32 33 34 35]\n",
      " [24 25 26 27 28 29 30 31 32 33 34 35 36 37 38]\n",
      " [27 28 29 30 31 32 33 34 35 36 37 38 39 40 41]\n",
      " [30 31 32 33 34 35 36 37 38 39 40 41 42 43 44]\n",
      " [33 34 35 36 37 38 39 40 41 42 43 44 45 46 47]]\n",
      "\n",
      "Our saturated matrix is:\n",
      " [[ 0  1  2  3  4  5  6  7  8  9 10 11 12 13 14]\n",
      " [ 3  4  5  6  7  8  9 10 11 12 13 14 15 15 15]\n",
      " [ 6  7  8  9 10 11 12 13 14 15 15 15 15 15 15]\n",
      " [ 9 10 11 12 13 14 15 15 15 15 15 15 15 15 15]\n",
      " [12 13 14 15 15 15 15 15 15 15 15 15 15 15 15]\n",
      " [15 15 15 15 15 15 15 15 15 15 15 15 15 15 15]\n",
      " [15 15 15 15 15 15 15 15 15 15 15 15 15 15 15]\n",
      " [15 15 15 15 15 15 15 15 15 15 15 15 15 15 15]\n",
      " [15 15 15 15 15 15 15 15 15 15 15 15 15 15 15]\n",
      " [15 15 15 15 15 15 15 15 15 15 15 15 15 15 15]\n",
      " [15 15 15 15 15 15 15 15 15 15 15 15 15 15 15]\n",
      " [15 15 15 15 15 15 15 15 15 15 15 15 15 15 15]]\n"
     ]
    }
   ],
   "source": [
    "# Example of applying a saturation function to a matrix.\n",
    "\n",
    "import numpy as np\n",
    "\n",
    "#Let's start with a large matrix:\n",
    "A = np.array([ [y for y in range(3*x,3*x+15)] for x in range(0,12)])\n",
    "print(f'Our Original matrix is:\\n {A}')\n",
    "\n",
    "# We will construct a new matrix B that is saturated at a value 15.  \n",
    "# That is, all numbers greater than 15 are set at 15.\n",
    "\n",
    "# Because we do not want to change A itself, we will start by making a copy.\n",
    "B = np.copy(A)\n",
    "\n",
    "# Now we can apply our logic:\n",
    "B[B>15]=15\n",
    "print(f'\\nOur saturated matrix is:\\n {B}')"
   ]
  },
  {
   "cell_type": "code",
   "execution_count": 5,
   "metadata": {},
   "outputs": [
    {
     "name": "stdout",
     "output_type": "stream",
     "text": [
      "\n",
      "Our reflected matrix is:\n",
      " [[ 0  1  2  3  4  5  6  7  8  9 10 11 12 13 14]\n",
      " [ 3  4  5  6  7  8  9 10 11 12 13 14 15 14 13]\n",
      " [ 6  7  8  9 10 11 12 13 14 15 14 13 12 11 10]\n",
      " [ 9 10 11 12 13 14 15 14 13 12 11 10  9  8  7]\n",
      " [12 13 14 15 14 13 12 11 10  9  8  7  6  5  4]\n",
      " [15 14 13 12 11 10  9  8  7  6  5  4  3  2  1]\n",
      " [12 11 10  9  8  7  6  5  4  3  2  1  0  1  2]\n",
      " [ 9  8  7  6  5  4  3  2  1  0  1  2  3  4  5]\n",
      " [ 6  5  4  3  2  1  0  1  2  3  4  5  6  7  8]\n",
      " [ 3  2  1  0  1  2  3  4  5  6  7  8  9 10 11]\n",
      " [ 0  1  2  3  4  5  6  7  8  9 10 11 12 13 14]\n",
      " [ 3  4  5  6  7  8  9 10 11 12 13 14 15 14 13]]\n"
     ]
    }
   ],
   "source": [
    "# make a contour plot of the matrix A\n",
    "plt.contourf(C)\n",
    "plt.colorbar()\n",
    "plt.title('Original Matrix')\n",
    "plt.show()"
   ]
  },
  {
   "cell_type": "code",
   "execution_count": null,
   "metadata": {},
   "outputs": [],
   "source": [
    "# Let's try another example, but this time we will reflect the values of the matrix about 0 and 15.\n",
    "\n",
    "# This time, we want a matrix 'C' where all values are between 0 and 15, but\n",
    "# when the numbers exceed those limits, we reflect their values (e.g., 17 which is 2 greater than 15\n",
    "# becomes 13 which is two less than 15, or -6 which is 6 less than zero becomes 6).  For very large \n",
    "# or very small numbers, we may need to run multiple rounds of reflection, so we will use a while loop.\n",
    "C = np.copy(A)\n",
    "while (np.max(np.abs(C)))>15:\n",
    "    C[C>15] = 30 - C[C>15]\n",
    "    C[C<0] = -C[C<0]\n",
    "print(f'\\nOur reflected matrix is:\\n {C}')"
   ]
  },
  {
   "cell_type": "markdown",
   "metadata": {},
   "source": [
    "## **2.E. Creating ndarrays using Broadcasting** \n",
    "\n",
    "```Broadcasting``` is a powerful feature in ```NumPy``` that allows operations on arrays of different shapes in a way that would otherwise require making copies of data. It enables element-wise operations without the need for explicit looping or reshaping.\n",
    "\n",
    "**How Broadcasting Works**:\n",
    "* *Alignment*: NumPy aligns the shapes of the arrays by adding dimensions of size 1 where necessary.\n",
    "* *Replication*: NumPy replicates the smaller array along the newly added dimensions to match the shape of the larger array.\n",
    "* *Element-wise Operation*: The operation is performed element-wise on the resulting arrays.\n",
    "\n",
    "**Rules for Broadcasting**:\n",
    "* *Compatibility*: Two dimensions are compatible when they are equal or one of them is 1.\n",
    "* *Shape Alignment*: Starting from the trailing dimensions, NumPy compares the shapes and applies the broadcasting rules.\n",
    "\n",
    "Let's try it out."
   ]
  },
  {
   "cell_type": "code",
   "execution_count": 6,
   "metadata": {},
   "outputs": [
    {
     "name": "stdout",
     "output_type": "stream",
     "text": [
      "Our original arrays are:\n",
      " A = [[1]\n",
      " [2]\n",
      " [3]\n",
      " [4]\n",
      " [5]]\n",
      " B = [[1 2 3]]\n",
      "The broadcast sum of the two arrays is:\n",
      " [[2 3 4]\n",
      " [3 4 5]\n",
      " [4 5 6]\n",
      " [5 6 7]\n",
      " [6 7 8]]\n"
     ]
    }
   ],
   "source": [
    "# Broadcasting example 1.\n",
    "# We are going to start with a 5x1 array and a 1x3 array, and we will add them \n",
    "# together so that the new array is 5x3, and it will be the sum of the two arrays.\n",
    "A = np.array([[1],[2],[3],[4],[5]])\n",
    "B = np.array([[1,2,3]])\n",
    "\n",
    "print(f'Our original arrays are:\\n A = {A}\\n B = {B}')\n",
    "print(f'The broadcast sum of the two arrays is:\\n {A+B}')"
   ]
  },
  {
   "cell_type": "code",
   "execution_count": 7,
   "metadata": {},
   "outputs": [
    {
     "name": "stdout",
     "output_type": "stream",
     "text": [
      "Our original arrays are:\n",
      " A = [[ 1  2  3]\n",
      " [ 4  5  6]\n",
      " [ 7  8  9]\n",
      " [10 11 12]\n",
      " [13 14 15]]\n",
      " B = [[3 8 1]]\n",
      "The broadcast maximum of the two arrays is:\n",
      " [[ 3  8  3]\n",
      " [ 4  8  6]\n",
      " [ 7  8  9]\n",
      " [10 11 12]\n",
      " [13 14 15]]\n",
      "Notice that all the columns of the result are at least as big as the corresponding column of B\n"
     ]
    }
   ],
   "source": [
    "# Broadcasting example 2.\n",
    "# We are going to start with a 5x3 array and a 1x3 array, and we will now take the\n",
    "# maximum of the two arrays so that the new array is 5x3, and it will be the maximum\n",
    "# of the two arrays.\n",
    "A = np.array([[1,2,3],[4,5,6],[7,8,9],[10,11,12],[13,14,15]])\n",
    "B = np.array([[3,8,1]])\n",
    "\n",
    "print(f'Our original arrays are:\\n A = {A}\\n B = {B}')\n",
    "print(f'The broadcast maximum of the two arrays is:\\n {np.maximum(A,B)}')\n",
    "\n",
    "print('Notice that all the columns of the result are at least as big as the corresponding column of B')"
   ]
  },
  {
   "cell_type": "markdown",
   "metadata": {},
   "source": [
    "At some point in the course, you are going to encounter errors telling you that there is a problem broadcasting.  For example:\n",
    "\n",
    "```ValueError: operands could not be broadcast together with shapes (3,) (2,)```"
   ]
  },
  {
   "cell_type": "code",
   "execution_count": 8,
   "metadata": {},
   "outputs": [
    {
     "ename": "ValueError",
     "evalue": "operands could not be broadcast together with shapes (5,3) (1,2) ",
     "output_type": "error",
     "traceback": [
      "\u001b[1;31m---------------------------------------------------------------------------\u001b[0m",
      "\u001b[1;31mValueError\u001b[0m                                Traceback (most recent call last)",
      "Cell \u001b[1;32mIn[8], line 5\u001b[0m\n\u001b[0;32m      2\u001b[0m A \u001b[38;5;241m=\u001b[39m np\u001b[38;5;241m.\u001b[39marray([[\u001b[38;5;241m1\u001b[39m,\u001b[38;5;241m2\u001b[39m,\u001b[38;5;241m3\u001b[39m],[\u001b[38;5;241m4\u001b[39m,\u001b[38;5;241m5\u001b[39m,\u001b[38;5;241m6\u001b[39m],[\u001b[38;5;241m7\u001b[39m,\u001b[38;5;241m8\u001b[39m,\u001b[38;5;241m9\u001b[39m],[\u001b[38;5;241m10\u001b[39m,\u001b[38;5;241m11\u001b[39m,\u001b[38;5;241m12\u001b[39m],[\u001b[38;5;241m13\u001b[39m,\u001b[38;5;241m14\u001b[39m,\u001b[38;5;241m15\u001b[39m]])\n\u001b[0;32m      3\u001b[0m B \u001b[38;5;241m=\u001b[39m np\u001b[38;5;241m.\u001b[39marray([[\u001b[38;5;241m3\u001b[39m,\u001b[38;5;241m8\u001b[39m]])\n\u001b[1;32m----> 5\u001b[0m \u001b[38;5;28mprint\u001b[39m(\u001b[38;5;124mf\u001b[39m\u001b[38;5;124m'\u001b[39m\u001b[38;5;124mThe broadcast maximum of the two arrays is:\u001b[39m\u001b[38;5;130;01m\\n\u001b[39;00m\u001b[38;5;124m \u001b[39m\u001b[38;5;132;01m{\u001b[39;00mnp\u001b[38;5;241m.\u001b[39mmaximum(A,B)\u001b[38;5;132;01m}\u001b[39;00m\u001b[38;5;124m'\u001b[39m)\n",
      "\u001b[1;31mValueError\u001b[0m: operands could not be broadcast together with shapes (5,3) (1,2) "
     ]
    }
   ],
   "source": [
    "# Here is an example that gives a ValueError because the arrays are not compatible for broadcasting.\n",
    "A = np.array([[1,2,3],[4,5,6],[7,8,9],[10,11,12],[13,14,15]])\n",
    "B = np.array([[3,8]])\n",
    "\n",
    "print(f'The broadcast maximum of the two arrays is:\\n {np.maximum(A,B)}')"
   ]
  },
  {
   "cell_type": "markdown",
   "metadata": {},
   "source": [
    "## **2.F. Reducing Arrays using Mathematical Operations**\n",
    "\n",
    "Array ```reduction``` methods in Python, particularly in ```NumPy```, are used to perform operations that reduce the dimensions of an array by ```aggregating``` its elements. These methods typically operate along specified axes and include operations like ```summing```, ```finding``` the minimum or maximum, and computing the mean or other summary statistics. \n",
    "\n",
    "These reduction methods will essential for data analysis and manipulation, allowing you to summarize and aggregate data very efficiently. \n",
    "\n",
    "Please note that these operations can be applied to multi-dimensional arrays by specifying the axis along which the reduction should occur.\n",
    "\n",
    "Here are some common array reduction methods:"
   ]
  },
  {
   "cell_type": "code",
   "execution_count": 9,
   "metadata": {},
   "outputs": [
    {
     "name": "stdout",
     "output_type": "stream",
     "text": [
      "The sum of all the elements of the array is 45\n",
      "The sum of the elements of the array along the columns is [12 15 18]\n",
      "The sum of the elements of the array along the rows is [ 6 15 24]\n"
     ]
    }
   ],
   "source": [
    "# Illustration of common nparray reduction methods\n",
    "\n",
    "# Let's start with a 3x3 array.\n",
    "A = np.array([[1,2,3],[4,5,6],[7,8,9]])\n",
    "\n",
    "# Sum all the elements of the array.\n",
    "print(f'The sum of all the elements of the array is {np.sum(A)}')\n",
    "\n",
    "# Sum the elements of the array along the columns.\n",
    "print(f'The sum of the elements of the array along the columns is {np.sum(A, axis=0)}') # sum up and down\n",
    "\n",
    "# Sum the elements of the array along the rows.\n",
    "print(f'The sum of the elements of the array along the rows is {np.sum(A, axis=1)}') # sum left to right"
   ]
  },
  {
   "cell_type": "code",
   "execution_count": 10,
   "metadata": {},
   "outputs": [
    {
     "name": "stdout",
     "output_type": "stream",
     "text": [
      "The minimum of all the elements of the array is 1\n",
      "The minimum of the elements of the array along the columns is [1 2 3]\n",
      "The maximum of the elements of the array along the rows is [3 6 9]\n"
     ]
    }
   ],
   "source": [
    "# Find the minimum of all the elements of the array.\n",
    "print(f'The minimum of all the elements of the array is {np.min(A)}')\n",
    "\n",
    "# Find the minimum of the elements of the array along the columns.\n",
    "print(f'The minimum of the elements of the array along the columns is {np.min(A, axis=0)}')\n",
    "\n",
    "# Find the maximum of the elements of the array along the rows.\n",
    "print(f'The maximum of the elements of the array along the rows is {np.max(A, axis=1)}')"
   ]
  },
  {
   "cell_type": "code",
   "execution_count": 11,
   "metadata": {},
   "outputs": [
    {
     "name": "stdout",
     "output_type": "stream",
     "text": [
      "The product of all the elements of the array is 362880\n",
      "The product of the elements of the array along the columns is [ 28  80 162]\n"
     ]
    }
   ],
   "source": [
    "# Find the product of all the elements of the array.\n",
    "print(f'The product of all the elements of the array is {np.prod(A)}')\n",
    "\n",
    "# Find the product of the elements of the array along the columns.\n",
    "print(f'The product of the elements of the array along the columns is {np.prod(A, axis=0)}')"
   ]
  },
  {
   "cell_type": "code",
   "execution_count": 12,
   "metadata": {},
   "outputs": [
    {
     "name": "stdout",
     "output_type": "stream",
     "text": [
      "The mean of all the elements of the array is 5.0\n",
      "The standard deviation of the elements of the array along the rows is [0.81649658 0.81649658 0.81649658]\n"
     ]
    }
   ],
   "source": [
    "# Find the mean of all the elements of the array.\n",
    "print(f'The mean of all the elements of the array is {np.mean(A)}')\n",
    "\n",
    "# Find the std of the elements of the array along the rows.\n",
    "print(f'The standard deviation of the elements of the array along the rows is {np.std(A, axis=1)}')"
   ]
  },
  {
   "cell_type": "markdown",
   "metadata": {},
   "source": [
    "## **A Helpful Cheatsheet for Numpy Array Manipulations.**\n",
    "As we wrap up this section on creating and manipulating ndarrays, here is a cheatsheet that shows a many of the tools and techniques we will have explored including ```index```, ```reshape```, ```broadcasting``` and ```reduce```  ndarrays.  You might find this to be a valuable resource.\n",
    "\n",
    "[Numpy Documentation](https://numpy.org/doc/stable/user/whatisnumpy.html)\n",
    "\n",
    "\n",
    "<img align=\"right\" src = \"https://media.springernature.com/full/springer-static/image/art%3A10.1038%2Fs41586-020-2649-2/MediaObjects/41586_2020_2649_Fig1_HTML.png?as=webp\" >"
   ]
  },
  {
   "cell_type": "markdown",
   "metadata": {
    "id": "R6LBk0wFfD4-"
   },
   "source": [
    "## **Questions and practice**\n",
    "Answer the following questions to solidify your understanding of this material. \n",
    "You should now also be able to answer questions Q6 - Q9 in Homework 2."
   ]
  },
  {
   "cell_type": "code",
   "execution_count": 29,
   "metadata": {
    "id": "4kkYmBPkp_hc"
   },
   "outputs": [],
   "source": [
    "## Generate an array of all zeros of shape 3,3,3,3. Double check that the shape is that using\n",
    "## the internal shape function. Convert this array to an integer array."
   ]
  },
  {
   "cell_type": "code",
   "execution_count": 30,
   "metadata": {
    "id": "GWhQdm2kq0he"
   },
   "outputs": [],
   "source": [
    "## Generate a 4x4 Identity matrix and then remove the final row."
   ]
  },
  {
   "cell_type": "code",
   "execution_count": 31,
   "metadata": {
    "id": "_P0fdehbrEeP"
   },
   "outputs": [],
   "source": [
    "## Repeat the following array vertically 5 times to end up with a 5x3 matrix\n",
    "arr1 = np.array([[1,2,3]])"
   ]
  },
  {
   "cell_type": "code",
   "execution_count": 32,
   "metadata": {
    "id": "w0y4HAMgeula"
   },
   "outputs": [],
   "source": [
    "## transpose the following numpy array\n",
    "arr2 = np.array([[1,2,3],\n",
    "                 [4,5,6]])"
   ]
  },
  {
   "cell_type": "code",
   "execution_count": 33,
   "metadata": {
    "id": "hxBIIS_urcM3"
   },
   "outputs": [],
   "source": [
    "## Use array logicals to return a flattened array of values greater than 0 in the following array\n",
    "## Take the sum of all the negative values obtained from the logical operation.\n",
    "arr3 = np.array([[-1, 2, 3, -31, -0.3 ],\n",
    "                 [4, 0, 5, 39.3, -37,]])"
   ]
  },
  {
   "cell_type": "code",
   "execution_count": 34,
   "metadata": {
    "id": "J5N9AFcir26e"
   },
   "outputs": [],
   "source": [
    "## use np.where to find any indexes in the following array that is equal to zero\n",
    "arr4 = np.array([[-1, 2, 3, -31, 0 ],\n",
    "                 [4, 0, 5, 39.3,-37,],\n",
    "                 [5, 4, 0, 0, 1] ])"
   ]
  },
  {
   "cell_type": "code",
   "execution_count": 35,
   "metadata": {
    "id": "fnOEzvm6sIUf"
   },
   "outputs": [],
   "source": [
    "## use np.sum with the correct axis=? argument to take the sum of the following array\n",
    "## along each column\n",
    "\n",
    "arr5 = np.array([[-1, 2, 3, -31, 13 ],\n",
    "                 [14, 0, 5, 39.3,-37,],\n",
    "                 [5, -3, 0, 0, 1] ])"
   ]
  },
  {
   "cell_type": "markdown",
   "metadata": {
    "id": "BMUi9_rxeu_F"
   },
   "source": [
    "# **3. Linear Algebra Calculations in Numpy**\n",
    "\n",
    "Now that we know how to create and manipulate ndarrays, let's explore how to use them to actually solve some liear equations."
   ]
  },
  {
   "cell_type": "markdown",
   "metadata": {
    "id": "Hs_77nq8eNKk"
   },
   "source": [
    "## **3.A.  Matrix Addition and Multiplication with Numpy**\n",
    "\n",
    "NumPy provides a fast implementation of many linear algebra functions stored in ```np.linalg```.\n",
    "\n",
    "```numpy``` arrays also can be treated as matrices for arithmetic operations!\n",
    "Heres some examples of some basic arithmetic operations with two 2x2 matrices:"
   ]
  },
  {
   "cell_type": "code",
   "execution_count": null,
   "metadata": {
    "cellView": "form",
    "colab": {
     "base_uri": "https://localhost:8080/"
    },
    "id": "fL8ejwYwzGMp",
    "outputId": "5d24a550-005d-43ec-ff2a-ce2e6642fde9"
   },
   "outputs": [],
   "source": [
    "# Create a couple square matrices.\n",
    "A = np.array([[1, 2],\n",
    "              [3, 4]]) #matrix 1\n",
    "\n",
    "B = np.array([[5, 6],\n",
    "              [7, 8]]) #matrix 2\n",
    "n = 5\n",
    "\n",
    "# Now we can perform some operations on these matrices. To demonstrate this,\n",
    "# let's create a dictionary of examples, where the key is the operation, and \n",
    "# the value is the result of the operation.\n",
    "examples = {'matrix multiplication (inner product)': A @ B, # (dot product)\n",
    "            'element-wise multiplication': A * B,\n",
    "            'element-wise division': A/B,\n",
    "            'scalar multiplication': n*A,\n",
    "            'matrix subtraction': A - B,\n",
    "            'matrix addition': A + B,\n",
    "            'scalar addition': n + A,\n",
    "            }\n",
    "examples_str = {'matrix multiplication (inner product)': 'A @ B:',\n",
    "                'element-wise multiplication': 'A * B:',\n",
    "                'element-wise division': 'A / B',\n",
    "            'scalar multiplication': 'n*A',\n",
    "            'matrix subtraction': 'A - B:',\n",
    "            'matrix addition': 'A + B:',\n",
    "            'scalar addition': 'n + A',\n",
    "            }\n",
    "\n",
    "print(f'A:\\n{A}\\n')\n",
    "print(f'B:\\n{B}\\n')\n",
    "\n",
    "for dropdown in [\"matrix multiplication (inner product)\",\"element-wise multiplication\",\n",
    "                \"element-wise division\",\"scalar multiplication\", \"matrix subtraction\",\n",
    "                \"matrix addition\",\"scalar addition\"]:\n",
    "\n",
    "    print(f'The result of the {dropdown} operation ({examples_str[dropdown]}) is:\\n')\n",
    "    print(f'{examples[dropdown]}\\n')"
   ]
  },
  {
   "cell_type": "markdown",
   "metadata": {},
   "source": [
    "**Please note that the standard matrix-matrix multiplication of [A] and [B] (i.e., the ```inner product```) is given by A@B!  This is very different than for Matlab!**"
   ]
  },
  {
   "cell_type": "markdown",
   "metadata": {},
   "source": [
    "## **3.B. Solving Linear Equations**\n",
    "\n",
    "In many engineering tasks, you will need to solve a system of ```linear equations``` represented by $\\mathbf{Ax} = \\mathbf{b}$, where ($\\mathbf{A}$) is a matrix of coefficients, ($\\mathbf{x}$) is a vector of unknowns, and ($\\mathbf{b}$) is a vector of constants.\n",
    "\n",
    "To accomplish this task, you can use various methods in Python, particularly with the help of NumPy. Here are some examples of methods to solve such equations:"
   ]
  },
  {
   "cell_type": "code",
   "execution_count": 14,
   "metadata": {},
   "outputs": [
    {
     "name": "stdout",
     "output_type": "stream",
     "text": [
      "The solution to the system of linear equations is: x = 0.5, y = -1.2500000000000004, z = 6.750000000000001\n"
     ]
    }
   ],
   "source": [
    "# Solving linear equation using NumPy's numpy.linalg.solve Method\n",
    "# Let's solve the following system of linear equations:\n",
    "# 3x + 4y + 2z = 10\n",
    "# 2x + 5y + 3z = 15\n",
    "# x + y + z = 6\n",
    "\n",
    "# We can represent this system of equations as a matrix equation Ax = b, where:\n",
    "# A = [[3, 4, 2], [2, 5, 3], [1, 1, 1]]\n",
    "# x = [[x], [y], [z]]\n",
    "# b = [[10], [15], [6]]\n",
    "\n",
    "# Let's define the matrix A and the vector b.\n",
    "A = np.array([[3, 4, 2], [2, 5, 3], [1, 1, 1]])\n",
    "b = np.array([10, 15, 6])\n",
    "\n",
    "# Now, we can solve the system of linear equations using NumPy's numpy.linalg.solve method.\n",
    "x = np.linalg.solve(A, b)\n",
    "\n",
    "# The solution x represents the values of x, y, and z that satisfy the system of linear equations.\n",
<<<<<<< HEAD
    "print(f'The solution to the system of linear equations is: x = {x[0]}, y = {x[1]}, z = {x[2]}')\n",
    "\n"
=======
    "print(f'The solution to the system of linear equations is: x = {x[0]}, y = {x[1]}, z = {x[2]}')"
>>>>>>> upstream/main
   ]
  },
  {
   "cell_type": "code",
<<<<<<< HEAD
   "execution_count": 15,
   "metadata": {},
   "outputs": [
    {
     "name": "stdout",
     "output_type": "stream",
     "text": [
      "Verifying the solution:\n",
      "3x + 4y + 2z = 10.0 (should be 10)\n",
      "2x + 5y + 3z = 15.000000000000002 (should be 15)\n",
      "x + y + z = 6.0 (should be 6)\n"
     ]
    }
   ],
   "source": [
=======
   "execution_count": null,
   "metadata": {},
   "outputs": [],
   "source": [
    "\n",
>>>>>>> upstream/main
    "# Let's verify the solution by substituting the values of x, y, and z back into the original equations.\n",
    "x, y, z = x\n",
    "eq1 = 3*x + 4*y + 2*z\n",
    "eq2 = 2*x + 5*y + 3*z\n",
    "eq3 = x + y + z\n",
    "\n",
    "print(f'Verifying the solution:')\n",
    "print(f'3x + 4y + 2z = {eq1} (should be 10)')\n",
    "print(f'2x + 5y + 3z = {eq2} (should be 15)')\n",
    "print(f'x + y + z = {eq3} (should be 6)')\n",
    "\n",
    "# Notice how we defined all the variables in one line. This is called tuple unpacking."
   ]
  },
  {
   "cell_type": "markdown",
   "metadata": {},
   "source": [
    "**Handling Singular Matrices**:\n",
    "If the matrix ($\\mathbf{A})$ is singular (i.e., it does not have an inverse), then ```np.linalg.solve``` will raise a ```LinAlgError```.\n",
    "\n",
    "In this case, there may be either **an infinite** number of exact solutions, or there are **no** exact solutions that will satisfy all equations at the same time. Let's see some examples:"
   ]
  },
  {
   "cell_type": "code",
<<<<<<< HEAD
   "execution_count": 16,
=======
   "execution_count": 60,
>>>>>>> upstream/main
   "metadata": {},
   "outputs": [],
   "source": [
    "# Example of least squares fitting using NumPy's numpy.linalg.lstsq Method\n",
    "# Let's start wit the same system of linear equations as before:\n",
    "# 3x + 4y + 2z = 10\n",
    "# 2x + 5y + 3z = 15\n",
    "# x + y + z = 6\n",
    "# but this time, let's add two more equations:\n",
    "# 4x + 3y + 5z = 20\n",
    "# 5x + 6y + 4z = 25\n",
    "\n",
    "# We can represent this system of equations as a matrix equation Ax = b, where:\n",
    "# A2 = [[3, 4, 2], [2, 5, 3], [1, 1, 1], [4, 3, 5], [5, 6, 4]]\n",
    "# x = [[x], [y], [z]]\n",
    "\n",
    "# Let's define the matrix A and the vector b.\n",
    "A2 = np.array([[3, 4, 2], [2, 5, 3], [1, 1, 1], [4, 3, 5], [5, 6, 4]])\n",
    "b2 = np.array([10, 15, 6, 20, 25])"
   ]
  },
  {
   "cell_type": "code",
   "execution_count": 17,
   "metadata": {},
   "outputs": [
    {
     "ename": "LinAlgError",
     "evalue": "Last 2 dimensions of the array must be square",
     "output_type": "error",
     "traceback": [
      "\u001b[1;31m---------------------------------------------------------------------------\u001b[0m",
      "\u001b[1;31mLinAlgError\u001b[0m                               Traceback (most recent call last)",
      "Cell \u001b[1;32mIn[17], line 2\u001b[0m\n\u001b[0;32m      1\u001b[0m \u001b[38;5;66;03m# Lets see what happens when we try to solve the system of equations using numpy.linalg.solve.\u001b[39;00m\n\u001b[1;32m----> 2\u001b[0m x2 \u001b[38;5;241m=\u001b[39m \u001b[43mnp\u001b[49m\u001b[38;5;241;43m.\u001b[39;49m\u001b[43mlinalg\u001b[49m\u001b[38;5;241;43m.\u001b[39;49m\u001b[43msolve\u001b[49m\u001b[43m(\u001b[49m\u001b[43mA2\u001b[49m\u001b[43m,\u001b[49m\u001b[43m \u001b[49m\u001b[43mb2\u001b[49m\u001b[43m)\u001b[49m\n",
      "File \u001b[1;32mc:\\Users\\LKBra\\Desktop\\envs\\BIOM480A5\\lib\\site-packages\\numpy\\linalg\\linalg.py:396\u001b[0m, in \u001b[0;36msolve\u001b[1;34m(a, b)\u001b[0m\n\u001b[0;32m    394\u001b[0m a, _ \u001b[38;5;241m=\u001b[39m _makearray(a)\n\u001b[0;32m    395\u001b[0m _assert_stacked_2d(a)\n\u001b[1;32m--> 396\u001b[0m \u001b[43m_assert_stacked_square\u001b[49m\u001b[43m(\u001b[49m\u001b[43ma\u001b[49m\u001b[43m)\u001b[49m\n\u001b[0;32m    397\u001b[0m b, wrap \u001b[38;5;241m=\u001b[39m _makearray(b)\n\u001b[0;32m    398\u001b[0m t, result_t \u001b[38;5;241m=\u001b[39m _commonType(a, b)\n",
      "File \u001b[1;32mc:\\Users\\LKBra\\Desktop\\envs\\BIOM480A5\\lib\\site-packages\\numpy\\linalg\\linalg.py:213\u001b[0m, in \u001b[0;36m_assert_stacked_square\u001b[1;34m(*arrays)\u001b[0m\n\u001b[0;32m    211\u001b[0m m, n \u001b[38;5;241m=\u001b[39m a\u001b[38;5;241m.\u001b[39mshape[\u001b[38;5;241m-\u001b[39m\u001b[38;5;241m2\u001b[39m:]\n\u001b[0;32m    212\u001b[0m \u001b[38;5;28;01mif\u001b[39;00m m \u001b[38;5;241m!=\u001b[39m n:\n\u001b[1;32m--> 213\u001b[0m     \u001b[38;5;28;01mraise\u001b[39;00m LinAlgError(\u001b[38;5;124m'\u001b[39m\u001b[38;5;124mLast 2 dimensions of the array must be square\u001b[39m\u001b[38;5;124m'\u001b[39m)\n",
      "\u001b[1;31mLinAlgError\u001b[0m: Last 2 dimensions of the array must be square"
     ]
    }
   ],
   "source": [
    "# Lets see what happens when we try to solve the system of equations using numpy.linalg.solve.\n",
    "x2 = np.linalg.solve(A2, b2)\n",
    "\n",
    "# We can see that we get a ValueError because the system of equations is overdetermined, meaning\n",
    "# that there are more equations than unknowns. "
   ]
  },
  {
   "cell_type": "code",
   "execution_count": 19,
   "metadata": {},
   "outputs": [
    {
     "name": "stdout",
     "output_type": "stream",
     "text": [
      "The solution to the least squares problem is: x = [1.45255474 0.96715328 2.41970803]\n"
     ]
    }
   ],
   "source": [
    "# Now, although we cannot find an exact solutions, we can find a \"best\" solution for\n",
    "#  the system of linear equations using NumPy's numpy.linalg.lstsq method.\n",
    "x, residuals, rank, s = np.linalg.lstsq(A2, b2, rcond=None)\n",
    "\n",
    "# The solution x represents the values of x, y, and z that minimize the sum of the \n",
    "# squared residuals.\n",
    "print(f'The solution to the least squares problem is: x = {x}')\n"
   ]
  },
  {
   "cell_type": "code",
<<<<<<< HEAD
   "execution_count": 20,
   "metadata": {},
   "outputs": [
    {
     "name": "stdout",
     "output_type": "stream",
     "text": [
      "Verifying the solution:\n",
      "3x + 4y + 2z = 13.065693430656935 (should be about 10)\n",
      "2x + 5y + 3z = 15.000000000000004 (should be about 15)\n",
      "x + y + z = 4.8394160583941614 (should be about 6)\n",
      "4x + 3y + 5z = 20.810218978102192 (should be about 20)\n",
      "5x + 6y + 4z = 22.744525547445257 (should be about 25)\n",
      "The total squared error is: 16.48905109489048\n"
     ]
    }
   ],
=======
   "execution_count": null,
   "metadata": {},
   "outputs": [],
>>>>>>> upstream/main
   "source": [
    "\n",
    "# Let's verify the solution by substituting the values of x, y, and z back into the original equations.\n",
    "x, y, z = x\n",
    "eq1 = 3*x + 4*y + 2*z\n",
    "eq2 = 2*x + 5*y + 3*z\n",
    "eq3 = x + y + z\n",
    "eq4 = 4*x + 3*y + 5*z\n",
    "eq5 = 5*x + 6*y + 4*z\n",
    "\n",
    "print(f'Verifying the solution:')\n",
    "print(f'3x + 4y + 2z = {eq1} (should be about 10)')\n",
    "print(f'2x + 5y + 3z = {eq2} (should be about 15)')\n",
    "print(f'x + y + z = {eq3} (should be about 6)')\n",
    "print(f'4x + 3y + 5z = {eq4} (should be about 20)')\n",
    "print(f'5x + 6y + 4z = {eq5} (should be about 25)')\n",
    "\n",
    "# Total Squared Error\n",
    "total_squared_error = residuals[0]\n",
    "print(f'The total squared error is: {total_squared_error}')"
   ]
  },
  {
   "cell_type": "code",
<<<<<<< HEAD
   "execution_count": 21,
=======
   "execution_count": 65,
>>>>>>> upstream/main
   "metadata": {},
   "outputs": [],
   "source": [
    "# Example of a linear equation where the solution is not unique\n",
    "# Let's consider the following system of linear equations:\n",
    "# x + y + z = 6\n",
    "# 2x + 2y + z = 12\n",
    "# 3x + 3y + 2z = 18\n",
    "\n",
    "# We can represent this system of equations as a matrix equation A3x = b3, where:\n",
    "# A3 = [[1, 1, 1], [2, 2, 1], [3, 3, 1]]\n",
    "# x = [[x], [y], [z]]\n",
    "\n",
    "# Let's define the matrix A and the vector b.\n",
    "A3 = np.array([[1, 1, 1], [2, 2, 1], [3, 3, 2]])\n",
    "b3 = np.array([6, 12, 18])"
   ]
  },
  {
   "cell_type": "code",
   "execution_count": 22,
   "metadata": {},
   "outputs": [
    {
     "name": "stdout",
     "output_type": "stream",
     "text": [
      "The solution to the system of linear equations is: x = 0.0, y = 6.0, z = 0.0\n"
     ]
    }
   ],
   "source": [
    "# Let's try to solve the system of linear equations using NumPy's numpy.linalg.solve method.\n",
    "x = np.linalg.solve(A3, b3)\n",
    "print(f'The solution to the system of linear equations is: x = {x[0]}, y = {x[1]}, z = {x[2]}')\n",
    "\n",
    "# in this case, the system of linear equations does not have a unique solution because the third \n",
    "# equation is a linear combination of the first two equations. This means that the third equation\n",
    "# does not provide any new information and is redundant."
   ]
  },
  {
   "cell_type": "code",
   "execution_count": 23,
   "metadata": {},
   "outputs": [
    {
     "name": "stdout",
     "output_type": "stream",
     "text": [
      "The least squares solution to the system of linear equations is: x = [3.00000000e+00 3.00000000e+00 5.73606839e-15]\n"
     ]
    }
   ],
   "source": [
    "# In this case, we cannot find a unique solution to the system of linear equations, but we can ask\n",
    "# NumPy to find the solution that minimizes the size of the solution vector x. This is called the\n",
    "# least squares solution.\n",
    "\n",
    "# Let's find the least squares solution using NumPy's numpy.linalg.lstsq method.\n",
    "x, residuals, rank, s = np.linalg.lstsq(A3, b3, rcond=None)\n",
    "print(f'The least squares solution to the system of linear equations is: x = {x}')"
   ]
  },
  {
   "cell_type": "markdown",
   "metadata": {},
   "source": [
    "## **3.C. Linear Independence**\n",
    "\n",
    "It is worth thinking a bit more about the previous three examples using the concept of ```linear independence```.  Let's start with the definition.\n",
    "\n",
    "**In the Context of Vectors:**\n",
    "- **Definition**: A set of vectors (or functions) is said to be linearly independent if no vector in the set can be written as a linear combination of the others.\n",
    "- **Example**: Consider the vectors $\\mathbf{a}_1, \\mathbf{a}_2, \\mathbf{a}_3 \\in \\mathbb{R}^3$. These vectors are linearly independent if the **only** solution to the equation $x_1 \\mathbf{a}_1 + x_2 \\mathbf{a}_2 + x_3 \\mathbf{a}_3 = \\mathbf{0}$ is $x_1 = x_2 = x_3 = 0$.\n",
    "\n",
    "**In the Context of Matrices:**\n",
    "- **Definition**: The columns (or rows) of a matrix are linearly independent if no column (or row) can be expressed as a linear combination of the others.\n",
    "- **Example**: Consider a matrix $\\mathbf{A}$ with columns $\\mathbf{a}_1, \\mathbf{a}_2, \\mathbf{a}_3 $. These columns are linearly independent if the only solution to the equation $ \\mathbf{A} \\mathbf{x} = \\mathbf{0} $ (where $\\mathbf{x}$ is a vector of coefficients) is the trivial solution $ \\mathbf{x} = \\mathbf{0} $.\n",
    "\n",
    "If you look close, you should see that these two definitions were exactly the same -- the only difference is the form with which we wrote the linear equations.\n",
    "\n",
    "Let's look at the matrices on the left hand side for the examples above:"
   ]
  },
  {
   "cell_type": "code",
   "execution_count": 24,
   "metadata": {},
   "outputs": [
    {
     "name": "stdout",
     "output_type": "stream",
     "text": [
      "The rank of the (3, 3) matrix A1 is: 3\n"
     ]
    }
   ],
   "source": [
    "# In the first problem above, we had the matrix:\n",
    "# A1 = [[3, 4, 2], [2, 5, 3], [1, 1, 1]]\n",
    "A1 = np.array([[3, 4, 2], [2, 5, 3], [1, 1, 1]])\n",
    "\n",
    "# To check for linear independence, we can use the numpy.linalg.matrix_rank method.\n",
    "rank = np.linalg.matrix_rank(A1)\n",
    "print(f'The rank of the {A1.shape} matrix A1 is: {rank}')\n",
    "\n",
    "# If the rank of the matrix is equal to the number of rows, then the rows are linearly independent.\n",
    "# In this case, A1 is a 3x3 matrix with rank 3, so the rows are linearly independent."
   ]
  },
  {
   "cell_type": "code",
   "execution_count": 25,
   "metadata": {},
   "outputs": [
    {
     "name": "stdout",
     "output_type": "stream",
     "text": [
      "The rank of the (5, 3) matrix A2 is: 3\n"
     ]
    }
   ],
   "source": [
    "# In the second problem above, we had the matrix:\n",
    "# A2 = [[3, 4, 2], [2, 5, 3], [1, 1, 1], [4, 3, 5], [5, 6, 4]]\n",
    "A2 = np.array([[3, 4, 2], [2, 5, 3], [1, 1, 1], [4, 3, 5], [5, 6, 4]])\n",
    "\n",
    "# To check for linear independence, we can use the numpy.linalg.matrix_rank method.\n",
    "rank = np.linalg.matrix_rank(A2)\n",
    "print(f'The rank of the {A2.shape} matrix A2 is: {rank}')\n",
    "\n",
    "# If the rank of the matrix is equal to the number of rows, then the rows are linearly independent.\n",
    "# In this case, A2 is a 5x3 matrix with rank 3, so the rows are NOT linearly independent."
   ]
  },
  {
   "cell_type": "markdown",
   "metadata": {},
   "source": [
    "### **3.C.1. Augmented Form for Linear Equations**\n",
    "The ```augmented form``` for a system of linear equations is a compact way to represent the system using matrices. It combines the coefficient matrix and the constants from the right-hand side of the equations into a single matrix. This form is particularly useful for applying matrix operations and solving the system using methods like Gaussian elimination.\n",
    "\n",
    "Starting with the matrix form that we have already seen $\\mathbf{y} = \\mathbf{A} \\mathbf{x} + \\mathbf{b}$,\n",
    "the augmented form combines the coefficient matrix $\\mathbf{A}$ and the constants/bias vector $\\mathbf{b}$ into a single matrix:\n",
    "$$\n",
    "[\\mathbf{A} | \\mathbf{b}] = \\begin{bmatrix}\n",
    "a_{11} & a_{12} & \\cdots & a_{1n} & | & b_1 \\\\\n",
    "a_{21} & a_{22} & \\cdots & a_{2n} & | & b_2 \\\\\n",
    "\\vdots & \\vdots & \\ddots & \\vdots & | & \\vdots \\\\\n",
    "a_{m1} & a_{m2} & \\cdots & a_{mn} & | & b_m\n",
    "\\end{bmatrix},\n",
    "$$\n",
    "which allows us to write the linear equation in the form:\n",
    "$$\n",
    "\\begin{bmatrix}\n",
    "y_1\\\\\n",
    "y_2\\\\\n",
    "\\vdots\\\\\n",
    "y_m\\\\\n",
    "\\end{bmatrix}=\\begin{bmatrix}\n",
    "a_{11} & a_{12} & \\cdots & a_{1n} & | & b_1 \\\\\n",
    "a_{21} & a_{22} & \\cdots & a_{2n} & | & b_2 \\\\\n",
    "\\vdots & \\vdots & \\ddots & \\vdots & | & \\vdots \\\\\n",
    "a_{m1} & a_{m2} & \\cdots & a_{mn} & | & b_m\n",
    "\\end{bmatrix}\n",
    "\\begin{bmatrix}\n",
    "{x}_1\\\\\n",
    "{x}_2\\\\\n",
    "\\vdots\\\\\n",
    "{x}_n\\\\\n",
    "1\n",
    "\\end{bmatrix}\n",
    "$$\n",
    "\n",
    "We will use this equation later, but for now, we only need the augmented matrix $[\\mathbf{A}|\\mathbf{b}]$."
   ]
  },
  {
   "cell_type": "markdown",
   "metadata": {},
   "source": [
    "**Example**\n",
    "\n",
    "Consider the following system of linear equations:\n",
    "\\begin{cases}\n",
    "2x_1 + 3x_2 = 5 \\\\\n",
    "4x_1 + 6x_2 = 10\n",
    "\\end{cases}\n",
    "\n",
    "The coefficient matrix $\\mathbf{A}$, the variables vector $\\mathbf{x}$, and the bias vector $\\mathbf{b}$ are:\n",
    "$$\n",
    "\\mathbf{A} = \\begin{bmatrix}\n",
    "2 & 3 \\\\\n",
    "4 & 6\n",
    "\\end{bmatrix}, \\quad\n",
    "\\mathbf{x} = \\begin{bmatrix}\n",
    "x_1 \\\\\n",
    "x_2\n",
    "\\end{bmatrix}, \\quad\n",
    "\\mathbf{b} = \\begin{bmatrix}\n",
    "5 \\\\\n",
    "10\n",
    "\\end{bmatrix}\n",
    "$$\n",
    "\n",
    "The augmented matrix is:\n",
    "$$\n",
    "[\\mathbf{A} | \\mathbf{b}] = \\begin{bmatrix}\n",
    "2 & 3 & | & 5 \\\\\n",
    "4 & 6 & | & 10\n",
    "\\end{bmatrix}\n",
    "$$\n",
    "\n",
    "**Applications**\n",
    "\n",
    "The augmented matrix form is useful for:\n",
    "- **Gaussian Elimination**: Solving systems of linear equations by transforming the augmented matrix into row echelon form or reduced row echelon form.\n",
    "- **Matrix Operations**: Applying row operations to solve the system or find the inverse of the coefficient matrix.\n",
    "- **Linear Algebra Software**: Many computational tools and libraries use the augmented matrix form to solve linear systems efficiently.\n",
    "\n",
    "By using the augmented matrix form, we can systematically apply matrix operations to solve the system of linear equations and gain insights into the properties of the system."
   ]
  },
  {
   "cell_type": "markdown",
   "metadata": {},
   "source": [
    "\n",
    "### **3.C.2 Using Linear Independence to Check for Existence and Uniqueness of Solutions in Linear Systems**\n",
    "\n",
    "The ```existence``` and ```uniqueness``` of solutions to a system of linear equations $\\mathbf{Ax} = \\mathbf{b}$ depend on the rank and size of the matrix $\\mathbf{A}$ and the augmented matrix $[\\mathbf{A}|\\mathbf{b}]$. Here’s how:\n",
    "\n",
    "**Definitions**:\n",
    "- **Rank**: The rank of a matrix $\\mathbf{A}$ is the maximum number of linearly independent rows or columns in $\\mathbf{A}$.\n",
    "- **Size**: The size of a matrix $\\mathbf{A}$ is given by its dimensions, $(m \\times n)$, where \\(m\\) is the number of rows and \\(n\\) is the number of columns."
   ]
  },
  {
   "cell_type": "markdown",
   "metadata": {},
   "source": [
    "**Scenarios**:\n",
    "\n",
    "1. **Unique Solution**:\n",
    "   - **Condition**: The system ($\\mathbf{Ax}=\\mathbf{b}$) has a **unique** solution if and only if the matrix $\\mathbf{A}$ has full column rank and the number of equations \\(m\\) is equal to the number of unknowns \\(n\\) (i.e., \\(m = n\\)).\n",
    "   - **Implication**: This means that the rank of $\\mathbf{A}$ is \\(n\\).\n",
    "   - **Example**: For a ($\\mathbf{Ax}=\\mathbf{b}$) matrix $\\mathbf{A}$ with rank 3, the system ($\\mathbf{Ax}=\\mathbf{b}$) has a unique solution."
   ]
  },
  {
   "cell_type": "markdown",
   "metadata": {},
   "source": [
    "2. **No Solution**:\n",
    "   - **Condition**: The system ($\\mathbf{Ax}=\\mathbf{b}$) has **no solution** if the rank of the augmented matrix $[\\mathbf{A}|\\mathbf{b}]$ is greater than the rank of $\\mathbf{A}$.\n",
    "   - **Implication**: This indicates that the equations are **inconsistent**.  They cannot all be solved exactly at the same time.  Instead, we will need to define a ```loss function``` such as the ```least square error``` and try to minimize that like we did above. \n",
    "   - **Example**: For a $3 \\times 3$ matrix $\\mathbf{A}$ with rank 2, if the augmented matrix $[\\mathbf{A}|\\mathbf{b}]$ has rank 3, the system has no solution."
   ]
  },
  {
   "cell_type": "markdown",
   "metadata": {},
   "source": [
    "3. **Infinite Solutions**:\n",
    "   - **Condition**: The system ($\\mathbf{Ax}=\\mathbf{b}$) has infinitely many solutions if the rank of $\\mathbf{A}$ is less than the number of unknowns $n$ (i.e., rank($\\mathbf{A})<n$) and the rank of $\\mathbf{A}$ is equal to the rank of the augmented matrix $[\\mathbf{A}|\\mathbf{b}]$.\n",
    "   - **Implication**: This means there are free variables that can take on an infinite number of values. Often, if we want to choose a \"best\" solution, we pick the values that minimize some loss function applied to the variables, such as the minimum squared sum of the variables.\n",
    "   - **Example**: For a $3 \\times 4$ matrix $\\mathbf{A}$ with rank 3, the system ($\\mathbf{Ax}=\\mathbf{b}$) has infinitely many solutions."
   ]
  },
  {
   "cell_type": "markdown",
   "metadata": {},
   "source": [
    "**Summary**:\n",
    "\n",
    "Understanding the rank and size of a matrix helps determine whether a system of linear equations has a unique solution, no solution, or infinitely many solutions.\n",
    "\n",
    "- **Unique Solution**: \\(m = n\\) and rank($\\mathbf{A}$) = n.\n",
    "- **No Solution**: rank \\([$\\mathbf{A}$|$\\mathbf{b}$]\\) > rank $\\mathbf{A}$.\n",
    "- **Infinite Solutions**: rank \\($\\mathbf{A}$ < n\\) and rank \\($\\mathbf{A}$ =\\) rank \\([$\\mathbf{A}$|$\\mathbf{b}$]\\).\n"
   ]
  },
  {
   "cell_type": "markdown",
   "metadata": {},
   "source": [
    "## **3.D. Other Helpful Linear Algebra Functions**"
   ]
  },
  {
   "cell_type": "markdown",
   "metadata": {
    "id": "1H5V6SCT2Eee"
   },
   "source": [
    "Here is a short list of linear algebra functionality in numpy.  We will use some of these later in the course.\n",
    "\n",
    "| Method    | Description  |\n",
    "| ----------- | ----------- |\n",
    "| np.cross | cross product of vectors|\n",
    "| np.dot | dot product of arrays |\n",
    "| np.linalg.det | determinant of a matrix |\n",
    "| np.linalg.inner | inner product |\n",
    "| np.linalg.outer | outer product|\n",
    "| np.matmul  | matrix product |\n",
    "| np.trace | trace of a matrix  |\n",
    "| np.linalg.norm | norm of a vector or matrix, takes arguments for nuclear/frobenius |\n",
    "| np.linalg.matrix_rank | rank of a matrix |\n",
    "| np.linalg.cond | condition of a matrix |\n",
    "| np.linalg.inv  | matrix inverse (multiplicative) |  \n",
    "| np.linalg.pinv  | matrix psuedo-inverse (Moore-Penrose) |\n",
    "| np.linalg.svd | Single Value Decomposition |\n",
    "| np.linalg.null* | Null space |\n",
    "\n",
    "For more specific commands check out the linalg module in numpy:\n",
    "https://numpy.org/doc/stable/reference/routines.linalg.html"
   ]
  },
  {
   "cell_type": "markdown",
   "metadata": {},
   "source": [
    "### **Quiz to practice linear algebra commands in numpy.**"
   ]
  },
  {
   "cell_type": "code",
   "execution_count": null,
   "metadata": {},
   "outputs": [],
   "source": [
    "importlib.reload(BIOM480A5_Quizzes)\n",
    "from BIOM480A5_Quizzes import multiple_choice_quiz\n",
    "multiple_choice_quiz('linear_equations')"
   ]
  },
  {
   "cell_type": "markdown",
   "metadata": {},
   "source": [
    "# 4. Using Linear Algebra to Fit a Polynomial to Data\n",
    "\n",
    "In this section, we will use the tools we have learned to fit a polynomial to some data.  This is a common task in data analysis and machine learning.  We will use the ```least squares``` method that we discussed above to find the best fit polynomial to the data.  Later in the course, we will discuss why we are using this method and how it is related to the ```maximum likelihood``` method that we will use to fit models to data.\n",
    "\n",
    "## **4.A.  Generating Data**\n",
    "\n",
    "Let's start by generating some data that we can fit a polynomial to.  We will use the ```numpy``` function ```np.random.randn``` to generate some random data points.  We will then use the ```numpy``` function ```np.polyfit``` to fit a polynomial to the data."
   ]
  },
  {
   "cell_type": "code",
<<<<<<< HEAD
   "execution_count": 26,
=======
   "execution_count": 70,
>>>>>>> upstream/main
   "metadata": {},
   "outputs": [],
   "source": [
    "# Generate some random data for a linear polynomial regression problem.\n",
    "np.random.seed(0)\n",
    "# Let's generate random values 'x' between -3 and 3\n",
    "x = 6 * np.random.rand(100, 1) - 3\n",
    "# Let's generate the corresponding values 'y' using the linear equation y = 3x**2 + 2x + 1 + noise\n",
    "y = 3*x**2 + 2*x + 1 + np.random.randn(100, 1)"
   ]
  },
  {
   "cell_type": "code",
   "execution_count": 28,
   "metadata": {},
   "outputs": [
    {
     "data": {
      "image/png": "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",
      "text/plain": [
       "<Figure size 1000x600 with 1 Axes>"
      ]
     },
     "metadata": {},
     "output_type": "display_data"
    }
   ],
   "source": [
    "import matplotlib.pyplot as plt\n",
    "\n",
    "# Let's plot the data to visualize the relationship between x and y.\n",
    "plt.figure(figsize=(10, 6))\n",
    "plt.scatter(x, y, color='blue', label='Data points')\n",
    "plt.xlabel('x')\n",
    "plt.ylabel('y')\n",
    "plt.title('Random Data for Polynomial Regression')\n",
    "plt.legend()\n",
    "plt.grid(True)\n",
    "plt.show()"
   ]
  },
  {
   "cell_type": "code",
<<<<<<< HEAD
   "execution_count": 29,
=======
   "execution_count": 72,
>>>>>>> upstream/main
   "metadata": {},
   "outputs": [],
   "source": [
    "# Now, lets construct the matrix A and the vector b for the linear polynomial regression problem.\n",
    "# We want to fit a polynomial of the form y = ax^2 + bx + c to the data.\n",
    "# This is a linear regression problem because the unknowns are the coefficients a, b, and c.\n",
    "# We can represent the polynomial as a linear equation of the form y = Xw, where:\n",
    "# X = [[x^2, x, 1]]\n",
    "# w = [[a], [b], [c]]\n",
    "# y = [[y]]\n",
    "\n",
    "# For this problem, we are only going to use the values of x that are less than 0 to fit the polynomial.\n",
    "x_less_than_0 = x[x < 0]\n",
    "\n",
    "# Let's define the matrix X and the vector y.  We will use the numpy.c_ function, which concatenates columns.\n",
    "X = np.c_[x_less_than_0**2, x_less_than_0, np.ones(x_less_than_0.shape)]\n",
    "y_x_less_than_0 = y[x < 0]\n",
    "\n",
    "# Now, we can solve the linear regression problem using the least squares method we discussed earlier.\n",
    "w, residuals, rank, s = np.linalg.lstsq(X, y_x_less_than_0, rcond=None)\n",
    "\n",
    "# The solution w represents the coefficients a, b, and c that minimize the sum of the squared residuals.\n",
    "a2, b2, c2 = w"
   ]
  },
  {
   "cell_type": "code",
   "execution_count": 32,
   "metadata": {},
   "outputs": [
    {
     "data": {
      "image/png": "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",
      "text/plain": [
       "<Figure size 1000x600 with 1 Axes>"
      ]
     },
     "metadata": {},
     "output_type": "display_data"
    }
   ],
   "source": [
    "# Now, let's plot the data points and the fitted polynomial.\n",
    "# Create a vector of x values for the fitted polynomial.\n",
    "x_fit = np.linspace(-3, 3, 100)\n",
    "\n",
    "plt.figure(figsize=(10, 6))\n",
    "plt.scatter(x, y, color='blue', label='Data points')\n",
    "plt.plot(x_fit, a2*x_fit**2 + b2*x_fit + c2, color='red', label='Fitted polynomial')\n",
    "plt.xlabel('x')\n",
    "plt.ylabel('y')\n",
    "plt.title(f'Polynomial Regression, {a2}*x^2 + {b2}*x + {c2}')\n",
    "plt.legend()\n",
    "plt.grid(True)\n",
    "plt.show()"
   ]
  },
  {
   "cell_type": "markdown",
   "metadata": {},
   "source": []
  },
  {
   "cell_type": "code",
   "execution_count": 33,
   "metadata": {},
   "outputs": [
    {
     "data": {
      "text/plain": [
       "<matplotlib.legend.Legend at 0x17a73940610>"
      ]
     },
     "execution_count": 33,
     "metadata": {},
     "output_type": "execute_result"
    },
    {
     "data": {
      "image/png": "iVBORw0KGgoAAAANSUhEUgAAA14AAAIhCAYAAABe22tSAAAAOnRFWHRTb2Z0d2FyZQBNYXRwbG90bGliIHZlcnNpb24zLjEwLjAsIGh0dHBzOi8vbWF0cGxvdGxpYi5vcmcvlHJYcgAAAAlwSFlzAAAPYQAAD2EBqD+naQAAs+FJREFUeJzs3Xd8U/X+x/FXuvcutKWFomwQQUUEZakIooJynbhw4AAFRERRryhexYEI7p8LuF4VF26cTBFUpkyVPdqyCnTP5Pz+ODRtaNqmpSEd7+fjcR45OTk5+SQU6DvfZTEMw0BERERERETcxsvTBYiIiIiIiDR0Cl4iIiIiIiJupuAlIiIiIiLiZgpeIiIiIiIibqbgJSIiIiIi4mYKXiIiIiIiIm6m4CUiIiIiIuJmCl4iIiIiIiJupuAlIiIiIiLiZgpeIiINxKxZs7BYLPbNx8eHxMREbrnlFlJSUqp9vb59+9K3b9/aL9QDFi1ahMViYdGiRW57bsl5JZu3tzexsbFcdtllrFy5smaF10MlP4c7d+70dCkiInWKj6cLEBGR2jVz5kzatWtHXl4eS5YsYcqUKSxevJj169cTHBzs6fI84owzzmD58uV06NDB7a/19NNP069fP4qKilizZg1PPPEEffr0Ye3atbRu3drtr+9pl1xyCcuXLyc+Pt7TpYiI1CkKXiIiDUynTp0466yzAOjXrx9Wq5Unn3ySL774guuvv97D1XlGWFgY55xzzkl5rdatW9tfq1evXkRERHDzzTfzv//9jyeeeOKk1FAiNzeXoKCgk/qasbGxxMbGntTXFBGpD9TVUESkgSsJAbt27QIgPz+fiRMn0rJlS/z8/GjWrBmjRo3i6NGjFV7DMAxat27NgAEDyj2WnZ1NeHg4o0aNAkq73H344Yc88sgjJCQkEBYWxoUXXsjff/9d7vnvvvsup59+OgEBAURFRXHFFVewefNmh3OGDx9OSEgIf/31FwMGDCA4OJj4+HieeeYZAH777TfOO+88goODadOmDbNnz3Z4vrPugitXruTaa68lOTmZwMBAkpOTue666+yfU20pCcH79+93OL5lyxaGDRtGkyZN8Pf3p3379rz66qvlnr9x40YuuugigoKCiI2NZdSoUXz77bfl3k/fvn3p1KkTS5YsoWfPngQFBXHrrbcCkJmZyfjx4x3+zMeOHUtOTo7Da33yySd0796d8PBwgoKCOOWUU+zXALDZbPznP/+hbdu2BAYGEhERQefOnZkxY4b9nIq6Glbnz3nr1q0MGjSIkJAQkpKSuP/++ykoKHD9QxcRqYMUvEREGritW7cCZkuEYRhcfvnlTJ06lRtvvJFvv/2WcePGMXv2bM4///wKf7m1WCzce++9/PTTT2zZssXhsf/+979kZmbag1eJhx9+mF27dvH222/z5ptvsmXLFi677DKsVqv9nClTpnDbbbfRsWNH5s6dy4wZM1i3bh09evQo9zpFRUUMHTqUSy65hC+//JKLL76YiRMn8vDDD3PzzTdz66238vnnn9O2bVuGDx/OqlWrKv1cdu7cSdu2bZk+fTo//PADzz77LGlpaXTr1o1Dhw65/PlWZceOHQC0adPGfmzTpk1069aNDRs28MILL/DNN99wySWXMHr0aIdWsbS0NPr06cPff//N66+/zn//+1+ysrK45557nL5WWloaN9xwA8OGDWPevHmMHDmS3Nxc+vTpw+zZsxk9ejTfffcdDz74ILNmzWLw4MEYhgHA8uXLueaaazjllFOYM2cO3377LY899hjFxcX26z/33HM8/vjjXHfddXz77bd89NFH3HbbbZWGdqj+n/PgwYO54IIL+PLLL7n11lt58cUXefbZZ6v1uYuI1DmGiIg0CDNnzjQA47fffjOKioqMrKws45tvvjFiY2ON0NBQY9++fcb3339vAMZzzz3n8NyPPvrIAIw333zTfqxPnz5Gnz597PczMzON0NBQY8yYMQ7P7dChg9GvXz/7/YULFxqAMWjQIIfzPv74YwMwli9fbhiGYRw5csQIDAwsd97u3bsNf39/Y9iwYfZjN998swEYn332mf1YUVGRERsbawDG6tWr7cfT09MNb29vY9y4ceVqWrhwYYWfX3FxsZGdnW0EBwcbM2bMqNZzy5730UcfGUVFRUZubq7x66+/Gm3btjU6dOhgHDlyxH7ugAEDjMTERCMjI8PhGvfcc48REBBgHD582DAMw3jggQcMi8VibNy40eG8AQMGlKupT58+BmDMnz/f4dwpU6YYXl5exooVKxyOf/rppwZgzJs3zzAMw5g6daoBGEePHq3wPV566aVGly5dKv0cSn4Od+zYYRhGzf6cP/74Y4dzBw0aZLRt27bS1xURqevU4iUi0sCcc845+Pr6EhoayqWXXkpcXBzfffcdTZs2ZcGCBYDZpausq666iuDgYObPn1/hdUNDQ7nllluYNWuWvYvaggUL2LRpk9MWmMGDBzvc79y5M1Da5XH58uXk5eWVqyUpKYnzzz+/XC0Wi4VBgwbZ7/v4+NCqVSvi4+Pp2rWr/XhUVBRNmjSpsstgdnY2Dz74IK1atcLHxwcfHx9CQkLIyckp1wWuOq655hp8fX0JCgri3HPPJTMzk2+//ZaIiAjA7Oo5f/58rrjiCoKCgiguLrZvgwYNIj8/n99++w2AxYsX06lTp3KTglx33XVOXzsyMpLzzz/f4dg333xDp06d6NKli8NrDRgwwKG7Yrdu3QC4+uqr+fjjj53OhHn22Wfz559/MnLkSH744QcyMzOr/Dxq8ud82WWXORzr3LlzrXcBFRE52RS8REQamP/+97+sWLGCNWvWkJqayrp16zj33HMBSE9Px8fHp9zkBxaLhbi4ONLT0yu99r333ktWVhbvv/8+AK+88gqJiYkMGTKk3LnR0dEO9/39/QHIy8uz1wI4nf0uISGhXC1BQUEEBAQ4HPPz8yMqKqrc8/38/MjPz6/0vQwbNoxXXnmF22+/nR9++IE//viDFStWEBsba6+xJp599llWrFjB4sWLeeSRR9i/fz+XX365vRtneno6xcXFvPzyy/j6+jpsJcGypKtjeno6TZs2Lfcazo6B889y//79rFu3rtxrhYaGYhiG/bV69+7NF198QXFxMTfddBOJiYl06tSJDz/80H6tiRMnMnXqVH777TcuvvhioqOjueCCCyqdLr82/pz9/f2r/PMUEanrNKuhiEgD0759e/uEDseLjo6muLiYgwcPOoQvwzDYt2+fvdWjIq1ateLiiy/m1Vdf5eKLL+arr77iiSeewNvbu9p1lgSztLS0co+lpqYSExNT7Wu6KiMjg2+++YZJkybx0EMP2Y8XFBRw+PDhE7r2KaecYv/8e/fuTWBgII8++igvv/wy48ePJzIyEm9vb2688cZy4+JKtGzZEjA/o+Mn5QDYt2+f0+dZLJZyx2JiYggMDOTdd991+pyyn/OQIUMYMmQIBQUF/Pbbb0yZMoVhw4aRnJxMjx498PHxYdy4cYwbN46jR4/y888/8/DDDzNgwAD27NnjdAZFT/45i4jUJWrxEhFpRC644AIA/ve//zkc/+yzz8jJybE/XpkxY8awbt06br75Zry9vRkxYkSNaunRoweBgYHlatm7dy8LFixwqZaaslgsGIZhb4Ur8fbbbztM/lEbJkyYQKtWrXjmmWfIysoiKCiIfv36sWbNGjp37sxZZ51VbisJK3369GHDhg1s2rTJ4Zpz5sxx+fUvvfRStm3bRnR0tNPXSk5OLvccf39/+vTpY5/QYs2aNeXOiYiI4Morr2TUqFEcPny4wgWTPfnnLCJSl6jFS0SkEenfvz8DBgzgwQcfJDMzk3PPPZd169YxadIkunbtyo033ujSNTp06MDChQu54YYbaNKkSY1qiYiI4N///jcPP/wwN910E9dddx3p6ek88cQTBAQEMGnSpBpd1xVhYWH07t2b559/npiYGJKTk1m8eDHvvPOOfSxWbfH19eXpp5/m6quvZsaMGTz66KPMmDGD8847j169enH33XeTnJxMVlYWW7du5euvv7aPxRs7dizvvvsuF198MZMnT6Zp06Z88MEH/PXXXwB4eVX9/enYsWP57LPP6N27N/fddx+dO3fGZrOxe/dufvzxR+6//366d+/OY489xt69e7ngggtITEzk6NGjzJgxA19fX/r06QPAZZddZl8nLjY2ll27djF9+nRatGhR4eLQnvxzFhGpS9TiJSLSiFgsFr744gvGjRvHzJkzGTRokH1q+QULFpRrAarI1VdfDVDhtOaumjhxIm+//TZ//vknl19+Offccw8dO3Zk2bJlFf4iX1s++OAD+vXrx4QJExg6dCgrV67kp59+Ijw8vNZf66qrrqJ79+5MmzaNjIwMOnTowOrVq+nUqROPPvooF110EbfddhuffvqpQwtQQkICixcvpk2bNtx1111cf/31+Pn5MXnyZACXQmJwcDC//PILw4cP58033+SSSy7h6quv5qWXXiIxMdHe4tW9e3f27dvHgw8+yEUXXcQdd9xBYGAgCxYsoGPHjoC5IPeSJUu466676N+/P48++igXXHABixcvxtfXt8IaPPnnLCJSV1gM49gCHiIiIi4666yzsFgsrFixwtOlNEp33HEHH374Ienp6fj5+Xm6HBERcYG6GoqIiEsyMzPZsGED33zzDatWreLzzz/3dEmNwuTJk0lISOCUU04hOzubb775hrfffptHH31UoUtEpB5R8BIREZesXr2afv36ER0dzaRJk7j88ss9XVKj4Ovry/PPP8/evXspLi6mdevWTJs2jTFjxni6NBERqQZ1NRQREREREXEzTa4hIiIiIiLiZgpeIiIiIiIibqbgJSIiIiIi4maaXKMGbDYbqamphIaGYrFYPF2OiIiIiIh4iGEYZGVlkZCQUOnC9gpeNZCamkpSUpKnyxARERERkTpiz549JCYmVvi4glcNhIaGAuaHGxYW5uFqRERERETEUzIzM0lKSrJnhIooeNVASffCsLAwBS8REREREalyCJIm1xAREREREXEzBS8RERERERE3U/ASERERERFxMwUvERERERERN1PwEhERERERcTMFLxERERERETdT8BIREREREXEzBS8RERERERE3U/ASERERERFxMwUvERERERERN1PwEhERERERcTMFLxERERERETdT8BIREREREXEzBS8RERERERE3U/ASERERERFxMx9PFyAiIiIiIo2H1Qq//AJpaRAfD716gbe3p6tyP7V4iYiIiIjISTF3LiQnQ79+MGyYeZucbB532fbt8MorkJnppirdQy1eIiIiIiLidnPnwpVXgmE4Hk9JMY9/+ikMGeKkNay4AJYsge++g3nz4O+/zSc2awZXXHHy30gNKXiJiIiIiIhbWa0wZkz50AXmMYsF7rjDPGfvXkhiNxfzHYUB8zif+fjk55Q+wccHzjsPgoJO3huoBQpeIiIiIiLiVr/8YgaqivgaBXRJ/4WL+Y6BfE9HNpkP5Js3eZHxBF5xMQwaBBdeCOHh7i+6lil4iYiIiIiIW335ZfljLdluD1rns4Bgcu2PWfHiN87hWy7hOwaRHnw6O9601OtJOBS8RERERETEbaxWePddCCabfixkIN8zgB9oxTaH81KJ53sG8j0D+Yn+HCWy9MG9ZqtZ374nt/bapOAlIiIiIiK1z2aDP/9kx6s/8EXmD5zLr/hRZH+4CB+W0ZPvuJjvuJh1dAYsFV4uLe0k1OxGCl4iIiIiImJX03W2rFb4/fNUvOb/RMstP9Jk/c9YDhygFdDq2DnbackPDOB7BrKQfmQR5nJd8fE1ejt1hoKXiIiIiIgA5pTvJTMLlkhMhBkzYOhQJ0/IzYUlS9jy2k9Yv/uRnsUbHB4uDghmW2JfXt46kB8YwFZaUVmrljMWi1lDr17Vfz91iYKXiIiIiIi4tM7W0CFWWLUKfv4ZfvoJli2DwkJaHzvXhoWVnMVP9OcnLmJ5fg8mXu/Hq0+4VoPF4vj6lmMZbfp011rd6jIFLxERERGRBsrVboMVr7NlcKqxlQuZT8ANP2H4L8By9KjDGSneSXxv7c8PDGA+F3CYaPtjFgu88w5ER0N6esV1RkfD66/DuHHlW9umT6+gta2eUfASEREREWmAnHUbjIoyjz3yiGMAK7vOVhxpnM8CLuRnLmA+zdljPpB3bAsPh379oH9/fg+9kHNuak1F3QcNw7zuE0/ApEkV1/rmm2a4Gjq0ZuPL6gMFLxERERGRBqaiboOHD5sB6KWXSsMOR47g9fUSZjCfC5hfunjxMYX4soye/MyF9H7iQi56+CzwMWPE9g9dq6d1a/jss6rHj3l71+8p4yuj4CUiIiIi0oBU3G3QFEw2Z6UvZdu/FnDk1AVEbl9Nb8Og97HHbVhYQ1fmcwE/cyFLOY88ggDody4OCcLVmQbj481ANWRIw23RqoqCl4iIiIhIA1K22yBAILn0ZBl9WUQ/FnI2f+BLsfngsTWMc5q3Y/bufsznAhbR12GcVmV69TJbrVJSnAe942ckbMgtWlVR8BIRERERaUAO7MqjH8vtQas7vzssXAywg2QWcD4LOJ9Rn/RjV1ECo4a5cO0Djve9vc2uglde2bBnJKwNCl4iIiIiIvVZTg4sXw6LF8PixVz52+9cTaHDKXtpxkL6sYi+LOB8dtLS/tilRdXrMni8oUPNqeadjd9y54yEBtVdEcyzFLxEREREROqTrCxz/azFi2HRIlixAoqL7Q97Afu94vnZ1s8etrZxKhXFlJKxVtXpMni8oUPdN37LAPYCq4E1x25XA58APU788ieNgpeIiIiIiIe4tM5WejosXQpLlpjbmjXmE8tKTIQ+fezbr+tbc8OVlbcHlQ1TtdFlsDbGb9mArZgBqyRkrQEOOTl3DQpe4gGuLo4nIiIiInWDs3W2EhPhzX/v4eLQpeYvd0uWwMaN5Z+cnFwatPr2Ne9bSoPW0Dbm9O133OF84WJnYepkdxksADZSGrLWAH8COU7O9QE6AGcAXY/ddqndctzOYhgVTTQpFcnMzCQ8PJyMjAzCwsI8XU6Ff2nLrokgIiIiIu5Rky/AS9bZwrDRns2cx1J68QvnsZRkdpV/QocO5oV79zZvk5Jcru2pp8zfCw8fLj2elFRxmHLHF/qHMUPV2jLbJqDYybmBQGdKA1ZXoBMQcGIluI2r2UDBqwbqSvCyAR98BTddXr4vbsm3GJ9+Wv4vlFrHRERERGpHtb8Az8/H+vtKnh38K50yf+VcfiWaww6nFOPNRt+unHb3eXj17Q3nnQexsSdU58n6/c8AdlAaskpunURJAKIwg1VXzBasrkBboD79aqrg5UZ1JXj99s9eeh6JJ8GWQvCKXI4sjeLg0lhIM1NXSb/dHTtK/2J98gmMHAmHynSUVeuYiIiISPWVtFpV+gX4eQfMiTB+/dXcVq2CQscZB3MI4jfOYSnn8Qu9+J3uZBPKwoV1e82rXMyugn9SGrDWAZkVnN8SM1x1oTRoJVK/ZiZ0xtVsoDFe9disj49g/DuRFO/m0B7zp/d+iGh6mNjMAxSv9WXPr0ks/sWP8/vChAnw/PPlr7N3r/mPhrPWMREREREpz2o1W7rKhi4vrHRkIz2NZfRkGV2vWQ7FW8s9Ny+8KfMyzuVXzmUp57GGrhTjW+68tDR3vgPXlcwqWBKw1h273YLZA+t4fphdA0/H/PX09GNbhPtLrdMUvOqx8JQW+HoVUmT1gw2Y2//gKFEcJQqSgC4w6PsCTl11gKLcXKL6RHF4Raz5FUUZhgFjx5rTgKrboYiIiNR37u5a98svkLP3MAP5nR4spwfL6c7vhJFVelLJAKaOHeHcc+3b77tP4crzq27ncXVtrdqUg/kr5brjtqMVnN8EM1R1prQ1qy04iZGiroY1UFe6Gi5aBP36ld73oYgwn0wKfP3JyQtx/qQooIuN8IRMIryOYhwySNuQQNFuf4AKm7RP5B8vjSkTERGRk8ktE48VF5uzCy5fDr/9RuaPvxGW9ne507II4TfOYRk9WU4Pbn+zO1eOiHQ4x2o1JyGsas2sssNFapsV2AasL7OtO3bMWTjwAdpR2nrV+dhtnHvKq1c0xsuN6krwquovLRi0DD9IUtsC/tweSuaRMAyrV/nTgsGnQxHhsUc5vWUONw4OZGjfJoT5md/EnMg/Xs6eGxMDN9xgtq4phImIiEhtcmnclSvhKyUFfv+9dFu5EnLKT3T+D61ZTg972NpAJ2xlpoao6Ett+6yGOF8zq7aGgBjAfsxWrLIhayOQV8Fz4jCDVdmtHeB/4uU0SApeblRXghe49pe2oACGDTPvB5BLfGQqRrQXR4sjyEiLwChwEsb8DYJaF5CQlEF+eiEZqWFk7Q13ev2K/lGo6B++sjSxh4iIiNSWki+ly37hW1aFLUlZWeakF3/8URq0UlLKXyA0FLp3h3POwXp2D7rc2Z2N+6Jr3Grl7AvqyqZ5r0oG5hTt6ykNWhtwvvgwmNOzdwJOK7N1xuw+KK5T8HKjuhS8oOq/tMd3SXRkEOefRlSLI+SFBpBRFM2RHWEYWU7CmI9BQFI+oWFZeBcUczQlguiwIHbtKv8PSlX/8JUoCXCPPw6tW6srooiIiNRc5b/zmHwpZNa49Vx7yh94rfwDVqyATZvKf1Ps5QWdOtmDFt27Q7t2Dr+k1EarVU2GZOQCmykd4r/x2O2eCs73AlpRPmSdSv2atr2uUvByo7oSvP4+9DeTl0wmISSB+JBmZOxNgOwE2sYnMOT8BIL9zWXmrFaIi3OcQr4iCxdCr+4F/Dp/O+9+V8CSv8I4lBVD1vZQSHcyCNRiENI8jzZtsunZ1eCSCyLp0d2PNWuq/oevImoFExERkZq47z7zi+cSXlhpz2bOYiXdWMFZrOR0/iSAgvJPTkqCbt3MgNW9O5x5JoRUMGa+jNputSorH/iL0mC18di2A+fjsMCcnr0jZrAqCVrtMRclFvdQ8HKjuhK8vv77awbPGVzh41GBUSSEJpAQmkDhoQQWfd0MshIct+ymYDPnnUlKcmwO//DD0i6KIT4ZtGy/A69EgyO+kRzKiCX3n2CoYJrTkIQ8/AOyseQbHN4fic3q+tw2WvxZREREqnL87wSH9lv597X/cCarOJNVnMVKzmA1wcdP5QwcJpI/OJsVnM0FD3Wj55hu5rfUtVRLdX8/yQX+xgxVm8ps23A+XTtADGao6ogZsDod24+o4XuQmlPwcqO6Ery2Ht7Kl399SWpWKqnZqaRkppCalUpKVgr5xfmuXcSwmOErK4Ez2yZwZusEmoU1IyE0gUM7Epg46lhYy4sGw7H7YZPwfSSetofk83zYdCiaHXubULAxoMJ2bv+ofEJCs7EU2DhyIBKrreIw5qxfdFWTfCiUiYiINA5zP7Hy8r3/kLh/pT1odWUNIZSf/CKLEFZxJis5y75t41TAclJmDywrE7MFqyRYbT52W1kLVhRmoDp+0zisukPBy43qSvCqiGEYZBRk2INYyZaSlcKKv1JZvSWV4sAUCE0DL6trF7X6QlY8ZDm2mkX5NuPDNxNICjdb1jL3H2Xhxv18v8GXX/6JZf+hWIo2+kP5tQMB8AsrICQsG++iYjIOhVNoDXB4vGQmoKpmKBo/3myhq9VpY0VERMRlbvsCtLDQHIO1ejWsXk36z2sI+Hut05asHIJYSxd70FpBN/6hjcMsg85UNPNgTRjAAcyAtZnSoLUZcxHiipQNWB3KbHFA1St+iScpeLlRXQ9eVSn5hzEl1UZgzEGad0xlX05pSEvJTCE129zfcSiVjOIDLl872DfY3r3RejSBpfPiSfRLoGmTeIqCWnLIlsjBw00p2uBn/gvkpP3cJ6iIkMgs/G0FXDEohLtHhzJokPPJhSpjsTguDF3yH0BN/mNQa5qIiEip4/9fPHgQxo2r/AtQl/4vzcqCdetgzRpYu9a83bDBDF/HySGINXQ91t5lbn/RrsqQ5cwHH8B111XvOcXATsxgVTZkbQaOVPK8OMxA1b7MbUcgFgWs+krBy43qe/Cqro8+LWTso/vZl50KoakQlkJoQipn9k3FJ6o0sB3NP+raBQ2It51OnFcfrEV9Sc87jYOHEincFGDOe1r+31a8fK2ExGQR5J1LYYYvh7OiMefocV1iovmPanVbxtyyCKOIiEg95ez/RWfKjtmG459jcFZcCtOG/0mzg3/is34NMSlrCUqpoItMRASccQZ7Yrry4MdnsJoz2ELrGoUsZypr8crAHH9VspUErS04/ZUFMANUS8y1r9pTGrLaAZEVPEfqLwUvN2pswQtc+5YqtyjXsWtjyZizzFQ2p6Sy63AKGUYK+Dgffxbj04Jm/t2g4EKOZnbnwKFW5P0dAmvBSZdt8DIIjskmJCAbr3wbRw5Fkm8LqvZ7q2wyj6rWIvv4Y7jqqmq/pIiISL3kyhqdZVksEBdZQNPDmzidPx22aA47fU5udCJBPbpA167QpQuccQa0aAEWi8PEX7WhZIzXlh2wx9sxYJVs+yp5fgDQ9tjWntKg1QbNItiYKHi5UWMMXrWluNjg+0UZbN6bwoZdqfz381QIS4XQFLM1rWQLSQPvYoJ8m9DC7wz8ii8gK7MHhw63I3NHFKy1mB2onfCLyCMs5gABvgcpzC7gYFYsRm5TKAyjskb82Fh48UVo1swMllD1WmTe3vDoo9C2rbogiohIw1b1Gp0GSeyhM+vozDpOYz2dWUdb/saH8mPKi/HmL9rxJ6ezhq6spQt/0oV0S0yF61+5sk5XpZpipqI2mCmpNSScDwdCza6DFYnDDFftjtuaU93+N9IQKXi5kYJX7alo7YtpL9roNeAgqVmp7M5IYfg9qRy1mqHMK+ogSc38CQ9qQ0Fedw4f7cThtASsG3zNdn8nP9Fe/lZCEg4SGrUNn6C/yTJ2cdinGAqizYlCMstMGlIcSEwMjBoFTzxRvfejLogiItJQlQ09UaTTiQ327TTW04kNRJDh9LnpRDm0d62jM5voQAEB5c6tbKbBkvCXklJxq5tXDNhOwQxXrSGwC4SdAQciwKhkWa4A83R7C1a7Y7dtgPCKnyai4OVOCl61y5VujBWtDI9XEYTsg7BUwtukEN8qC0twLFmFyRw+nEju9jBz3Fj5iY8A8G+SS1jcXkKiNmAJ/5X0mJ/IiEqFnDjH9c7KBrOsZg7rn5VVnZXqRURE6rzMTNi4ETZt4q/PNrL7OzNoJVSwkGchvvxFu2NtXp1Zz2msozOpJFDdqSMqGnf12Vy48g6gVZmtdZnbqIqv6WVATDYkF8I5kdDWq7QBLBG1XknNKHi5kYKXZ7g6mLcsS7CVhA4phCYfpSjMh4yCKI4eiKJ4s1+F641Z/GwEJ2YQHruLoMh1ELaUQ9E/cSR2Z+m/yIYFcpo4D2VZCYR7JfD2iwkM6R+Dr0/F/4yfjNkSNSOjiEjjU+1/+zMyYPNmc9r2jRtLt0r+091BMus5jQ10YiMdWUdn/qYtRfjVynt4dS50vsJcRHjrcdvRKp7bjNJA1brM7SlQS9WJlFLwciMFL88p+Y/ks8/glVdqfh2/uHzi26biH1tInl8gmTlhZKWGYdvk7XwiD8ArzEpo0hHCY3YSHL4OS9gyDof/wP7ovcevLV3K5kOMfzynNjm2MHVIgn26/e3rmvF/zyewf2sC5IcDllrvqqgZGUVE6p8T/cKswn/7pxsM7XUQ/vrLDFibNpWGrdTUii+YkAAdOmDr0JEJ753G0iOd2EgHsgl1qZ7oaDh82EnXQB+gBXCqk+0UILjy6yYYEJsBUYegtQX6J0Nbb/Pp1Z9qS6TmFLzcSMHL8054cG0F/BNzaXrKAXwiisn3CiQzM5SclBCMrV44GRcMgFeMldDEDMIj0wgN3opP8Gpywn9gd+zvFJbvjehcYZBD18bB/ZrR54zSkNYstBnxofEE+Tr+V1LZf85VLTqt7pAiInXPiX5hNncuXPOvYlqwk/Zsph1/OWwVzSQImAGrfXvo2LF069ABIiMdru+0678TXt7w1lw4GAoP/R9mmGp57PYUzJkpKgmUXgY0tzj2KGxFaS5TuJK6QsHLjRS8PM+lwbVeYCuzQHNSElx7bfl1vFzhn5BHTPND+IQXU2AEkJUVQl5KELbdFf+PYWliIzgph/Cow0QF7aNL+900ifuL3JC/eHf5AQr808zZHAOPulxHRECEPYgVHU5g1aIEslJKuzrGhSQw46k4/nW5b6UzT1U2cFlERGpPdVqvKpuq3WJx8oXZoUPw99/2zfjrb7bM+4fk4q34UeT0NWxYsLRMxtKhgxmy2rc3w1W7duZaWS5wCIfBQDJmoCq7nQIB7SG/qi8gc4HtmP0Jt5XuvzwW7higboFSPyh4uZGCV91Q2bduFou5xlZMTPn/7Er+E/zpJ3j6addea9Ik5zMcekUVEZOUjn94AYUWP3Kyg8nbF4Q1xafii0WAX8sCwmIziAg8SphxFN+8I+RlHmZvTi6HQ45CWBrnX56KNTCVlCxzPbTcogpmCDmeYSHYEktOmuO4s3Lj0XJjWbjAq8IFI0VExLmqwlTJ419+Cf/7n5mPSlTUelXRVO2hZNKaLbThH84K28J9l23Ba8s/sGULHDlSYY25BPI3bR3auzbTni205ruFgS7/258N7AJ2lrndAew0YEsRZLiQjBI41thlA+9dELgP2vtDQAo8MRJSjpvZePp09ciQ+kXBy40UvOqOiqajd+UfbasVmjQx+51XJjERdu40/wN1eXIPP4OwxAyCI3Ow+XmRnx9A3qFgClN8wVbBrE4+wKkGgYl5REQcpUXsEc5smcXZpxRxZstgYmPCSA8sZE9mGteOSOFIccn6Z2mO66B5V7YSSdkPwIdo/3haNS3tzljStTEh9NiYtNAEwv3DsVgqqFlExMOOD0E9e8KyZe6bUKiqroBVTQTltLt3RgYr52xl6l1baMVW+9aaLTStaNHKEs2bm4tJtm3Lyqy2TJzdln9owx6SMCqYo++DD+C668zVV9KB3ZihquS2bNBKd+EziTw2U2DEUbOxq1czONXL3E8GJxPGl9IEUNIQKHi5kYJX3XIi/2jPnQv/+lfl53z2Wel/jmVfa8sWePNNs7ujKxYuhLO6QXLHIgz/o/gFFVNk8yU3K4j8tACM/EomsQ0DWhsENssjJuYoIZYjhBVl4pdRQF5KEPu3NyXlcDNsFi8IOnQshDkJZWHH9oMPgMW1v/qBPoH2EJYQmkBCSILj/WPb8ePPRETczVnIKenZUKI646Oq+v+kqrGz48fD1KlOHsdGPGmcyjZOYTut2EanoG0M6bgNy47tjk1iTuyjKVtozT+04YyrW9P1mjbQujWceioElf7bW278sx/mHOnNgaRjt82h25WQFWUGLVf6UkRizoHRgtIwlXxsvwVa40pEwcuNFLwalrlzYcSI8i1f0dFmsKrsP2ur1fyP7uqrK245Kzue6pdfKp8UxDeqgNDILPyCbAQG+bF/TyC5aX7m9PUViQROBZ8WRYRHHiUy4AjhtqOEF+VSuNeLo7si2bezKYdyY7GvoeJdRHyr/Xz6Ywr7c1L5ZkkqH36TSp5Pij20WcLSMAIq7sZyvJLxZ85az0q2uJA4/Lyr12Nf34aKiDOVjYcqy2Ixz3niCTOnHDwIsbHQrFn5CYmOD3FRUeaxRx4x71c2djaUTFp57aCFbTst2cEplN4ms5NA8iutMyc0jtVZZdu7WrGF1mzjVDLLRJsXX4SxY6EISMNcGWXvsdvdNnjrB8iPxgxa8ZV/NiWaUhqsmmOGqhZlbvWbjkjlFLzcSMGr4SkJUIsWmff79jW36rScORtvdnyXkg8/hGHDqr7e2LHmf64A+fmwdRus2lTEitVZ/LHaxl9/+5KfGUjRkSpCTCClg5yb5hIRepQI3yOEF2XSq30+fTv48su3Ebz1ahyHs6Ipt7ilbx6vzk7ltJ6ppGaZW0pWCmnZaaRkptjvuzz+DGgS3KTCgFZyPzY4Fi+Ll9NfhGJi4LXX4KqrXH5JEWlgKhoPVV0lrWFQeYiLjoYH7sjg/Sm7aMEuWrKDZHY6bFFU/kVVMd7spjnbONW+DR57Kr1uPgVOPZX3vwrlhhuOnRyIuRBV2S3R3E7pDXkxsA+zq2CVcjGbtvaY29U9YED70pCVROVdAUWkagpebqTgJc64Mt7M1WnwFy6kwoHPTmd09LURHJGDX0AhVsObwrwA8o/4VzyerEQ09j4j/k3zCQ85SqTPUUKtmQTm5mI74I1vVigzX40msVkcPr7lp6cyDIPMgszSUJaVZp8QxCGsZaVRZHM+y9bxfLx8iPCO59COBOcTg2QlcO/wZsx41vn4M7WSidRdtTEmq7aXFImNsuJ7eB9J7KE5u2nBLvtWcj+CjCqvc5AYdtCS7ZzicLuDluymOcXevtAEc7aJBLhvKgS3gRRg/WFYmYoZsiIrfRk7X+x5jKQy297l8O5kOLAC+yAtTVoh4j4KXm6k4CUVcWWmq8qmwXd1mndXWtguvRT27DHHon39QxF/b8nl0BEb6em+HEz1pyDLhUXGwrB/JWpJtBEWlUWTsAyahWVySmQ2bWMLaRnqS2JoKInR0cQ3aYJPBYUXFdv4dkE6m1NSsISlEtUilQUrUvlmcQo53ikQkmZ2cwzZ7/L4Mz9LIEkRji1m6TsT+PqDBA7vKg1piU2DtWi0SBnu/nKiouvX1pgsV3sPgDm+KpaDJLLXviWxxx6ykthDM1LwpeqJidKJsrdx7aClfX+7X0t2NW1BbnyI2b2voq0pla5b5SAHM5GlYPYl3AsROfDuE9Dc2wxbsVDB9Bn6AkrkZFLwciMFLzkRrnZLdOU6NZ3REeCbb+Cyy8x9L79igkJy8fK1YbX6UJDjT3Gei6s/x2B+xZoINLMREpZDdFgW8aFZNA/L5tSYArwzYPEXQez+K5xDqTHkHA4lOhrSnU2X5VUMIftKJwSxTxKS6jhRSFAV01GWlR8OWQmclpxA11bNSAgpP3tjdcef6ZcaqSlP/+xUNivfkCEnXltF17/uOucTTxzPlX8LS1q8/MkngVSakWK/LbslspdmpFS4plVZxXiTQjP2kMQuWrDDO5m/Y9uyvekp7GmaxP6mTSmMCzDDU9xxW3SVly/7QrAPWgVBpyh74xfNgO1L4cm7MMPW0ep9JiLiOQpebqTgJSfqRENTiRP5Ba463xiPG2fDRh7/bCti114LBw74cuSAP8UFLr6YP+ZvFvFAHHg1sRIcnEOIXxbBlhwCrbn45RZiyYaCA/5k7gvjyL5IMg+EQ1FF0+/nQWgqL81Mo2mrVPZkpPD4C6lkU3YGxxTwq9n4M2ezNzYLbUZUQCxTnvZixgzHCVWqM3NaQ+TpMFFfVBRKXnzR+bqD7nj9imblMwzKfSFS3Z9rVye8qEoI2XSJ28eiOfvwPpAGqanmh5Nm7htpaRzdnEakzbUvYGxYSCWef0Lbsjm2HdtiW7G9SUtSmiSyv0lTDjeJJKdJMDT1MrsCNsX8UqmSyWbLKYTQHMj6B3PWi+O3VHNLDIAZ0yr+TGvr/wcROXkUvNxIwUtqg6d/UXV1jERsrFnj8bUZhrl259695rZ7t42//85l+64i9qZZ2H/Ah8OH/MjLrN4shkRi/tJzbPMPyycwIJcgn1wCycffmo9PfjGWXCg46svt14VwxaUR/P1nGIP6HB/SDPDPcmgpO39IKuHNzVC2Lzut2uPPsPpAdpzjwtRlFqp+cXICN1+RQERAxEld/8zVnyd3/Ny5uwXlRHj671lZ1Qkl7gjyNZmQojotLZVf3yCEbJpwgKbspyn7Hfabsp849tm3EHKqrK3Y25sjkZHsiU3kr5h2bIs5lV0xyaTEJLA/No702GgyYsPIjQ2mKNYXYi3Vn0XCChwE9pdu554KG36GjL8wZ7jYBwne8NIT8K8K1vGKjYXrrzf/PrjyM1iXfm5FpGoKXm6k4CUNgau/hH38cc1nEHQW7vy88wkMzsPb34rh5UWxzYeCfH8Kc3zBVp2vlzG/jY7C7OYTA14RVvyDCvD3zyfANx9/CvCxFeFTaMXIt2DN8aIg05/MI2GE+odx25XetGsFTeNsdDgznf255kQgKZnmzI1lJwjZfjCVI0X7qrX+mbMp9Y+fzTHYL9jlt1v2l7EmTcxjBw6Y4/jeeqviBV1LVLXwa01UtRaeqy0oJzsQnuyWg+qGHnd0LavphBQlY0+3bi0zCUZTG706Z+B95JC5BtWhQ/y19BDvPneQWA7ShAMOt7EcJIg8p9c3gMywMA5HRZEeHc3hqCgOR0WRFhXP4eZJZLdsRnpcHOkxMRyKjCQ9JIT0wECOOpnsxyW5wIFj2/4y+weOO74fOATYSp+alGSOwYWqx/MqOIk0HgpebqTgJQ1FVd/AP/AAPPdcza9fne6Mx/OmkJCgHPyCCrH4Gti8vCmy+VBU6Edhnh/FuTX8pQvAB7NlLQK8Qq34BhbhG1hESHAhkWFFhIcUExFiJSrUIDbcQkykDzPf9iMt1Z88aw7YUsF/L4SnOI5FCzs2SUg1xp+F+Yc5BLFyU+yHNSMuJI5vvvQrFyIqc/wv7lUt/FqTX/CtVmjatIKxei7WBc4D0okuG/Dpp86f66mxMjUJPa5OtuMq538fDULJIpIjRHKEKA4TyRGiSSeKww63TX0PE1aUTgyHiCYdH0pnxCj09SUjPJyjERFOtyORkRyJjORgZCwHIptwKDKGI1GRZEWGkhsRhOFdzS9dyogyIDgPAnMgxgJtIiE/BSzpkL8LPn8LM0wdPLYd1/vYYjHX66rq59hi0RgrEXFOwcuNFLykIamoW8xrr5VOAlJTJ/oN+9VXwwsvVHze22/D2WfDobRC9mzP4sln8imwWjF8werlTTE+FFl9KSzwoyjfj+JsH4yimv+C58DXwBJi4BVowzvAire/FW/fYny8rURFWYmIKMTPvwDfgFy8/LOx+hwl3+cQWd77OVq8kyP5Wyg09oFvDvjmgl+OOW7Np6DccmoA5MSWm1K/XHfHnFgwSn9DL9tSceqpFYe2mv6CP38+XHhh9T6241/vyy9rP/x/8ok5kUPZmfIqev2T1QpxIl9CVLq8REExy3/I5PDOTOKDMjjj1Ay8czIhI8Pcjh41t4wM9v99lLWLjxLBUXvQCvLLIS80iKzQUIctMyzM6ZYRHu6wHQ2PIDM8nLygwBp+MmXkAIdLN99suOkSiPYyh1tFl9lK7kdifo9SGWf/xpUoGTsFVa/j9eabCl0i4pyClxspeElD465uMVVNn+/M8S0Sn34KI0fCwYOl51Q00LyiGSOP500RYV6ZBIfm4B+cj0+QFfzB8PXC8PMhMNyX7Dw/cvJ8yc/zIz/Xl+I8H6zZ3pDj5nFbFgOvACtefla8/Aqx+BXi5VOAxbcAi08++OSDTx6GTy42nxxsvjkU++Rg884GrxwotEChLxQFQWEIFITS65wwfvkhEvKiIC8aCsJwlu5+/NEMUq4OTfv3v+E//6n5W/35Zxg+vOpWvE8+cf4lgLOf2y+/rLzrY1mVBZratmihwYDzCwkil2Byyt0Gk0MI2eW2YLLp1yePJnGF5BYXk1tURK7NRo7NRmYxFPl5kRMc7LDlBgXZ97NDQircskJDKfKr5hjMKliywTiMOSPf8duRMtthJ/cLHK/1xBPw2GO1U1fJz0pKivlvSWwsNGvm+G+ds4AWFWUee+QRdRUUkYopeFXhtdde4/nnnyctLY2OHTsyffp0evXq5dJzFbxEXFfZ9PnOZlFzFqqqEwwr+3bbVcf/Ql526upwjhASmk1QaB6+IUV4BxVDIBj+Fmx+PhT7+BAU6UOB4UdOoR+5hX7kF/pRUOhLYaEfxYU+2PK9ze5OOZTeVr2E0Enj7WvDx9eGj5+Br5+Bj6+B37F9P18DPz/w8zc4chgOHDAoCXGGgTlgBzAMC4ZhAQMMm7lv3oJh88IwLFxztYU5H1pw3sRXyj7Bi5dhvohh8Plcg3H3GaSm2PDChjdWEuNt5GbbyMmy2o/5UIwPxfZ9b4rxsRTj413M5ElF9OtbjLW4mGKrFWtxMdaiIqxWK0XFxRSX3axWiqxW+23hsdsim41Cw6DIZqPIZqMAMz8UAgUWC4UWCwVeXuR7e1Po60t+QAAF/v4OtyVbXmAgeYGB5fYNr1pqpa1MrgFZFsgEsjBvK9oyym9fvgeDzoOvqhjz56roaNi//+SHHY3NEpGaUPCqxEcffcSNN97Ia6+9xrnnnsv//d//8fbbb7Np0yaaN29e5fMVvESqp7Lpkd0x613JL0/z59esReaDD8yuamWvV52JEY5/vl1xMWRnY83MJDs7m6zcXDLz8sgsKOBovpXDuQbpuXA034ujhd5kFPqQlunL/qM+FHn7UuTlR6HFn0L8KDT8KDB8KTL8KLL6UWT1xSj0gnxKtzywJ4GSLd/JsQq65NUZ3gYEgsW/zG0AWAINCDCwBGHOVhd0bAsEAg0IBiPYAiEWbKEWjBALhHpBMBAChJa5rd2GH7fwttkIKLRSeMTAkmtg5Fqw5Vmw5Xhj5HiZAf5YmA/1hnF3QriX+RZ3b4L/PAhkHzsnGzNgZR3bP8GfgbI/85Mnw6RJNb+WxlKJSH2j4FWJ7t27c8YZZ/D666/bj7Vv357LL7+cKVOmVPl8BS+R6vPEN8k16eoIzrugVTV7X1XPr6mqxsl5U0wgeQSRS4BPHgFB+QQEFeAXWIhfUCHR8cWMe6CYl/7PRm6xFa+gQiwheRBagCWoCAKKsfkbGH7e+AR5k2/zJd/wo9jqhxV/iowAig1/ig1/rFY/igw/rDZfim2+WK0+WK0+FFt9sFm9sRb7YCvywlbshbXIC6PIC1uRBYq8Kg9/+cft53PyWwB9MQNYKBB6bPxemIFXmA3vEBveoQY+oTZ8Qm34hVnxC7PhH2YlMNxGQLiNwHAb/v7gb7HgD/h5eeHv5WXeenvj5+PDgVQf3pvli63Au/Q9l9zmURqWS/bz4e2X4apLzCzpVc0vAMr+HNZ0jFlsrGM3X1deq6ovKkrG2L3wAowbp/WqRKT+czUbVDUmtcEpLCxk1apVPPTQQw7HL7roIpYtW+b0OQUFBRQUlHY+z8zMdGuNIg2Rt/fJG09T9jVnzDC7OpZ0baxMyS+EznodDx1qTq3vyqQNLvZadkmvXuY1KwqPVnzIJpRsQs2wcqw7mH2s3GToexEczq64yyeUb2HIKsiyT6WfkrWjzH6KwzT7hdZC8wnexzb/YxcwwMsAXxt4YcHb8MOSE49XTjyWnAT6nhVH1zZxvPJsE8hrCnmxkNcEAsKweIGBBeNYL0TD8GLSJAtt2nixeq2FZ6ZYsB3rymgzvDBsXthsJbfHujjaLGBYzJYcm1mP/daA0FAoKoD8/GP1FlE6sQMWDCxYASveuLjCG0FBZhe56GhzVsboaAiMgfBj9/P+Adsrrl3LHkAuKT226JfqdaFNSyvdj493/XmxseaCzs2aQc+e5sQsFf38OfuZL/v3Dpz/vJWEq6FD1bVPRBqPRhe8Dh06hNVqpWnTpg7HmzZtyr59+5w+Z8qUKTzxxBMnozwRqWUlE3RUNe6r7C+EFf3id9VV5nmVTVNe2fNrorrhsURiomPLQUWfw/HnlQj1D6Wtf1vaxrSt8DUMwyA9L53/fp7K0y+nkl5YOr1+QJNUwhNTOFiQSlHgfvAqgIid5gZ8lQlfrQQuOO6iRQHHzdyYQLCtGdFnJBAYnkDg1mZkH0iAItfXPyvL2xvmfFQaCo71/iQry3HLyIDMMpMDlt2OHjUXDy/ZMjLMP5fcXHPbs6dGpdkNHWoG/IQE2LXLDCR+fo5ByhVlw1ZVAb6sN95w/Hmo6Oevsp95V3/ePPGFjIiIpzS6roapqak0a9aMZcuW0aNHD/vxp556ivfee4+//vqr3HOctXglJSWpq6FIPVK2q+OWLebU0CkppY9Xp4tTZWPW3NVFqqpJQxITYcQIaN268pYDd85g6ey6VissWlLMX3v24x2RStNWqezLMVvOlv6ZyuLVx9ZAC02DoGosCJYf5nxKfYctHqz+Dk87kQXBK3vvmZlmCEtPN9cTPv720CFzsetly8ywVx0Wi7leWkQEOPkvyqmShX7L/tlWNetnZVOm1/RnXpNViEhjoDFeFSgsLCQoKIhPPvmEK664wn58zJgxrF27lsWLF1d5DY3xEqn/TvQXQk+NWSt5zSZNzGMHDtTfX2jLjV/zyTcXoLYvSp0KYSlceEUq1qDS7o1ZhVmuv0hODGQl4FuQQO8uzeh5WkK5xaqbBDfB2+vkfHhVLVp+8cVml8XUVHNLS4PCwuq/zi23wOWXQ5s2cMopZotZyesfH6Cio2H06KqnTFeIEhFxTsGrEt27d+fMM8/ktddesx/r0KEDQ4YM0eQaIiIniSuTnzhruXn/kyxuGHmspSwkDcJSyoS1Mvs+riUWb4s3cSFx9kBWNpQlhCbQLMzcjwyIxOLqImeVqE7rkWGYk1vs2WNuX38N775bvdfz8jI/59atza1VKygoMANex47Qu7cClIjIiVDwqkTJdPJvvPEGPXr04M033+Stt95i48aNtGjRosrnK3iJiNSOytZ5g4qnFa96vTbD7LoYmsqjz6bSsnMqKZnHJgbJNvfTstPYl70Pm2FzqVZ/b3+HIJYQkuAQ1koeC/ELqfJaJ9J65Oy9R0TApZfCOeeY48K2b4dt28xutTk5FV8rNBTat4cOHcwQ1qGDubVo4fpC2iIijZ2CVxVee+01nnvuOdLS0ujUqRMvvvgivXv3dum5Cl4iIrWnNsYP1XTcXrGtmAM5Bxxmaiwb0EqOHco95PL7CfULdWwtC3FsOUsITSA+JB5/H/+qL+bCe68suBkG7NsH//xjfkZbtpj7f/9t7lc03iwsDDp3htNPhy5dzNtOnSAwsMYli4g0WApebqTgJSJSu2pj/JA7xyAVFBeQlp1WGspKtuzSoJaSlUJ2YbbL14wJiiltLQtxDGYnY/xZYSFs3QqbNjluf/0FRU7m0PfyMseMnXkmdOtmbl26mF0WRUQaMwUvN1LwEhERZ8quf1Z23bOUrBTSstLsxwusBVVfDPCyeBEXEucw5qxc98bQZkQFRtXK+DMwQ9dff8Gff8Latebtn386X0jZ29vsotitG5x1FvToYbaMacyYiDQmCl5upOAlIiI1ZRgGh/MOO4SztKw0h8WpU7JSqjX+zM/bz/nEIMcFtlD/0BrWbHZZXLMGVq6EFSvMbf/+8ueGhppjzc4911yA+ZxzzGMiIg2VgpcbKXiJiIi7WW1W9ufsLxfKSoJZyQQhtTH+rOwYNFfHnxmGOaauJIj98Qf8/ru5AHVZXl5w2mnm7In9+kGfPhAVVd1PQ0Sk7lLwciMFLxERqStKxp8dPzlISlaKw7i06qx/Vtn4s5KtaXDTcuPPrFbYsAF+/dXcli2DnTsdr22xmBN39Otnbr17m7MyiojUVwpebqTgJSIi9U3Z8WcOY87KTBBSk/FnZQPa8bM3JoQmUHAkml9/tbB4MSxcCJs3H3cdL3PCjoEDze3ss8HHxw0fgIiImyh4uZGCl4iINEQl48+czeCYkpViD2z7svdhNawuXbPs+LOE0AQiitqRs6Ub+9a3Z8uqZuzd6TgtYkQEXHihGcIGDIDERDe8URGRWqTg5UYKXiIi0phZbVaH9c/KjjkrO5ujS+PPMprB9v74bL8U27YLsOVGODzcvPVR+g7I4orLvRjQK4ZAv5qvfyYi4g4KXm6k4CUiIlK1suuflR2Hdnxgs48/s3lBSjfYOhC2DYC93QGv0guGpuDf8Ufiz/yD1mfuJTEq1unsjU1DmuLjpf6KInJyKHi5kYKXiIhI7ckuzHY6e+P21Aw2L2tJysozyNnUCwrLzEvvlwWt50HHj6HVd+CXZ3/Iy+JF0+Cmlc7emBCaQHRgdK2tfyYijZeClxspeImIiJxceXkGX/+QzWdfFDL/+2DS9wfYH/P2zyP89CXQ4WOOJs7B5pPr0jWPH392fMtZyf2arn8mIo2DgpcbKXiJiIh4js0Gq1bBp5/Cxx87TlkfGmpw0aA8zhuUQosz/uZAforTddCqs/5ZiF+I02BW9lh8aDwBPgFVX0xEGhwFLzdS8BIREakbDMNcwPmjj8wQtndv6WOxsTBsGNx8M3TpYq4hVqKguIB92fucjjsru59ZkOlyLVGBUZW2nGn8mUjDpODlRgpeIiIidY/NBr/9ZoawOXPgwIHSxzp1MgPY9ddDfLzr1ywZf3Z8KCt7PyUzpVrrn5WMP3Ma0o6NQdP4M5H6Q8HLjRS8RERE6rbiYvjhB/jvf+HLL6HgWC7y8jLXBxsxAi69FHx9T/y1DMPgSP4Rx1BWsg5amQWqT2T9s7IThJQNaKF+oQpoIh6m4OVGCl4iIiL1x5Ej8MknMHs2LFtWejw+Hm6/3dyaN3d/HVablYO5BysMaCX3D+YedPmawb7BjrM1hpSfvTEhNEHjz0TcSMHLjRS8RERE6qctW+Ddd82tpCuilxdcfDHceScMGgTe3p6tsdBayL7sfaWhrGQr03qWmpVKRkGGy9csGX9W2Rg0jT8TqRkFLzdS8BIREanfCgvNLohvvAELFpQeT0qCkSPhjjsgKspz9bmi7PgzZxODlOznF+e7dL3jx59VNINjdFA0Xhavqi8o0kgoeLmRgpeIiEjDsWULvPkmzJwJ6enmscBAczKOMWOgXTvP1nciDMPgaP7RCmduLLmflpXm8vgzXy9f4kPjK529sVlYM40/k0ZDwcuNFLxEREQanvx8c0r6F1+EtWtLjw8cCPfdB/37O05J35DYDBsHcw6WD2WZKSc8/sw+5iyk/OQg8SHxBPoGuvGdibifgpcbKXiJiIg0XIYBv/xiBrAvvzTvA3ToAOPHm1PS+/l5tkZPKRl/dvzkIMcHtpqOP6toDJrGn0ldpuDlRgpeIiIijcP27fDSS/DOO5CdbR5LSoIHHoDbboOgIM/WV1flFOaU68robByaq+PPLFhoGlJm/JmT2RubhTbT+DPxCAUvN1LwEhERaVwyMsxxYNOmwb595rHYWLML4siREB7u2frqo5LxZ2nZaQ6zNdoXpj4W2NKy0yi2Fbt0zZLxZ5XN3pgQmkCYf5jGn0mtUfByIwUvERGRxik/H2bNgmefhZ07zWNhYXDPPWYIi4nxZHUNU8n4s3ItZmXGn6VmpXIg54DL1yw7/sxpSAtrpvFn4jIFLzdS8BIREWnciorgo49gyhTYtMk8FhICY8fC/fdDRIQnq2ucyo4/S8lMIS27fPfG1KxUjuYfdfmakQGRFU6rXxLQmgY3xdfb131vTOo8BS83UvASERERAJsNvvoKnnwSVq82j0VEmGPARo82w5jULblFuaRlpTltPSsJbCmZKeQV57l0PQsWmgQ3qXT2xoTQBGKCYjT+rIFS8HIjBS8REREpyzDg88/hscdg40bzWGwsPPQQ3H23uS6Y1B+GYZBRkOEQzErGnJUNbDUdf1bZGDSNP6t/FLzcSMFLREREnLFazS6IkybB1q3msYQEM5Dddhv4aEb0BqXs+mclMzc6myTkYM5BDFz7lTvIN8ixe2NI+dkb40PjCfLVlJp1hYKXGyl4iYiISGWKiuC//4XJk2H3bvNYhw4wdaq5ILMaNBqXImuRw/pnJYHs+Kn2qzP+LCIgovyYs+Na0eJC4jT+7CRQ8HIjBS8RERFxRUEB/N//wRNPwOHD5rELLzQD2Omne7Y2qXuOH39mH3N23Hg0jT+rWxS83EjBS0RERKrjyBF4+mlzMebCQrPF65ZbzEk5EhI8XZ3UJyXjz8pOBGJvScsuHY+2L3tfjcefOVugOiE0gXD/cI0/c0LBy40UvERERKQmtm+HiRPh44/N+0FB8OCDMGECBAR4tjZpWGyGjUO5hxy7N5ZMElIy1X5mCgdyDrg8/izQJ9AxkFUQ0Brb+DMFLzdS8BIREZETsXy5ud7X8uXm/VNOgZdfhkGDPFuXND5F1iL25+wvnVb/uMlBSrYj+UdcvmbJ+LPKxqA1pPFnCl5upOAlIiIiJ8owzJavceMgNdU8NmQITJ8OycmerEykvJLxZ85CWdkxaTUZf1bRAtUJoQnEBsfW+fFnCl5upOAlIiIitSUry5z9cPp0KC42uxw+8giMH6/uh1K/GIZBZkGm01BW9n5aVhpFtiKXrunj5UNcSJzTdc96t+hNy8iWbn5XVVPwciMFLxEREaltGzfCPffAokXm/Vat4JVXYMAAj5YlUutsho303PTyoSwzhdTs0vv7s/dXOv7svSve44bON5zEyp1zNRtoGT8RERGROqBjR1iwAObMMcd/bd1qrvl1ww3w4osQE+PpCkVqh5fFi9jgWGKDY+kS16XC88qOP3MYg3YsnLWOan3yiq4FavGqAbV4iYiIiDtlZsKkSeb08zYbxMaak29cfbUWXxapa1zNBnV7pJqIiIhIIxQWZrZyLVtmtoQdPAjXXguXXw4pKZ6uTkRqQsFLREREpI7q3h1Wr4bHHwdfX/jqK+jQAd56y5wVUUTqDwUvERERkTrMz8/sdrhmjRnEMjPhjjvgggtg1y5PVycirlLwEhEREakHOnaEX381uyAGBcHChdC5M/z3v2r9EqkPFLxERERE6glvbxg7Ftatg549zdavm2+Gq66CQ4c8XZ2IVEbBS0RERKSeOfVUWLwYnnoKfHzgs8/gtNPg++89XZmIVETBS0RERKQe8vGBhx+G33+H9u1h3z64+GIYNQpycz1dnYgcT8FLREREpB474wxYtQpGjzbvv/YadO1qTsYhInWHgpeIiIhIPRcYCDNmwI8/QkIC/PMP9OgBr7+uiTdE6goFLxEREZEGon9/c+KNyy6DggIYORKuuQYyMjxdmYgoeImIiIg0INHR8OWX8MIL5jiwTz4p7Y4oIp6j4CUiIiLSwFgsMG4cLF0KLVrA9u3m9POvvKKuhyKeouAlIiIi0kB1725OsjFkCBQWwr33wpVXquuhiCcoeImIiIg0YJGR8PnnMH06+PrC3Llw9tmwebOnKxNpXBS8RERERBo4iwXGjIFff4XERHPWw+7d4YsvPF2ZSOOh4CUiIiLSSHTrZk6y0acPZGXBFVfAY4+BzebpykQaPgUvERERkUakSRP46afSBZeffNIcA6ZxXyLupeAlIiIi0sj4+poLLs+eDf7+8M03Gvcl4m4KXiIiIiKN1E03meO+kpLMcV9nnw1ff+3pqkQaJgUvERERkUbszDNh5Upz3Fd2ttntcMYMrfclUtsUvEREREQauZJxX3fcYQausWPNNb+Kiz1dmUjDoeAlIiIiIvj6whtvwPPPm9PPv/oqDB4MmZmerkykYVDwEhERERHADFzjx8Onn0JgIHz3HZx3Huze7enKROo/BS8RERERcTB0KCxeDHFxsH69udjyypWerkqkflPwEhEREZFyunWD33+H006Dffugd2/48ktPVyVSfyl4iYiIiIhTzZvD0qUwcCDk5ZktYe+84+mqROonBS8RERERqVBYmLm21623gs0Gt98Ozzyj6eZFqkvBS0REREQq5eMDb78NDz1k3p84EcaNM4OYiLhGwUtEREREqmSxwJQpMG2aeX/6dLjpJigq8mhZIvWGgpeIiIiIuOy+++C998xWsPffN9f6ysnxdFUidZ+Cl4iIiIhUyw03wFdfmWt9ff89XHABpKd7uiqRuk3BS0RERESq7eKLYf58iIw0p53v0wf27/d0VSJ1l4KXiIiIiNRIjx7mdPMJCbBxoxm+UlI8XZVI3aTgJSIiIiI11qEDLF4MSUnw999m+Nq929NVidQ9Cl4iIiIickJatYIlS6BlS9i2zQxfO3Z4uiqRukXBS0REREROWHKyGb5at4adO6F3b9iyxdNVidQdCl4iIiIiUisSE81uh+3bw969ZvjavNnTVYnUDQpeIiIiIlJr4uNh0SI47TTYt8/sdrhunaerEvG8BhW8kpOTsVgsDttDDz3kcM7u3bu57LLLCA4OJiYmhtGjR1NYWOihikVEREQaniZNYOFCOOMMOHjQXOdr40ZPVyXiWT6eLqC2TZ48mREjRtjvh4SE2PetViuXXHIJsbGxLF26lPT0dG6++WYMw+Dll1/2RLkiIiIiDVJ0tLnOV//+sHKlGb6WLIE2bTxdmYhnNLjgFRoaSlxcnNPHfvzxRzZt2sSePXtISEgA4IUXXmD48OE89dRThIWFncxSRURERBq0iAj44Qc4/3z488/S8NWypacrEzn5GlRXQ4Bnn32W6OhounTpwlNPPeXQjXD58uV06tTJHroABgwYQEFBAatWrarwmgUFBWRmZjpsIiIiIlK1qCj46afSCTfOPx/27PF0VSInX4MKXmPGjGHOnDksXLiQe+65h+nTpzNy5Ej74/v27aNp06YOz4mMjMTPz499+/ZVeN0pU6YQHh5u35KSktz2HkREREQamthYs9thq1bmVPPnnw9paZ6uSuTkqvPB6/HHHy83Ycbx28qVKwG477776NOnD507d+b222/njTfe4J133iE9Pd1+PYvFUu41DMNwerzExIkTycjIsG979DWNiIiISLXEx8OCBeZ6X1u3woUXmhNviDQWdX6M1z333MO1115b6TnJyclOj59zzjkAbN26lejoaOLi4vj9998dzjly5AhFRUXlWsLK8vf3x9/fv3qFi4iIiIiDpCQzfPXqBZs2mRNvLFhgdkcUaejqfPCKiYkhJiamRs9ds2YNAPHx8QD06NGDp556irS0NPuxH3/8EX9/f84888zaKVhEREREKtSypRm2evc2J9wYONDshhga6unKRNyrznc1dNXy5ct58cUXWbt2LTt27ODjjz/mzjvvZPDgwTRv3hyAiy66iA4dOnDjjTeyZs0a5s+fz/jx4xkxYoRmNBQRERE5Sdq0McNWdDSsWAFDh4KWVZWGrsEEL39/fz766CP69u1Lhw4deOyxxxgxYgQffvih/Rxvb2++/fZbAgICOPfcc7n66qu5/PLLmTp1qgcrFxEREWl8OnaE776D4GD4+We4+Waw2TxdlYj7WAzDMDxdRH2TmZlJeHg4GRkZaikTEREROQE//giXXgpFRXDvvTBjBlQy55lIneNqNmgwLV4iIiIiUv9cdBHMnm3uv/wyPP20Z+sRcRcFLxERERHxqOuuM1u6AB59FN56y7P1iLiDgpeIiIiIeNzo0fDww+b+XXfB5597th6R2qbgJSIiIiJ1wn/+A7fdZk6ycd11sHixpysSqT0KXiIiIiJSJ1gs8MYbMGQIFBTA4MGwcaOnqxKpHQpeIiIiIlJn+PjAhx/CeedBZiZccgns3+/pqkROnIKXiIiIiNQpgYHwxRfQqhXs2mW2fOXmeroqkROj4CUiIiIidU50NHz7LURFwR9/wE03aYFlqd8UvERERESkTmrTxpzd0NcXPvusdNZDkfpIwUtERERE6qzeveHdd839Z5+Ft9/2bD0iNaXgJSIiIiJ12g03wGOPmft33w0//+zZekRqQsFLREREROq8xx+HYcOguBiuvBI2bfJ0RSLVo+AlIiIiInWexWJ2OTzvPMjIMKeZP3jQ01WJuE7BS0RERETqBX9/c7KNVq1g50646iooKvJ0VSKuUfASERERkXojJga++gpCQ2HxYhg3ztMVibhGwUtERERE6pX27eF//zP3X3mldNZDkbpMwUtERERE6p3Bg2HyZHP/7rvht988W49IVRS8RERERKReeuQRGDoUCgvN29RUT1ckUjEFLxERERGpl7y8YPZs6NQJ0tLM8JWf7+mqRJxT8BIRERGReiskBL74AiIj4fffYdQoMAxPVyVSnoKXiIiIiNRrp54KH31ktoC9+y68+qqnKxIpT8FLREREROq9/v3huefM/bFjYckSj5YjUo6Cl4iIiIg0COPGwfXXg9UK114L+/d7uiKRUgpeIiIiItIgWCzwf/8HHTuak21cd50ZwkTqAgUvEREREWkwgoPh00/NSTcWLoRJkzxdkYhJwUtEREREGpR27eCtt8z9p56C777zbD0ioOAlIiIiIg3QtdeaU8sD3HAD7N7t2XpEFLxEREREpEF64QXo1g0OH4arr4bCQk9XJI2ZgpeIiIiINEj+/vDxx6WLKz/wgKcrksZMwUtEREREGqzkZHjvPXP/pZfgk088Wo40YgpeIiIiItKgXXIJPPSQuX/rrfDPP56tRxonBS8RERERafCefBL69IHsbHN9r4ICT1ckjY2Cl4iIiIg0eD4+8MEHEB0Nq1fDI494uiJpbBS8RERERKRRSEiAmTPN/RdegB9+8Gw90rgoeImIiIhIo3HZZaXre918Mxw44Nl6pPFQ8BIRERGRRuX556FTJ9i/H265BQzD0xVJY6DgJSIiIiKNSmAgfPghBATAvHnmNPMi7qbgJSIiIiKNTqdO5jgvgAkTYO1aj5YjjYCCl4iIiIg0SnffDUOGQGGhOcV8bq6nK5KGTMFLRERERBoliwXeftuc7fCvv+C++zxdkTRkCl4iIiIi0mjFxMB775kh7M03Ye5cT1ckDZWCl4iIiIg0auefDw8+aO7fcYc526FIbVPwEhEREZFG74knoEsXSE83w5emmJfapuAlIiIiIo2enx/897/m7VdfwezZnq5IGhoFLxERERER4LTTYPJkc3/MGNi927P1SMOi4CUiIiIicsz48dCjB2Rmwi23gM3m6YqkoVDwEhERERE5xtvb7GYYFAQLFsBrr3m6ImkoFLxERERERMpo3Rqee87cnzAB/vnHs/VIw6DgJSIiIiJynLvvhgsvhLw8uPlmKC72dEVS3yl4iYiIiIgcx8sL3n0XwsPht9/g+ec9XZHUdwpeIiIiIiJOJCXBSy+Z+5MmwZ9/erYeqd8UvEREREREKnDjjTBkCBQVwfDh5q1ITSh4iYiIiIhUwGKB//s/iIqCtWvhhRc8XZHUVwpeIiIiIiKVaNoUXnzR3H/8cfj7b4+WI/WUgpeIiIiISBVuvBEGDICCAhgxQgsrS/VVO3gNHz6cJUuWuKMWEREREZE6qaTLYXAw/PKLuS9SHdUOXllZWVx00UW0bt2ap59+mpSUFHfUJSIiIiJSp7RoAVOmmPsTJsCePZ6tR+qXagevzz77jJSUFO655x4++eQTkpOTufjii/n0008p0jQvIiIiItKAjRwJPXtCdra5yLJheLoiqS9qNMYrOjqaMWPGsGbNGv744w9atWrFjTfeSEJCAvfddx9btmyp7TpFRERERDzO2xvefhv8/ODbb+HDDz1dkdQXJzS5RlpaGj/++CM//vgj3t7eDBo0iI0bN9KhQwdeLJn6RURERESkAWnfHv79b3N/9Gg4eNCz9Uj9UO3gVVRUxGeffcall15KixYt+OSTT7jvvvtIS0tj9uzZ/Pjjj7z33ntMnjzZHfWKiIiIiHjchAnQuTOkp8OYMZ6uRuoDn+o+IT4+HpvNxnXXXccff/xBly5dyp0zYMAAIiIiaqE8EREREZG6x88P3nkHunc3uxsOGwaXXurpqqQusxhG9YYEvvfee1x11VUEBAS4q6Y6LzMzk/DwcDIyMggLC/N0OSIiIiLiIQ88AFOnQmIibN4MISGerkhONlezQbW7Gt54442NOnSJiIiIiJR44glIToa9e819kYqc0OQaIiIiIiKNWVAQvPKKuf/ii7B+vWfrkbpLwUtERERE5ARccglccQVYrebaXjabpyuSukjBS0RERETkBM2YAcHB8OuvMGuWp6uRukjBS0RERETkBCUllY7xeuABOHTIs/VI3aPgJSIiIiJSC0aPhtNOg8OH4cEHPV2N1DUKXiIiIiIitcDXF15/3dx/912z26FICQUvEREREZFacu65cNtt5v5dd0FRkWfrkbpDwUtEREREpBY9+yxER8OGDTB9uqerkbpCwUtEREREpBZFR8Pzz5v7jz8Ou3d7tBypIxS8RERERERq2c03w3nnQW4ujBnj6WqkLlDwEhERERGpZV5e5kQb3t7wxRfw44+erkg8TcFLRERERMQNOnWCe+4x98eO1UQbjV29CV5PPfUUPXv2JCgoiIiICKfn7N69m8suu4zg4GBiYmIYPXo0hYWFDuesX7+ePn36EBgYSLNmzZg8eTKGYZyEdyAiIiIijc3jj0NMDGzeDK++6ulqxJPqTfAqLCzkqquu4u6773b6uNVq5ZJLLiEnJ4elS5cyZ84cPvvsM+6//377OZmZmfTv35+EhARWrFjByy+/zNSpU5k2bdrJehsiIiIi0ohERMDTT5v7jz8OBw96shrxJItRz5p7Zs2axdixYzl69KjD8e+++45LL72UPXv2kJCQAMCcOXMYPnw4Bw4cICwsjNdff52JEyeyf/9+/P39AXjmmWd4+eWX2bt3LxaLxaUaMjMzCQ8PJyMjg7CwsFp9fyIiIiLSsFit0K0brFkDI0bAm296uiKpTa5mg3rT4lWV5cuX06lTJ3voAhgwYAAFBQWsWrXKfk6fPn3soavknNTUVHbu3FnhtQsKCsjMzHTYRERERERc4e0NL71k7r/9Nqxe7dl6xDMaTPDat28fTZs2dTgWGRmJn58f+/btq/Cckvsl5zgzZcoUwsPD7VtSUlItVy8iIiIiDdl558F114FhwOjR5q00Lh4NXo8//jgWi6XSbeXKlS5fz1lXQcMwHI4ff05JT8vKuhlOnDiRjIwM+7Znzx6XaxIRERERAXjuOQgKgl9/hTlzPF2NnGw+nnzxe+65h2uvvbbSc5KTk126VlxcHL///rvDsSNHjlBUVGRv1YqLiyvXsnXgwAGAci1hZfn7+zt0TxQRERERqa7ERHj4YXj0UXjgARg8GIKDPV2VnCweDV4xMTHExMTUyrV69OjBU089RVpaGvHx8QD8+OOP+Pv7c+aZZ9rPefjhhyksLMTPz89+TkJCgssBT0RERESkpu6/H955B3bsgGeegSef9HRFcrLUmzFeu3fvZu3atezevRur1cratWtZu3Yt2dnZAFx00UV06NCBG2+8kTVr1jB//nzGjx/PiBEj7LOLDBs2DH9/f4YPH86GDRv4/PPPefrppxk3bpzLMxqKiIiIiNRUQAC88IK5//zzsH27Z+uRk6feTCc/fPhwZs+eXe74woUL6du3L2CGs5EjR7JgwQICAwMZNmwYU6dOdegmuH79ekaNGsUff/xBZGQkd911F4899li1gpemkxcRERGRmjIM6N8f5s+HK66AuXM9XZGcCFezQb0JXnWJgpeIiIiInIiNG+H00801vhYtgj59PF2R1FSjW8dLRERERKS+6NgR7rzT3B8/Hmw2z9Yj7qfgJSIiIiLiAZMmQWgorFyp6eUbAwUvEREREREPaNIEJk409ydOhPx8z9Yj7qXgJSIiIiLiIWPHmut77d4NL7/s6WrEnRS8REREREQ8JDAQnnrK3H/qKTh0yLP1iPsoeImIiIiIeNANN0CXLpCRoQWVGzIFLxERERERD/LyKl1U+bXXYMsWz9Yj7qHgJSIiIiLiYeefD4MGQXExPPSQp6sRd1DwEhERERGpA557zmz9mjsXli71dDVS2xS8RERERETqgI4d4fbbzf3x48EwPFuP1C4FLxERERGROuKJJyA4GH7/HT75xNPVSG1S8BIRERERqSPi4mDCBHP/oYegoMCz9UjtUfASEREREalD7r8f4uNhxw54801PVyO1RcFLRERERKQOCQ6GSZPM/f/8B7KzPVuP1A4FLxERERGROubWW+HUU+HAAZgxw9PVSG1Q8BIRERERqWN8fWHyZHP/+efh8GHP1iMnTsFLRERERKQOuvZa6NwZMjLg2Wc9XY2cKAUvEREREZE6yMsLnnrK3H/5ZUhN9Ww9cmIUvERERERE6qhLLoGePSEvz5xoQ+ovBS8RERERkTrKYoEpU8z9t96Cbds8W4/UnIKXiIiIiEgd1rs3DBwIxcWl08xL/aPgJSIiIiJSx5WM9frgA1i/3rO1SM0oeImIiIiI1HFnnAFXXQWGAY884ulqpCYUvERERERE6oEnnwRvb/j6a1i2zNPVSHUpeImIiIiI1ANt28Lw4eb+ww+brV9Sfyh4iYiIiIjUE5Mmgb8/LF4MP//s6WqkOhS8RERERETqiaQkuOsuc//xx9XqVZ8oeImIiIiI1CMPPggBAeY4r59+8nQ14ioFLxERERGReiQ+Xq1e9ZGCl4iIiIhIPVPS6rV8uVq96gsFLxERERGReiYuDu6+29yfNEmtXvWBgpeIiIiISD00YQIEBsJvv8GPP3q6GqmKgpeIiIiISD2kVq/6RcFLRERERKSeKmn1+v13+OEHT1cjlVHwEhERERGpp5o2hZEjzX21etVtCl4iIiIiIvXYAw+YrV5//AHff+/paqQiCl4iIiIiIvVY06YwapS5r3W96i4FLxERERGReq5sq9d333m6GnFGwUtEREREpJ5r0kStXnWdgpeIiIiISAPwwAMQFAQrVsC8eZ6uRo6n4CUiIiIi0gA0aVI6w+FTT6nVq65R8BIRERERaSDGjQN/f1i+HJYs8XQ1UpaCl4iIiIhIAxEfD7fdZu4/9ZRnaxFHCl4iIiIiIg3IAw+Atzf89JM53kvqBgUvEREREZEGJDkZrr/e3J8yxaOlSBkKXiIiIiIiDcxDD4HFAp9/Dhs3eroaAQUvEREREZEGp317GDrU3H/mGc/WIiYFLxERERGRBmjiRPP2ww9h+3bP1iIKXiIiIiIiDdKZZ8KAAWC1wnPPeboaUfASEREREWmgHn7YvJ05E1JTPVtLY6fgJSIiIiLSQPXuDeedB4WFMG2ap6tp3BS8REREREQasJJWrzfegPR0z9bSmCl4iYiIiIg0YAMHQpcukJMDL73k6WoaLwUvEREREZEGzGIpbfV66SXIyvJsPY2VgpeIiIiISAM3dCi0bQtHj5pdDuXkU/ASEREREWngvL1hwgRzf/p0c7INObkUvEREREREGoHrr4f4eHNa+Q8/9HQ1jY+Cl4iIiIhII+DvD6NHm/tTp4JheLaexkbBS0RERESkkbjrLggJgQ0b4IcfPF1N46LgJSIiIiLSSEREwO23m/tTp3q0lEZHwUtEREREpBEZO9acbGP+fFi92tPVNB4KXiIiIiIijUiLFnDNNea+Wr1OHgUvEREREZFGZvx48/bjj2HXLs/W0lgoeImIiIiINDJdu8IFF4DVaq7rJe6n4CUiIiIi0giVtHq99RYcOeLZWhoDBS8RERERkUZowAA47TTIyYH/+z9PV9PwKXiJiIiIiDRCFktpq9eMGVBQ4Nl6GjoFLxERERGRRuraa6FZM9i3Dz74wNPVNGwKXiIiIiIijZSfH4wZY+5PnQo2m2fracgUvEREREREGrE77oDQUNi0Cb7/3tPVNFwKXiIiIiIijVh4uBm+AF54wbO1NGQKXiIiIiIijdzo0eDtDQsWwPr1nq6mYVLwEhERERFp5Jo3hyuuMPdfesmztTRUCl4iIiIiIsLYsebt//4Hhw55tJQGScFLRERERETo2RPOPBPy8+HNNz1dTcNTb4LXU089Rc+ePQkKCiIiIsLpORaLpdz2xhtvOJyzfv16+vTpQ2BgIM2aNWPy5MkYhnES3oGIiIiISN1lsZROLf/qq1BU5Nl6Gpp6E7wKCwu56qqruPvuuys9b+bMmaSlpdm3m2++2f5YZmYm/fv3JyEhgRUrVvDyyy8zdepUpk2b5u7yRURERETqvKuvhqZNITUVPv3U09U0LD6eLsBVTzzxBACzZs2q9LyIiAji4uKcPvb++++Tn5/PrFmz8Pf3p1OnTvzzzz9MmzaNcePGYbFYartsEREREZF6w98fRo6ESZNgxgy47jpPV9Rw1JsWL1fdc889xMTE0K1bN9544w1sZZbfXr58OX369MHf399+bMCAAaSmprJz584Kr1lQUEBmZqbDJiIiIiLSEN15J/j5we+/w2+/ebqahqNBBa8nn3ySTz75hJ9//plrr72W+++/n6efftr++L59+2jatKnDc0ru79u3r8LrTpkyhfDwcPuWlJTknjcgIiIiIuJhTZuWtnTNmOHZWhoSjwavxx9/3OmEGGW3lStXuny9Rx99lB49etClSxfuv/9+Jk+ezPPPP+9wzvHdCUsm1qism+HEiRPJyMiwb3v27KnGuxQRERERqV9KJtn49FNISfFsLQ2FR8d43XPPPVx77bWVnpOcnFzj659zzjlkZmayf/9+mjZtSlxcXLmWrQMHDgCUawkry9/f36F7ooiIiIhIQ9a1K/TuDUuWwGuvwVNPebqi+s+jwSsmJoaYmBi3XX/NmjUEBATYp5/v0aMHDz/8MIWFhfj5+QHw448/kpCQcEIBT0RERESkoRkzxgxe//d/8OijEBjo6Yrqt3ozxmv37t2sXbuW3bt3Y7VaWbt2LWvXriU7OxuAr7/+mrfeeosNGzawbds23n77bR555BHuuOMOe2vVsGHD8Pf3Z/jw4WzYsIHPP/+cp59+WjMaioiIiIgcZ8gQSE6G9HR4/31PV1P/WYx6snrw8OHDmT17drnjCxcupG/fvnz//fdMnDiRrVu3YrPZOOWUU7j99tsZNWoUPj6lDXvr169n1KhR/PHHH0RGRnLXXXfx2GOPVSt4ZWZmEh4eTkZGBmFhYbXy/kRERERE6poXXoDx46FTJ1i3zlxkWRy5mg3qTfCqS1z5cK1WK0Va7lukQfD19cXb29vTZYiIiJx0R49CYiLk5MDPP8MFF3i6orrH1eBVbxZQri8Mw2Dfvn0cPXrU06WISC0qWZxd3ZJFRKQxiYiA4cPh1VfNqeUVvGpOLV41UFmqTUtL4+jRozRp0oSgoCD9kiZSzxmGQW5uLgcOHCAiIoL4+HhPlyQiInJS/f03tGtndjPcvt0c9yWl1OLlAVar1R66oqOjPV2OiNSSwGPTOB04cIAmTZqo26GIiDQqbduaLV3z58Obb8LTT3u6ovqp3sxqWB+UjOkKCgrycCUiUttK/l5r7KaIiDRGI0eat2+/DQUFnq2lvlLwcgN1LxRpePT3WkREGrPBg6FZMzh4ED791NPV1E8KXiIiIiIiUikfH7jzTnP/tdc8W0t9peAlDd7jjz9Oly5dPF2GiIiISL12++1mAFu2DNau9XQ19Y+ClwDmAtUWiwWLxYKvry9Nmzalf//+vPvuu9hstmpda9asWURERLin0BoYP3488+fPr9ZzkpOTmT59unsKEhEREamH4uPhX/8y99XqVX0KXnWU1QqLFsGHH5q3Vqv7X3PgwIGkpaWxc+dOvvvuO/r168eYMWO49NJLKS4udn8BbhISEqJZJkVERERqQckkG++/by6uLK5T8KqD5s4110fo1w+GDTNvk5PN4+7k7+9PXFwczZo144wzzuDhhx/myy+/5LvvvmPWrFn286ZNm8Zpp51GcHAwSUlJjBw5kuzsbAAWLVrELbfcQkZGhr0F7fHHHwfgf//7H2eddRahoaHExcUxbNgwDhw4UGlNycnJPPnkkwwbNoyQkBASEhJ4+eWXHc7ZvXs3Q4YMISQkhLCwMK6++mr2799vf/z4robDhw/n8ssvZ+rUqcTHxxMdHc2oUaPss9X17duXXbt2cd9999nfA8CuXbu47LLLiIyMJDg4mI4dOzJv3ryaftwiIiIi9U6vXtCxI+TmwuzZnq6mflHwqmPmzoUrr4S9ex2Pp6SYx90dvo53/vnnc/rppzO3zAt7eXnx0ksvsWHDBmbPns2CBQuYMGECAD179mT69OmEhYWRlpZGWloa48ePB6CwsJAnn3ySP//8ky+++IIdO3YwfPjwKmt4/vnn6dy5M6tXr2bixIncd999/PTTT4C5uO3ll1/O4cOHWbx4MT/99BPbtm3jmmuuqfSaCxcuZNu2bSxcuJDZs2cza9Yse7icO3cuiYmJTJ482f4eAEaNGkVBQQFLlixh/fr1PPvss4SEhFT3IxURERGptywWGDXK3H/tNTAMz9ZTn2gB5TrEaoUxY5z/ABuG+YM+diwMGQInc/3Wdu3asW7dOvv9sWPH2vdbtmzJk08+yd13381rr72Gn58f4eHhWCwW4uLiHK5z66232vdPOeUUXnrpJc4++2yys7MrDTDnnnsuDz30EABt2rTh119/5cUXX6R///78/PPPrFu3jh07dpCUlATAe++9R8eOHVmxYgXdunVzes3IyEheeeUVvL29adeuHZdccgnz589nxIgRREVF4e3tbW+ZK7F7927+9a9/cdppp9nfg4iIiEhjc8MNMGEC/PMPLFhgLq4sVVOLVx3yyy/lW7rKMgzYs8c872QyDMNhDaOFCxfSv39/mjVrRmhoKDfddBPp6enk5ORUep01a9YwZMgQWrRoQWhoKH379gXMQFOZHj16lLu/efNmADZv3kxSUpI9dAF06NCBiIgI+znOdOzYEe8y6TU+Pr7Kbo+jR4/mP//5D+eeey6TJk1yCKMiIiIijUVoKNx0k7n/6queraU+UfCqQ471aKu182rL5s2badmyJWCOcxo0aBCdOnXis88+Y9WqVbx67G9cyRgpZ3JycrjooosICQnhf//7HytWrODzzz8HzC6I1VUSBI8PhSUqOl7C19e33PWqmr3x9ttvZ/v27dx4442sX7+es846q9x4MxEREZHGoGSSjS+/rLzhQEopeNUh8fG1e15tWLBgAevXr+dfx+YOXblyJcXFxbzwwgucc845tGnThtTUVIfn+Pn5YT1uGsa//vqLQ4cO8cwzz9CrVy/atWtXZQtTid9++63c/Xbt2gFm69bu3bvZs2eP/fFNmzaRkZFB+/btq/1+K3sPAElJSdx1113MnTuX+++/n7feeqvGryEiIiJSX3XsCH36gM0Gb77p6WrqBwWvOqRXL0hMNMdyOWOxQFKSeZ47FBQUsG/fPlJSUli9ejVPP/00Q4YM4dJLL+WmY+3Jp556KsXFxbz88sts376d9957jzfeeMPhOsnJyWRnZzN//nwOHTpEbm4uzZs3x8/Pz/68r776iieffNKlun799Veee+45/vnnH1599VU++eQTxowZA8CFF15I586duf7661m9ejV//PEHN910E3369OGss86q8WeRnJzMkiVLSElJ4dChQ4A5tu2HH35gx44drF69mgULFpxQuBMRERGpz0pavd58E2rQganRUfCqQ7y9YcYMc//48FVyf/p0902s8f333xMfH09ycjIDBw5k4cKFvPTSS3z55Zf28VBdunRh2rRpPPvss3Tq1In333+fKVOmOFynZ8+e3HXXXVxzzTXExsby3HPPERsby6xZs/jkk0/o0KEDzzzzDFOnTnWprvvvv59Vq1bRtWtXnnzySV544QUGDBgAmF0Ev/jiCyIjI+nduzcXXnghp5xyCh999NEJfRaTJ09m586dnHrqqcTGxgJgtVoZNWoU7du3Z+DAgbRt25bXtHqgiIiINFKXXw5xcbB/PxwbQSKVsBiGJoGsrszMTMLDw8nIyCAsLMx+PD8/nx07dtCyZUsCAgJqfP25c83ZDcv2l01KMkPX0KEnUHg9lJyczNixYx1mUhTxhNr6+y0iItKQTJoEkyebPbKWLPF0NZ5RUTY4nlq86qChQ2HnTli4ED74wLzdsaPxhS4RERERqdtGjAAvL3PW7UomlBYUvOosb2/o2xeuu868PZnrdomIiIiIuCIxES65xNx/+23P1lLXKXhJnbZz5051MxQRERGpw+64w7ydPRsKCjxbS12m4CUiIiIiIjU2cCA0awbp6ZpkozIKXiIiIiIiUmM+PnDbbea+1vSqmIKXiIiIiIickNtuM5c/WrgQtmzxdDV1k4KXiIiIiIickObNzS6HoEk2KqLgJSIiIiIiJ6xkko2ZM6Gw0LO11EUKXiIiIiIicsIuuQTi4uDgQfjqK09XU/coeEmV+vbte1KndJ81axYRERFuf52T/b5ORHJyMtOnT3f5fFc/w3feeYeLLrqo0nOGDx/O5Zdf7vJr10fjx49n9OjRni5DRESkXvP1hVtvNfc1yUZ5Cl4CmL9cWyyWctvWrVuZO3cuTz75pP1cZyHgZIWlxmrFihXcUdJ+X0sKCgp47LHH+Pe//12r161r0tLSGDZsGG3btsXLy8tp2J4wYQIzZ85kx44dJ79AERGRBuT2283bn34C/bfqSMFL7AYOHEhaWprD1rJlS6KioggNDfV0eY1abGwsQUFBtXrNzz77jJCQEHr16lWr160Jq9WKzWZzy7ULCgqIjY3lkUce4fTTT3d6TpMmTbjooot444033FKDiIhIY9GyJfTvb+5rkg1HCl5i5+/vT1xcnMPm7e3t0CWvb9++7Nq1i/vuu8/eKrZo0SJuueUWMjIy7Mcef/xxAAoLC5kwYQLNmjUjODiY7t27s2jRIofXnTVrFs2bNycoKIgrrriC9PT0SuvcuXMnFouFOXPm0LNnTwICAujYsWO56y5evJizzz4bf39/4uPjeeihhyguLnZ6zcmTJ3PaaaeVO37mmWfy2GOPAaVd7qZOnUp8fDzR0dGMGjWKoqIi+/lHjhzhpptuIjIykqCgIC6++GK2lJlTtaRl8JtvvqFt27YEBQVx5ZVXkpOTw+zZs0lOTiYyMpJ7770Xq9Vqf97xrYzTpk3jtNNOIzg4mKSkJEaOHEl2dnaln9vx5syZw+DBgx2OWa1Wxo0bR0REBNHR0UyYMAHDMBzOMQyD5557jlNOOYXAwEBOP/10Pv30U4dzvvrqK1q3bk1gYCD9+vVj9uzZWCwWjh49Wu5z6NChA/7+/uzatculn5dly5bRu3dvAgMDSUpKYvTo0eTk5FT4PpOTk5kxYwY33XQT4eHhFZ43ePBgPvzwQxc+OREREalM2Uk2yvya1OgpeLmZYRjkFOZ4ZDv+F+baMHfuXBITE5k8ebK9Vaxnz55Mnz6dsLAw+7Hx48cDcMstt/Drr78yZ84c1q1bx1VXXcXAgQPtYeT333/n1ltvZeTIkaxdu5Z+/frxn//8x6VaHnjgAe6//37WrFlDz549GTx4sD20paSkMGjQILp168aff/7J66+/zjvvvFPhtW+99VY2bdrEihUr7MfWrVvHmjVrGD58uP3YwoUL2bZtGwsXLmT27NnMmjWLWbNm2R8fPnw4K1eu5KuvvmL58uUYhsGgQYMcwllubi4vvfQSc+bM4fvvv2fRokUMHTqUefPmMW/ePN577z3efPPNcmGmLC8vL1566SU2bNjA7NmzWbBgARMmTHDpcyvxyy+/cNZZZzkce+GFF3j33Xd55513WLp0KYcPH+bz45agf/TRR5k5cyavv/46Gzdu5L777uOGG25g8eLFgBmMr7zySi6//HLWrl3LnXfeySOPPFLu9XNzc5kyZQpvv/02GzdupEmTJlX+vKxfv54BAwYwdOhQ1q1bx0cffcTSpUu55557qvXenTn77LPZs2cPu3btOuFriYiINGaDB0OTJpCWBt9+6+lq6hBDqi0jI8MAjIyMDIfjeXl5xqZNm4y8vDz7seyCbIPH8ciWXZDt8nu6+eabDW9vbyM4ONi+XXnllYZhGEafPn2MMWPG2M9t0aKF8eKLLzo8f+bMmUZ4eLjDsa1btxoWi8VISUlxOH7BBRcYEydONAzDMK677jpj4MCBDo9fc8015a5V1o4dOwzAeOaZZ+zHioqKjMTEROPZZ581DMMwHn74YaNt27aGzWazn/Pqq68aISEhhtVqdfq+Lr74YuPuu++23x87dqzRt29fh8+oRYsWRnFxsf3YVVddZVxzzTWGYRjGP//8YwDGr7/+an/80KFDRmBgoPHxxx/bPyfA2Lp1q/2cO++80wgKCjKysrLsxwYMGGDceeed9vvOPvOyPv74YyM6Otp+39mfR1lHjhwxAGPJkiUOx+Pj451+rkOGDDEMwzCys7ONgIAAY9myZQ7Pu+2224zrrrvOMAzDePDBB41OnTo5PP7II48YgHHkyBGHz2Ht2rX2c1z5ebnxxhuNO+64w+HxX375xfDy8nL4e1eR4//Myyr5e71o0SKnjzv7+y0iIiLOTZhgGGAYgwZ5uhL3qygbHM/HY4lP6px+/frx+uuv2+8HBwef0PVWr16NYRi0adPG4XhBQQHR0dEAbN68mSuuuMLh8R49evD9999Xef0ePXrY9318fDjrrLPYvHmz/bo9evTAYrHYzzn33HPJzs5m7969NG/evNz1RowYwa233sq0adPw9vbm/fff54UXXnA4p2PHjnh7e9vvx8fHs379evtr+vj40L17d/vj0dHRtG3b1l4XQFBQEKeeeqr9ftOmTUlOTiYkJMTh2IEDByp87wsXLuTpp59m06ZNZGZmUlxcTH5+Pjk5OS79ueXl5QEQEBBgP5aRkUFaWprTz9U41nq6adMm8vPz6V/SefuYwsJCunbtCsDff/9Nt27dHB4/++yzy9Xg5+dH586d7fdd+XlZtWoVW7du5f3337c/bhgGNpuNHTt20L59+yrfe0UCAwMBsyVORERETsztt8Nzz8F338Hu3eYCy42dgpebBfkGkT2xemNvavO1qyM4OJhWrVrV2uvbbDa8vb1ZtWqVQ1gB7CHDqOXukCVByzAMh9BV9rWOP17isssuw9/fn88//xx/f38KCgr417/+5XCOr69vudcrmRSiovdyfC3OrlHZdY+3a9cuBg0axF133cWTTz5JVFQUS5cu5bbbbnPo0liZ6OhoLBYLR44ccen8EiU1ffvttzRr1szhMX9/f6Dyz76swMBAh/Nc+Xmx2WzceeedTqd+dxamq+Pw4cOAOZGJiIiInJjWreH882HBAnjnHXjiCU9X5HkKXm5msVgI9juxlqO6xs/Pz2Hih4qOde3aFavVyoEDByqcOa9Dhw789ttvDseOv1+R3377jd69ewNQXFzMqlWr7GN9OnTowGeffeYQApYtW0ZoaGi5wFDCx8eHm2++mZkzZ+Lv78+1115brZkEO3ToQHFxMb///js9e/YEID09nX/++eeEWmKOt3LlSoqLi3nhhRfw8jKHaX788cfVuoafnx8dOnRg06ZN9nW8wsPDiY+Pd/q5nnHGGQD2iTB2795Nnz59nF67Xbt2zJs3r1zNVXHl5+WMM85g48aNtfoFQYkNGzbg6+tLx44da/3aIiIijdGIEaXB67HH4LjvVRsdTa4h1ZacnMySJUtISUnh0KFD9mPZ2dnMnz+fQ4cOkZubS5s2bbj++uu56aabmDt3Ljt27GDFihU8++yz9l/MR48ezffff89zzz3HP//8wyuvvOJSN0OAV199lc8//5y//vqLUaNGceTIEW49tmrfyJEj2bNnD/feey9//fUXX375JZMmTWLcuHH2sOLM7bffzoIFC/juu+/s13JV69atGTJkCCNGjGDp0qX8+eef3HDDDTRr1owhQ4ZU61qVOfXUUykuLubll19m+/btvPfeezWaBn3AgAEsXbrU4diYMWN45pln7J/ryJEj7TMRAoSGhjJ+/Hjuu+8+Zs+ezbZt21izZg2vvvoqs2fPBuDOO+/kr7/+4sEHH+Sff/7h448/tk9AUlFrI+DSz8uDDz7I8uXLGTVqFGvXrmXLli189dVX3HvvvZW+17Vr17J27Vqys7M5ePAga9euZdOmTQ7n/PLLL/Tq1cve5VBEREROzBVXQFQUpKSY63o1dgpeUm2TJ09m586dnHrqqfZuWT179uSuu+7immuuITY2lueeew6AmTNnctNNN3H//ffTtm1bBg8ezO+//05SUhIA55xzDm+//TYvv/wyXbp04ccff+TRRx91qY5nnnmGZ599ltNPP51ffvmFL7/8kpiYGACaNWvGvHnz+OOPPzj99NO56667uO2226q8duvWrenZsydt27Z1GKvlqpkzZ3LmmWdy6aWX0qNHDwzDYN68eeW6Ep6ILl26MG3aNJ599lk6derE+++/z5QpU6p9nREjRjBv3jwyMjLsx+6//35uuukmhg8fTo8ePQgNDS03Bu/JJ5/kscceY8qUKbRv354BAwbw9ddf07JlSwBatmzJp59+yty5c+ncuTOvv/66fVbDku6IFanq56Vz584sXryYLVu20KtXL7p27cq///1v4uPjK71u165d6dq1K6tWreKDDz6ga9euDBo0yOGcDz/8kBEjRrj24YmIiEiV/P3h+uvN/ZkzPVtLXWAxanuQTSOQmZlJeHg4GRkZhIWF2Y/n5+ezY8cOWrZs6TBpgdSunTt30rJlS9asWUOXLl1q9dqGYdCuXTvuvPNOxo0bV6vXrouuvvpqunbtysSJE936Ok899RRvvPEGe/bscevr1NS3337LAw88wLp16/Dxcd4DW3+/RUREqm/NGjjjDPDzM6eXj4rydEW1r6JscDy1eIkcc+DAAaZNm0ZKSgq33HKLp8s5KZ5//nmH2RRry2uvvcaKFSvsXSGff/55br755lp/ndqSk5PDzJkzKwxdIiIiUjNdu8Lpp0NhIXz4oaer8Sz9liFyTNOmTYmJieHNN98kMjLS0+WcFC1atKhyfFRNbNmyhf/85z8cPnyY5s2bc//997u9Ve1EXH311Z4uQUREpMG65RYYO9bsbjhqlKer8Rx1NawBdTUUaXz091tERKRmDh2ChAQoKoI//4Qyy3g2COpqKCIiIiIiHhcTA4MHm/uNeZINBS8REREREXGrkuHz//ufOd6rMVLwEhERERERtxowAOLjzW6H337r6Wo8Q8FLRERERETcyscHbrzR3G+s3Q0VvERERERExO1KuhvOmwf79nm2Fk9Q8BIREREREbdr1w7OOQesVnjvPU9Xc/IpeEmV+vbty9ixY0/a682aNYuIiAi3v87Jfl8nIjk5menTp7t8vquf4TvvvMNFF11U6TnDhw/n8ssvd/m166Px48czevRoT5chIiLS4JW0es2cCY1tUSsFLwHMX64tFku5bevWrcydO5cnn3zSfq6zEHCywlJjtWLFCu64445avWZBQQGPPfYY//73v2v1unXN3Llz6d+/P7GxsYSFhdGjRw9++OEHh3MmTJjAzJkz2bFjh4eqFBERaRyuuQYCA2HzZvjjD09Xc3IpeIndwIEDSUtLc9hatmxJVFQUoaGhni6vUYuNjSUoKKhWr/nZZ58REhJCr169avW6NWG1WrHZbG659pIlS+jfvz/z5s1j1apV9OvXj8suu4w1a9bYz2nSpAkXXXQRb7zxhltqEBEREVN4OPzrX+Z+Y5tkQ8HL3QwDcnI8s1Wz/dbf35+4uDiHzdvb26FLXt++fdm1axf33XefvVVs0aJF3HLLLWRkZNiPPf744wAUFhYyYcIEmjVrRnBwMN27d2fRokUOrztr1iyaN29OUFAQV1xxBenp6ZXWuXPnTiwWC3PmzKFnz54EBATQsWPHctddvHgxZ599Nv7+/sTHx/PQQw9RXFzs9JqTJ0/mtNNOK3f8zDPP5LHHHgNKu9xNnTqV+Ph4oqOjGTVqFEVFRfbzjxw5wk033URkZCRBQUFcfPHFbNmyxeG9RkRE8M0339C2bVuCgoK48sorycnJYfbs2SQnJxMZGcm9996L1Wq1P+/4VsZp06Zx2mmnERwcTFJSEiNHjiQ7O7vSz+14c+bMYXDJaobHWK1Wxo0bR0REBNHR0UyYMAHjuJ8jwzB47rnnOOWUUwgMDOT000/n008/dTjnq6++onXr1gQGBtKvXz9mz56NxWLh6NGj5T6HDh064O/vz65du1z6eVm2bBm9e/cmMDCQpKQkRo8eTU5OToXvc/r06UyYMIFu3brRunVrnn76aVq3bs3XX3/tcN7gwYP58MMPq/UZioiISPWVdDecMwfy8jxby8mk4OVuubkQEuKZLTe31t/O3LlzSUxMZPLkyfZWsZ49ezJ9+nTCwsLsx8aPHw/ALbfcwq+//sqcOXNYt24dV111FQMHDrSHkd9//51bb72VkSNHsnbtWvr168d//vMfl2p54IEHuP/++1mzZg09e/Zk8ODB9tCWkpLCoEGD6NatG3/++Sevv/4677zzToXXvvXWW9m0aRMrVqywH1u3bh1r1qxh+PDh9mMLFy5k27ZtLFy4kNmzZzNr1ixmzZplf3z48OGsXLmSr776iuXLl2MYBoMGDXIIZ7m5ubz00kvMmTOH77//nkWLFjF06FDmzZvHvHnzeO+993jzzTfLhZmyvLy8eOmll9iwYQOzZ89mwYIFTJgwwaXPrcQvv/zCWWed5XDshRde4N133+Wdd95h6dKlHD58mM8//9zhnEcffZSZM2fy+uuvs3HjRu677z5uuOEGFi9eDJjB+Morr+Tyyy9n7dq13HnnnTzyyCPlXj83N5cpU6bw9ttvs3HjRpo0aVLlz8v69esZMGAAQ4cOZd26dXz00UcsXbqUe+65x+X3bbPZyMrKIioqyuH42WefzZ49e9i1a5fL1xIREZHq69sXkpMhIwOO+zWjYTOk2jIyMgzAyMjIcDiel5dnbNq0ycjLyys9mJ1tGGbb08nfsrNdfk8333yz4e3tbQQHB9u3K6+80jAMw+jTp48xZswY+7ktWrQwXnzxRYfnz5w50wgPD3c4tnXrVsNisRgpKSkOxy+44AJj4sSJhmEYxnXXXWcMHDjQ4fFrrrmm3LXK2rFjhwEYzzzzjP1YUVGRkZiYaDz77LOGYRjGww8/bLRt29aw2Wz2c1599VUjJCTEsFqtTt/XxRdfbNx99932+2PHjjX69u3r8Bm1aNHCKC4uth+76qqrjGuuucYwDMP4559/DMD49ddf7Y8fOnTICAwMND7++GP75wQYW7dutZ9z5513GkFBQUZWVpb92IABA4w777zTft/ZZ17Wxx9/bERHR9vvO/vzKOvIkSMGYCxZssTheHx8vNPPdciQIYZhGEZ2drYREBBgLFu2zOF5t912m3HdddcZhmEYDz74oNGpUyeHxx955BEDMI4cOeLwOaxdu9Z+jis/LzfeeKNxxx13ODz+yy+/GF5eXo5/7yrx3HPPGVFRUcb+/fsdjpf8vV60aJHT5zn9+y0iIiI1MmmS+evqBRd4upITV1E2OJ6PxxJfYxEUBNXsAlarr10N/fr14/XXX7ffDw4OPqGXX716NYZh0KZNG4fjBQUFREdHA7B582auuOIKh8d79OjB999/X+X1e/ToYd/38fHhrLPOYvPmzfbr9ujRA4vFYj/n3HPPJTs7m71799K8efNy1xsxYgS33nor06ZNw9vbm/fff58XXnjB4ZyOHTvi7e1tvx8fH8/69evtr+nj40P37t3tj0dHR/P/7d15XFXV3j/wzwHkMKOCICEIoaJICKIWdB2oR1HLoXLIMkCJIBAHcEgz9aqFaA6PppivvAeuLx+Iq3K1JH/2pCg4BQROhKCiEtolhVBAUGD9/iD245FBkHM8gJ/367VfsdderP3dw8nzZa29tqOjoxQXABgYGMDBwUFat7S0hJ2dHYyMjJTKCgsLGz32o0eP4osvvkBWVhbu3r2LqqoqVFRUoKysrFnX7f5f/fp6enpSWUlJCW7dutXgeRV/DTfMyspCRUUFRo4cqdTegwcP4ObmBgC4dOkSBg8erLR9yJAh9WLQ1dWFi4uLtN6c+yU9PR2XL1/G7t27pe1CCNTU1CAvLw/9+vVr8rhjY2OxYsUK7N+/HxYWFkrb9PX1AdT2xBEREZF6+foCf/87cOQIcOMG0MBXsw6HiZe6yWRAKxOYZ8XQ0BC9evVSWXs1NTXQ1tZGenq6UrICQEoy6r7Qq0pdoiWEUEq6Ht3X4+V1xo0bB7lcjoSEBMjlclRWVuKduqc//9KpU6d6+6ubFKKxY3k8lobaaKrdx12/fh1jx45FUFAQVq1aha5duyIlJQX+/v5KQxqbYmZmBplMhuLi4mbVr1MX08GDB2Ftba20TS6XA2j63D9KX19fqV5z7peamhoEBgY2OPV7Q8n0o7799lv4+/vjX//6F/7rv/6r3vaioiIAtROZEBERkXrZ29cOOUxKAnbvBhYv1nRE6sfEi1pMV1dXaeKHxsrc3NxQXV2NwsLCRmfOc3JywunTp5XKHl9vzOnTpzFs2DAAQFVVFdLT06VnfZycnLB3716lJODkyZMwNjaulzDU0dHRga+vLxQKBeRyOd59990WzSTo5OSEqqoqnDlzBp6engCAO3fuICcn54k9MS2RlpaGqqoqrF+/HlpatY9pxsfHt6gNXV1dODk5ISsrS3qPl6mpKaysrBo8rwMHDgQAaSKMGzduYPjw4Q223bdvXyQmJtaL+Umac78MHDgQFy9ebPEfCGJjYzFz5kzExsbijTfeaLDOhQsX0KlTJ/Tv379FbRMREdHT+eCD2sRr1y7gk09q+ys6Mk6uQS1mZ2eH48ePo6CgALdv35bKSktL8dNPP+H27dsoLy9Hnz598P7778PHxwf79u1DXl4eUlNTERkZKX0xnz17Ng4dOoS1a9ciJycHX331VbOGGQLA1q1bkZCQgOzsbISEhKC4uBgzZ84EAAQHByM/Px+hoaHIzs7G/v37sXz5coSFhUnJSkM+/PBDHDlyBD/88IPUVnP17t0bEyZMQEBAAFJSUnD27FlMnz4d1tbWmDBhQovaaoqDgwOqqqqwZcsWXL16Fbt27XqqadC9vb2RkpKiVDZnzhysWbNGOq/BwcHSTIQAYGxsjPnz52PevHmIiYnBlStXkJGRga1btyImJgYAEBgYiOzsbCxatAg5OTmIj4+XJiBprLcRQLPul0WLFuHUqVMICQlBZmYmcnNzceDAAYSGhjbabmxsLHx8fLB+/Xq88sor+P333/H777+jpKREqV5ycjKGDh0qDTkkIiIi9Zo0CdDTq32n1y+/aDoa9WPiRS22cuVKXLt2DQ4ODtKwLE9PTwQFBWHq1Kno1q0b1q5dCwBQKBTw8fFBeHg4HB0dMX78eJw5cwY2NjYAgFdeeQXffPMNtmzZAldXVxw+fBhLly5tVhxr1qxBZGQkBgwYgOTkZOzfvx/m5uYAAGtrayQmJuLnn3/GgAEDEBQUBH9//ye23bt3b3h6esLR0VHpWa3mUigUcHd3x5tvvgkPDw8IIZCYmFhvKGFruLq6YsOGDYiMjISzszN2796NiIiIFrcTEBCAxMREpQQkPDwcPj4+8PPzg4eHB4yNjes9g7dq1SosW7YMERER6NevH7y9vfHdd9/B3t4eAGBvb489e/Zg3759cHFxQVRUlDSrYd1wxMY86X5xcXHBsWPHkJubi6FDh8LNzQ2fffYZrKysGm3z66+/RlVVFUJCQmBlZSUtc+bMUaoXGxuLgICA5p9AIiIiahUTE6Dub9O7dmk2lmdBJlT9kM1z4O7duzA1NUVJSQlMTEyk8oqKCuTl5cHe3l5p0gJSrWvXrsHe3h4ZGRlwdXVVadtCCPTt2xeBgYEICwtTadtt0ZQpU+Dm5obFah5Y/fnnn2P79u3Iz89X636e1sGDB7FgwQKcO3cOOjoNj8Dm55uIiEj1Dh4E3nwTsLAACgqARv4ZbtMayw0exx4vor8UFhZiw4YNKCgowIy6N/t1cOvWrVOaTVFVtm3bhtTUVGko5Lp16+Dr66vy/ahKWVkZFApFo0kXERERqceoUUC3bkBhIXD4sKajUS9+yyD6i6WlJczNzbFjxw506dJF0+E8Ez179mzy+ainlZubi9WrV6OoqAi2trYIDw9Xe69aa0yZMkXTIRARET2XOnUCpk0DNm+uHW44dqymI1IfDjV8ChxqSPT84eebiIhIPdLSgMGDayfa+M9/ap/9ak841JCIiIiIiNo8d3egb1+gogLYu1fT0agPEy8iIiIiItIYmaz2nV5Ax57dkIkXERERERFp1Pvv1/43KQloo5MgtxoTLyIiIiIi0qiePYHhwwEhgN27NR2NejDxIiIiIiIijXt0uGFHnP6PiRcREREREWncpEm1MxtmZQEZGZqORvWYeNETjRgxAnPnzn1m+4uOjkbnzp3Vvp9nfVytYWdnh02bNjW7fnPP4c6dOzFq1Kgm6/j5+WHixInN3nd7NH/+fMyePVvTYRARET3XTE2B8eNrf+6Ik2ww8SIAtV+uZTJZveXy5cvYt28fVq1aJdVtKAl4VsnS8yo1NRUfffSRStusrKzEsmXL8Nlnn6m03bYmJSUFr776KszMzKCvr4++ffti48aNSnUWLlwIhUKBvLw8DUVJREREwP8NN4yNBaqqNBuLquloOgBqO0aPHg2FQqFU1q1bN2hra2soIqrTrVs3lbe5d+9eGBkZYejQoSpvu6Wqq6shk8mgpaX6vwUZGhpi1qxZcHFxgaGhIVJSUhAYGAhDQ0MpmbWwsMCoUaOwfft2REZGqjwGIiIiah5vb6Bbt9oXKf/4IzBmjKYjUh32eKmZAFCmoaWlzyTK5XJ0795dadHW1lYakjdixAhcv34d8+bNk3rFkpKSMGPGDJSUlEhlK1asAAA8ePAACxcuhLW1NQwNDfHyyy8jKSlJab/R0dGwtbWFgYEB3nrrLdy5c6fJOK9duwaZTIa4uDh4enpCT08P/fv3r9fusWPHMGTIEMjlclhZWeGTTz5BVSN/Olm5ciVeeumleuXu7u5YtmwZgP8bcvfll1/CysoKZmZmCAkJwcOHD6X6xcXF8PHxQZcuXWBgYIAxY8YgNzdX6Vg7d+6M77//Ho6OjjAwMMCkSZNQVlaGmJgY2NnZoUuXLggNDUV1dbX0e4/3Mm7YsAEvvfQSDA0NYWNjg+DgYJSWljZ53h4XFxeH8XX9+X+prq5GWFgYOnfuDDMzMyxcuBDisadbhRBYu3YtXnzxRejr62PAgAHYs2ePUp0DBw6gd+/e0NfXh5eXF2JiYiCTyfDnn3/WOw9OTk6Qy+W4fv16s+6XkydPYtiwYdDX14eNjQ1mz56NsrKyRo/Tzc0N06ZNQ//+/WFnZ4fp06fD29sbycnJSvXGjx+P2NjYFp1DIiIiUq1OnYB33639uaMNN2TipWblAIw0tJSr4Xj27duHHj16YOXKlbh16xZu3boFT09PbNq0CSYmJlLZ/PnzAQAzZszAiRMnEBcXh3PnzmHy5MkYPXq0lIycOXMGM2fORHBwMDIzM+Hl5YXVq1c3K5YFCxYgPDwcGRkZ8PT0xPjx46WkraCgAGPHjsXgwYNx9uxZREVFYefOnY22PXPmTGRlZSE1NVUqO3fuHDIyMuDn5yeVHT16FFeuXMHRo0cRExOD6OhoREdHS9v9/PyQlpaGAwcO4NSpUxBCYOzYsUrJWXl5OTZv3oy4uDgcOnQISUlJePvtt5GYmIjExETs2rULO3bsqJfMPEpLSwubN2/GhQsXEBMTgyNHjmDhwoXNOm91kpOTMWjQIKWy9evX4x//+Ad27tyJlJQUFBUVISEhQanO0qVLoVAoEBUVhYsXL2LevHmYPn06jh07BqA2MZ40aRImTpyIzMxMBAYG4tNPP623//LyckREROCbb77BxYsXYWFh8cT75fz58/D29sbbb7+Nc+fO4dtvv0VKSgpmzZrV7OPOyMjAyZMnMXz4cKXyIUOGID8/H9evX292W0RERKR6dcMN//1v4O5djYaiWoJarKSkRAAQJSUlSuX3798XWVlZ4v79+1JZqRACGlpKW3BMvr6+QltbWxgaGkrLpEmThBBCDB8+XMyZM0eq27NnT7Fx40al31coFMLU1FSp7PLly0Imk4mCggKl8tdff10sXrxYCCHEtGnTxOjRo5W2T506tV5bj8rLyxMAxJo1a6Syhw8fih49eojIyEghhBBLliwRjo6OoqamRqqzdetWYWRkJKqrqxs8rjFjxoiPP/5YWp87d64YMWKE0jnq2bOnqKqqksomT54spk6dKoQQIicnRwAQJ06ckLbfvn1b6Ovri/j4eOk8ARCXL1+W6gQGBgoDAwNx7949qczb21sEBgZK6w2d80fFx8cLMzMzab2h6/Go4uJiAUAcP35cqdzKyqrB8zphwgQhhBClpaVCT09PnDx5Uun3/P39xbRp04QQQixatEg4Ozsrbf/0008FAFFcXKx0HjIzM6U6zblfPvjgA/HRRx8pbU9OThZaWlpKn7uGWFtbC11dXaGlpSVWrlxZb3vd5zopKanB32/o801ERESqV1MjhKOjEIAQMTGajubJGssNHtcueryuXbsGf39/2NvbQ19fHw4ODli+fDkePHigVO/GjRsYN24cDA0NYW5ujtmzZ9erc/78eQwfPhz6+vqwtrbGypUr6w2lUiUDAKUaWgxaGKuXlxcyMzOlZfPmzU930H/55ZdfIIRAnz59YGRkJC3Hjh3DlStXAAC//vorPDw8lH7v8fXGPFpPR0cHgwYNwq+//qrUrkwmk+q8+uqrKC0txW+//dZgewEBAYiNjUVFRQUePnyI3bt3Y+bMmUp1+vfvr/TMm5WVFQoLC6V96ujo4OWXX5a2m5mZwdHRUYoLAAwMDODg4CCtW1paws7ODkZGRkplde025OjRoxg5ciSsra1hbGwMHx8f3Llzp8khd4+6f/8+AEBPT08qKykpwa1btxo8r3WysrJQUVGBkSNHKl3Tf/7zn9I1vXTpEgYPHqy0vyFDhtSLQVdXFy4uLtJ6c+6X9PR0REdHK2339vZGTU3NEyfGSE5ORlpaGrZv345NmzbVG1aor68PoLYnjoiIiDRHJgPee6/25470FEC7mFwjOzsbNTU1+Prrr9GrVy9cuHABAQEBKCsrw5dffgmg9tmUN954A926dUNKSgru3LkDX19fCCGwZcsWAMDdu3cxcuRIeHl5ITU1FTk5OfDz84OhoSHCw8PVErsMgKFaWlY9Q0ND9OrVS2Xt1dTUQFtbG+np6fUm6KhLMlSd9NYlWkIIpaTr0X09Xl5n3LhxkMvlSEhIgFwuR2VlJd555x2lOp06daq3v5qaGqX2H/d4LA210VS7j7t+/TrGjh2LoKAgrFq1Cl27dkVKSgr8/f2VhjQ2xczMDDKZDMXFxc2qX6cupoMHD8La2lppm1wuB9D0uX+Uvr6+Ur3m3C81NTUIDAxscOp3W1vbJmO3t7cHALz00kv4z3/+gxUrVmDatGnS9qKiIgDqmciEiIiIWmbaNGD58toJNv74o3bCjfauXSReo0ePxujRo6X1F198EZcuXUJUVJSUeB0+fBhZWVnIz8/HCy+8AKD2eRU/Pz98/vnnMDExwe7du1FRUYHo6GjI5XI4OzsjJycHGzZsQFhYWKNfyEmZrq6u0sQPjZW5ubmhuroahYWFjc6c5+TkhNOnTyuVPb7emNOnT2PYsGEAgKqqKqSnp0vP+jg5OWHv3r1KScDJkydhbGxcL2Goo6OjA19fXygUCsjlcrz77rswMGh+v6GTkxOqqqpw5swZeHp6AgDu3LmDnJwc9OvXr9ntPElaWhqqqqqwfv16aRbA+Pj4FrWhq6sLJycnZGVlSe/xMjU1hZWVVYPndeDAgQAgTYRx48aNes9I1enbty8SExPrxfwkzblfBg4ciIsXL7b6DwRCCFRWViqVXbhwAZ06dUL//v1b1TYRERG1Xu/egLs7kJ4O7NkDfPyxpiNqvXYx1LAhJSUl6Nq1q7R+6tQpODs7S0kXAHh7e6OyshLp6elSneHDh0t/ma+rc/PmTVy7dq3RfVVWVuLu3btKy/PMzs4Ox48fR0FBAW7fvi2VlZaW4qeffsLt27dRXl6OPn364P3334ePjw/27duHvLw8pKamIjIyUvpiPnv2bBw6dAhr165FTk4OvvrqKxw6dKhZcWzduhUJCQnIzs5GSEgIiouLpaGBwcHByM/PR2hoKLKzs7F//34sX74cYWFhTU5Z/uGHH+LIkSP44Ycf6g0zfJLevXtjwoQJCAgIQEpKCs6ePYvp06fD2toaEyZMaFFbTXFwcEBVVRW2bNmCq1evYteuXdi+fXuL2/H29kZKSopS2Zw5c7BmzRrpvAYHB0szEQKAsbEx5s+fj3nz5iEmJgZXrlxBRkYGtm7dipiYGABAYGAgsrOzsWjRIuTk5CA+Pl6agKSpP240535ZtGgRTp06hZCQEGRmZiI3NxcHDhxAaGhoo+1u3boV3333HXJzc5GbmwuFQoEvv/wS06dPV6qXnJyMoUOHSkMOiYiISLPqBqZ0lOGG7TLxunLlCrZs2YKgoCCp7Pfff4elpaVSvS5dukBXVxe///57o3Xq1uvqNCQiIgKmpqbSYmNjo6pDaZdWrlyJa9euwcHBQRqW5enpiaCgIEydOhXdunXD2rVrAQAKhQI+Pj4IDw+Ho6Mjxo8fjzNnzkjn8JVXXsE333yDLVu2wNXVFYcPH8bSpUubFceaNWsQGRmJAQMGIDk5Gfv374e5uTkAwNraGomJifj5558xYMAABAUFwd/f/4lt9+7dG56ennB0dFR6Vqu5FAoF3N3d8eabb8LDwwNCCCQmJtYbStgarq6u2LBhAyIjI+Hs7Izdu3cjIiKixe0EBAQgMTERJSUlUll4eDh8fHzg5+cHDw8PGBsb46233lL6vVWrVmHZsmWIiIhAv3794O3tje+++04aymdvb489e/Zg3759cHFxQVRUlDSr4aN/9GjIk+4XFxcXHDt2DLm5uRg6dCjc3Nzw2WefwcrKqtE2a2pqsHjxYri6umLQoEHYsmUL1qxZg5UrVyrVi42NRUBAQPNPIBEREanV1Km1z3slJwP5+ZqORgXUNr1HMyxfvlyg9nVTjS6pqalKv1NQUCB69eol/P39lcoDAgLEqFGj6u2jU6dOIjY2VgghxMiRI+vNiPbbb78JAOLUqVONxllRUSFKSkqkJT8/v9mzGpLq1c1qmJGRofK2a2pqRJ8+fcT69etV3nZbNHnyZPHFF1+ofT+rV68WPXr0UPt+ntb3338v+vXrJx4+fNhoHX6+iYiInr1hw2pnN1y3TtORNK65sxpq9BmvWbNm4d26N6Q1ws7OTvr55s2b8PLygoeHB3bs2KFUr3v37jhz5oxSWXFxMR4+fCj1anXv3r1ez1bdzHGP94Q9Si6XP/Ev9dT+FRYWYteuXSgoKMCMGTM0Hc4zsW7dOhw4cEDl7W7btg2DBw+GmZkZTpw4gXXr1rXoXVvPWllZGRQKBXR02sVjr0RERM+NadOA48drhxv+9ZrYdkuj3zLMzc2loWFPUlBQAC8vL7i7u0OhUNR7TsfDwwOff/45bt26JQ07Onz4MORyOdzd3aU6S5YswYMHD6CrqyvVeeGFF5QSPHo+WVpawtzcHDt27ECXLl00Hc4z0bNnzyafj3paubm5WL16NYqKimBra4vw8HAsXrxY5ftRlSlTpmg6BCIiImrApElAaCjwyy9ATg7Qp4+mI3p6MiHU+BIrFbl58yaGDx8OW1tb/POf/1Saarp79+4AaqeTd3V1haWlJdatW4eioiL4+flh4sSJ0nTyJSUlcHR0xGuvvYYlS5YgNzcXfn5+WLZsWYumk7979y5MTU1RUlICExMTqbyiogJ5eXmwt7dXej8SEbV//HwTERFpxtixwA8/ACtW1E4x39Y0lhs8rl1MrnH48GFcvnwZR44cQY8ePWBlZSUtdbS1tXHw4EHo6enh1VdfxZQpUzBx4kRpunmgdrrsH3/8Eb/99hsGDRqE4OBghIWFISwsTBOHRURERERET/Do7IZtv8uoce2ix6utYY8X0fOHn28iIiLNuHcPsLAAKipq3+v11+tF24wO1eNFRERERETPJ2NjYNy42p/b8zu9mHgREREREVGbVjfcMC4OqKnRbCxPi4kXERERERG1aWPGACYmwG+/ASdOaDqap8PEi4iIiIiI2jQ9PeDtt2t/bq/DDZl40RONGDECc+fOfWb7i46ORufOndW+n2d9XK1hZ2eHTZs2Nbt+c8/hzp07MWrUqCbr1L2WoSObP38+Zs+erekwiIiIqAl1ww3/9S/g4UPNxvI0mHgRgNov1zKZrN5y+fJl7Nu3D6tWrZLqNpQEPKtk6XmVmpqKjz76SKVtVlZWYtmyZfjss89U2m5bduLECejo6MDV1VWpfOHChVAoFMjLy9NMYERERPREr71WO7vh7dvATz9pOpqWY+JFktGjR+PWrVtKi729Pbp27QpjY2NNh/dc69atGwwMDFTa5t69e2FkZIShQ4eqtN2nUV1djRo1PylbUlICHx8fvP766/W2WVhYYNSoUdi+fbtaYyAiIqKnp6MDTJ5c+3N7HG7IxEvNhADKyjSztPQNbXK5HN27d1datLW1lYbkjRgxAtevX8e8efOkXrGkpCTMmDEDJSUlUtmKFSsAAA8ePMDChQthbW0NQ0NDvPzyy0hKSlLab3R0NGxtbWFgYIC33noLd+7caTLOa9euQSaTIS4uDp6entDT00P//v3rtXvs2DEMGTIEcrkcVlZW+OSTT1BVVdVgmytXrsRLL71Ur9zd3R3Lli0D8H9D7r788ktYWVnBzMwMISEhePhIX3dxcTF8fHzQpUsXGBgYYMyYMcjNzVU61s6dO+P777+Ho6MjDAwMMGnSJJSVlSEmJgZ2dnbo0qULQkNDUV1dLf3e472MGzZswEsvvQRDQ0PY2NggODgYpaWlTZ63x8XFxWH8+PFKZdXV1QgLC0Pnzp1hZmaGhQsX4vFX/QkhsHbtWrz44ovQ19fHgAEDsGfPHqU6Bw4cQO/evaGvrw8vLy/ExMRAJpPhzz//rHcenJycIJfLcf369WbdLydPnsSwYcOgr68PGxsbzJ49G2VlZU883sDAQLz33nvw8PBocPv48eMR2x7/L05ERPQcqRtumJAA3L+v2VhaiomXmpWXA0ZGmlnKy1V/PPv27UOPHj2wcuVKqVfM09MTmzZtgomJiVQ2f/58AMCMGTNw4sQJxMXF4dy5c5g8eTJGjx4tJSNnzpzBzJkzERwcjMzMTHh5eWH16tXNimXBggUIDw9HRkYGPD09MX78eClpKygowNixYzF48GCcPXsWUVFR2LlzZ6Ntz5w5E1lZWUhNTZXKzp07h4yMDPj5+UllR48exZUrV3D06FHExMQgOjoa0dHR0nY/Pz+kpaXhwIEDOHXqFIQQGDt2rFJyVl5ejs2bNyMuLg6HDh1CUlIS3n77bSQmJiIxMRG7du3Cjh076iUzj9LS0sLmzZtx4cIFxMTE4MiRI1i4cGGzzlud5ORkDBo0SKls/fr1+Mc//oGdO3ciJSUFRUVFSEhIUKqzdOlSKBQKREVF4eLFi5g3bx6mT5+OY8eOAahNjCdNmoSJEyciMzMTgYGB+PTTT+vtv7y8HBEREfjmm29w8eJFWFhYPPF+OX/+PLy9vfH222/j3Llz+Pbbb5GSkoJZs2Y1eawKhQJXrlzB8uXLG60zZMgQ5Ofn4/r16806f0RERPTseXgAtra1L1VOTNR0NC0kqMVKSkoEAFFSUqJUfv/+fZGVlSXu378vlZWWClHb9/Tsl9LS5h+Tr6+v0NbWFoaGhtIyadIkIYQQw4cPF3PmzJHq9uzZU2zcuFHp9xUKhTA1NVUqu3z5spDJZKKgoECp/PXXXxeLFy8WQggxbdo0MXr0aKXtU6dOrdfWo/Ly8gQAsWbNGqns4cOHokePHiIyMlIIIcSSJUuEo6OjqKmpkeps3bpVGBkZierq6gaPa8yYMeLjjz+W1ufOnStGjBihdI569uwpqqqqpLLJkyeLqVOnCiGEyMnJEQDEiRMnpO23b98W+vr6Ij4+XjpPAMTly5elOoGBgcLAwEDcu3dPKvP29haBgYHSekPn/FHx8fHCzMxMWm/oejyquLhYABDHjx9XKreysmrwvE6YMEEIIURpaanQ09MTJ0+eVPo9f39/MW3aNCGEEIsWLRLOzs5K2z/99FMBQBQXFyudh8zMTKlOc+6XDz74QHz00UdK25OTk4WWlpbS5+5ROTk5wsLCQly6dEkIIcTy5cvFgAED6tWr+1wnJSU12E5Dn28iIiJ69j75RIhhw4T4f/9P05HUaiw3eJyOxjK+54SBAdDCEWAq3XdLeHl5ISoqSlo3NDRs1f5/+eUXCCHQp08fpfLKykqYmZkBAH799Ve89dZbSts9PDxw6NChJ7b/6JAxHR0dDBo0CL/++qvUroeHB2QymVTn1VdfRWlpKX777TfY2trWay8gIAAzZ87Ehg0boK2tjd27d2P9+vVKdfr37w9tbW1p3crKCufPn5f2qaOjg5dfflnabmZmBkdHRykuADAwMICDg4O0bmlpCTs7OxgZGSmVFRYWNnrsR48exRdffIGsrCzcvXsXVVVVqKioQFlZWbOu2/2/+ub19PSkspKSEty6davB8yr+Gm6YlZWFiooKjBw5Uqm9Bw8ewM3NDQBw6dIlDB48WGn7kCFD6sWgq6sLFxcXab0590t6ejouX76M3bt3S9uFEKipqUFeXh769eun9LvV1dV477338Pe//71eu4/T19cHUNsTR0RERG3XF18Aj3zFazeYeKmZTAa0Mn95ZgwNDdGrVy+VtVdTUwNtbW2kp6crJSsApCSj7gu9qtQlWkIIpaTr0X09Xl5n3LhxkMvlSEhIgFwuR2VlJd555x2lOp06daq3v7pJIRo7lsdjaaiNptp93PXr1zF27FgEBQVh1apV6Nq1K1JSUuDv7680pLEpZmZmkMlkKC4ublb9OnUxHTx4ENbW1krb5HI5gKbP/aP09fWV6jXnfqmpqUFgYGCDU783lEzfu3cPaWlpyMjIkIYj1tTUQAgBHR0dHD58GK+99hoAoKioCEDtRCZERETUdrXHpAtg4kVPQVdXV2nih8bK3NzcUF1djcLCwkZnznNycsLp06eVyh5fb8zp06cxbNgwAEBVVRXS09OlL9dOTk7Yu3evUhJw8uRJGBsb10sY6ujo6MDX1xcKhQJyuRzvvvtui2YSdHJyQlVVFc6cOQNPT08AwJ07d5CTk1OvJ6Y10tLSUFVVhfXr10NLq/Yxzfj4+Ba1oaurCycnJ2RlZUnv8TI1NYWVlVWD53XgwIEAIE2EcePGDQwfPrzBtvv27YvExwZdp6WlPTGm5twvAwcOxMWLF5v9BwITExOpR7LOtm3bcOTIEezZswf29vZS+YULF9CpUyf079+/WW0TERERtQQn16AWs7Ozw/Hjx1FQUIDbt29LZaWlpfjpp59w+/ZtlJeXo0+fPnj//ffh4+ODffv2IS8vD6mpqYiMjJS+mM+ePRuHDh3C2rVrkZOTg6+++qpZwwwBYOvWrUhISEB2djZCQkJQXFyMmTNnAgCCg4ORn5+P0NBQZGdnY//+/Vi+fDnCwsKkZKUhH374IY4cOYIffvhBaqu5evfujQkTJiAgIAApKSk4e/Yspk+fDmtra0yYMKFFbTXFwcEBVVVV2LJlC65evYpdu3Y91TTo3t7eSElJUSqbM2cO1qxZI53X4OBgaSZCADA2Nsb8+fMxb948xMTE4MqVK8jIyMDWrVsRExMDoHb2wOzsbCxatAg5OTmIj4+XJiBprLcRQLPul0WLFuHUqVMICQlBZmYmcnNzceDAAYSGhjbYppaWFpydnZUWCwsL6OnpwdnZWWlYZnJyMoYOHSoNOSQiIiJSJSZe1GIrV67EtWvX4ODgIA3L8vT0RFBQEKZOnYpu3bph7dq1AGpnk/Px8UF4eDgcHR0xfvx4nDlzBjY2NgCAV155Bd988w22bNkCV1dXHD58GEuXLm1WHGvWrEFkZCQGDBiA5ORk7N+/H+bm5gAAa2trJCYm4ueff8aAAQMQFBQEf3//J7bdu3dveHp6wtHRUelZreZSKBRwd3fHm2++CQ8PDwghkJiYWG8oYWu4urpiw4YNiIyMhLOzM3bv3o2IiIgWtxMQEIDExESUlJRIZeHh4fDx8YGfnx88PDxgbGxc7xm8VatWYdmyZYiIiEC/fv3g7e2N7777Tuo9sre3x549e7Bv3z64uLggKipKmtWwbjhiY550v7i4uODYsWPIzc3F0KFD4ebmhs8++wxWVlYtPv7HxcbGIiAgoNXtEBERETVEJlT9kM1z4O7duzA1NUVJSQlMTEyk8oqKCuTl5cHe3l5p0gJSrWvXrsHe3h4ZGRlwdXVVadtCCPTt2xeBgYEICwtTadtt0ZQpU+Dm5obFixerdT+ff/45tm/fjvz8fLXu52kdPHgQCxYswLlz56Cj0/AIbH6+iYiIqCGN5QaPY48X0V8KCwuxYcMGFBQUYMaMGZoO55lYt26d0myKqrJt2zakpqZKQyHXrVsHX19fle9HVcrKyqBQKBpNuoiIiIhai98yiP5iaWkJc3Nz7NixA126dNF0OM9Ez549G30+qjVyc3OxevVqFBUVwdbWFuHh4WrvVWuNKVOmaDoEIiIi6uCYeFG7Y2dnp/Jp6AHVT23/PNu4cSM2btyo6TCIiIiI2gwONSQiIiIiIlIzJl5qwJ4Too6Hn2siIiJqDSZeKlQ3ZXh5ebmGIyEiVav7XKvy1QBERET0/OAzXiqkra2Nzp07o7CwEABgYGDQ5AtjiajtE0KgvLwchYWF6Ny5M7S1tTUdEhEREbVDTLxUrHv37gAgJV9E1DF07txZ+nwTERERtRQTLxWTyWSwsrKChYUFHj58qOlwiEgFOnXqxJ4uIiIiahUmXmqira3NL2pERERERASAk2sQERERERGpHRMvIiIiIiIiNWPiRUREREREpGZ8xusp1L1I9e7duxqOhIiIiIiINKkuJ6jLERrDxOsp3Lt3DwBgY2Oj4UiIiIiIiKgtuHfvHkxNTRvdLhNPSs2onpqaGty8eRPGxsYaf0Hy3bt3YWNjg/z8fJiYmGg0FlINXtOOide14+E17Xh4TTsmXteOp61dUyEE7t27hxdeeAFaWo0/ycUer6egpaWFHj16aDoMJSYmJm3ixiPV4TXtmHhdOx5e046H17Rj4nXteNrSNW2qp6sOJ9cgIiIiIiJSMyZeREREREREasbEq52Ty+VYvnw55HK5pkMhFeE17Zh4XTseXtOOh9e0Y+J17Xja6zXl5BpERERERERqxh4vIiIiIiIiNWPiRUREREREpGZMvIiIiIiIiNSMiRcREREREZGaMfHqQMaPHw9bW1vo6enBysoKH3zwAW7evKnpsOgpXbt2Df7+/rC3t4e+vj4cHBywfPlyPHjwQNOhUSt9/vnn8PT0hIGBATp37qzpcOgpbNu2Dfb29tDT04O7uzuSk5M1HRK10vHjxzFu3Di88MILkMlk+Pe//63pkKgVIiIiMHjwYBgbG8PCwgITJ07EpUuXNB0WtVJUVBRcXFykFyd7eHjghx9+0HRYzcbEqwPx8vJCfHw8Ll26hL179+LKlSuYNGmSpsOip5SdnY2amhp8/fXXuHjxIjZu3Ijt27djyZIlmg6NWunBgweYPHkyPv74Y02HQk/h22+/xdy5c/Hpp58iIyMDQ4cOxZgxY3Djxg1Nh0atUFZWhgEDBuCrr77SdCikAseOHUNISAhOnz6NH3/8EVVVVRg1ahTKyso0HRq1Qo8ePbBmzRqkpaUhLS0Nr732GiZMmICLFy9qOrRm4XTyHdiBAwcwceJEVFZWolOnTpoOh1Rg3bp1iIqKwtWrVzUdCqlAdHQ05s6diz///FPToVALvPzyyxg4cCCioqKksn79+mHixImIiIjQYGSkKjKZDAkJCZg4caKmQyEV+eOPP2BhYYFjx45h2LBhmg6HVKhr165Yt24d/P39NR3KE7HHq4MqKirC7t274enpyaSrAykpKUHXrl01HQbRc+vBgwdIT0/HqFGjlMpHjRqFkydPaigqInqSkpISAOC/oR1IdXU14uLiUFZWBg8PD02H0yxMvDqYRYsWwdDQEGZmZrhx4wb279+v6ZBIRa5cuYItW7YgKChI06EQPbdu376N6upqWFpaKpVbWlri999/11BURNQUIQTCwsLwt7/9Dc7OzpoOh1rp/PnzMDIyglwuR1BQEBISEuDk5KTpsJqFiVcbt2LFCshksiaXtLQ0qf6CBQuQkZGBw4cPQ1tbGz4+PuBo0ralpdcUAG7evInRo0dj8uTJ+PDDDzUUOTXlaa4rtV8ymUxpXQhRr4yI2oZZs2bh3LlziI2N1XQopAKOjo7IzMzE6dOn8fHHH8PX1xdZWVmaDqtZdDQdADVt1qxZePfdd5usY2dnJ/1sbm4Oc3Nz9OnTB/369YONjQ1Onz7dbrpgnwctvaY3b96El5cXPDw8sGPHDjVHR0+rpdeV2idzc3Noa2vX690qLCys1wtGRJoXGhqKAwcO4Pjx4+jRo4emwyEV0NXVRa9evQAAgwYNQmpqKv77v/8bX3/9tYYjezImXm1cXSL1NOp6uiorK1UZErVSS65pQUEBvLy84O7uDoVCAS0tdlK3Va35rFL7oaurC3d3d/z444946623pPIff/wREyZM0GBkRPQoIQRCQ0ORkJCApKQk2NvbazokUhMhRLv5rsvEq4P4+eef8fPPP+Nvf/sbunTpgqtXr2LZsmVwcHBgb1c7dfPmTYwYMQK2trb48ssv8ccff0jbunfvrsHIqLVu3LiBoqIi3LhxA9XV1cjMzAQA9OrVC0ZGRpoNjp4oLCwMH3zwAQYNGiT1RN+4cYPPX7ZzpaWluHz5srSel5eHzMxMdO3aFba2thqMjJ5GSEgI/ud//gf79++HsbGx1EttamoKfX19DUdHT2vJkiUYM2YMbGxscO/ePcTFxSEpKQmHDh3SdGjNwunkO4jz589jzpw5OHv2LMrKymBlZYXRo0dj6dKlsLa21nR49BSio6MxY8aMBrfxY9u++fn5ISYmpl750aNHMWLEiGcfELXYtm3bsHbtWty6dQvOzs7YuHEjp6hu55KSkuDl5VWv3NfXF9HR0c8+IGqVxp65VCgU8PPze7bBkMr4+/vjp59+wq1bt2BqagoXFxcsWrQII0eO1HRozcLEi4iIiIiISM34wAgREREREZGaMfEiIiIiIiJSMyZeREREREREasbEi4iIiIiISM2YeBEREREREakZEy8iIiIiIiI1Y+JFRERERESkZky8iIiIiIiI1IyJFxERERERkZox8SIiIiIiIlIzJl5ERERERERqxsSLiIiomf744w90794dX3zxhVR25swZ6Orq4vDhwxqMjIiI2jqZEEJoOggiIqL2IjExERMnTsTJkyfRt29fuLm54Y033sCmTZs0HRoREbVhTLyIiIhaKCQkBP/7v/+LwYMH4+zZs0hNTYWenp6mwyIiojaMiRcREVEL3b9/H87OzsjPz0daWhpcXFw0HRIREbVxfMaLiIioha5evYqbN2+ipqYG169f13Q4RETUDrDHi4iIqAUePHiAIUOGwNXVFX379sWGDRtw/vx5WFpaajo0IiJqw5h4ERERtcCCBQuwZ88enD17FkZGRvDy8oKxsTG+//57TYdGRERtGIcaEhERNVNSUhI2bdqEXbt2wcTEBFpaWti1axdSUlIQFRWl6fCIiKgNY48XERERERGRmrHHi4iIiIiISM2YeBEREREREakZEy8iIiIiIiI1Y+JFRERERESkZky8iIiIiIiI1IyJFxERERERkZox8SIiIiIiIlIzJl5ERERERERqxsSLiIiIiIhIzZh4ERERERERqRkTLyIiIiIiIjX7/4rp4VlxWm2qAAAAAElFTkSuQmCC",
      "text/plain": [
       "<Figure size 1000x600 with 1 Axes>"
      ]
     },
     "metadata": {},
     "output_type": "display_data"
    }
   ],
   "source": [
    "# What if we used a higher order polynomial to fit the data?\n",
    "# Let's try fitting a polynomial of the form y = ax^4 + bx^3 + cx^2 + dx + e to the data.\n",
    "# This is still a linear regression problem because the unknowns are the coefficients a, b, c, d, and e.\n",
    "# We can represent the polynomial as a linear equation of the form y = Xw, where:\n",
    "# X = [[x^4, x^3, x^2, x, 1]]\n",
    "# w = [[a], [b], [c], [d], [e]]\n",
    "# y = [[y]]\n",
    "\n",
    "# Let's define the matrix X and the vector y for the higher order polynomial regression problem.\n",
    "X1 = np.c_[x_less_than_0, np.ones(x_less_than_0.shape)]\n",
    "X3 = np.c_[x_less_than_0**3, x_less_than_0**2, x_less_than_0, np.ones(x_less_than_0.shape)]\n",
    "X4 = np.c_[x_less_than_0**4, x_less_than_0**3, x_less_than_0**2, x_less_than_0, np.ones(x_less_than_0.shape)]\n",
    "\n",
    "# Now, we can solve the linear regression problem using the least squares method we discussed earlier.\n",
    "w1, residuals, rank, s = np.linalg.lstsq(X1, y_x_less_than_0, rcond=None)\n",
    "w3, residuals, rank, s = np.linalg.lstsq(X3, y_x_less_than_0, rcond=None)\n",
    "w4, residuals, rank, s = np.linalg.lstsq(X4, y_x_less_than_0, rcond=None)\n",
    "\n",
    "# The solution w represents the coefficients a, b, c, d, and e that minimize the sum of the squared residuals.\n",
    "a1, b1 = w1\n",
    "a3, b3, c3, d3 = w3\n",
    "a4, b4, c4, d4, e4 = w4\n",
    "\n",
    "# Now, let's plot the data points and the fitted polynomial along with the first example.\n",
    "\n",
    "plt.figure(figsize=(10, 6))\n",
    "plt.scatter(x, y, color='blue', label='Data points')\n",
    "plt.plot(x_fit, a1*x_fit + b1, color='green', label='Fitted polynomial (degree 1)')\n",
    "plt.plot(x_fit, a2*x_fit**2 + b2*x_fit + c2, color='red', label='Fitted polynomial (degree 2)')\n",
    "plt.plot(x_fit, a3*x_fit**3 + b3*x_fit**2 + c3*x_fit**1 + d3, color='cyan', label='Fitted polynomial (degree 3)')\n",
    "plt.plot(x_fit, a4*x_fit**4 + b4*x_fit**3 + c4*x_fit**2 + d4*x_fit + e4, color='blue', label='Fitted polynomial (degree 4)')\n",
    "plt.xlabel('x')\n",
    "plt.ylabel('y')\n",
    "plt.title('Polynomial Regression')\n",
    "plt.legend()\n"
   ]
  },
  {
   "cell_type": "code",
   "execution_count": null,
   "metadata": {},
   "outputs": [],
   "source": []
  }
 ],
 "metadata": {
  "colab": {
   "provenance": [],
   "toc_visible": true
  },
  "kernelspec": {
   "display_name": "Python 3",
   "language": "python",
   "name": "python3"
  },
  "language_info": {
   "codemirror_mode": {
    "name": "ipython",
    "version": 3
   },
   "file_extension": ".py",
   "mimetype": "text/x-python",
   "name": "python",
   "nbconvert_exporter": "python",
   "pygments_lexer": "ipython3",
   "version": "3.10.16"
  },
  "widgets": {
   "application/vnd.jupyter.widget-state+json": {
    "054083162da645f9b247be27173efe1e": {
     "model_module": "@jupyter-widgets/controls",
     "model_module_version": "1.5.0",
     "model_name": "FloatProgressModel",
     "state": {
      "_dom_classes": [],
      "_model_module": "@jupyter-widgets/controls",
      "_model_module_version": "1.5.0",
      "_model_name": "FloatProgressModel",
      "_view_count": null,
      "_view_module": "@jupyter-widgets/controls",
      "_view_module_version": "1.5.0",
      "_view_name": "ProgressView",
      "bar_style": "success",
      "description": "",
      "description_tooltip": null,
      "layout": "IPY_MODEL_3658851275694ee1a15f9d5a305c1e22",
      "max": 35624,
      "min": 0,
      "orientation": "horizontal",
      "style": "IPY_MODEL_3e7a113c1fa34f8b9810b782447b3e8c",
      "value": 35624
     }
    },
    "0fb04728349c4dde94aaf9897492743f": {
     "model_module": "@jupyter-widgets/controls",
     "model_module_version": "1.5.0",
     "model_name": "HTMLModel",
     "state": {
      "_dom_classes": [],
      "_model_module": "@jupyter-widgets/controls",
      "_model_module_version": "1.5.0",
      "_model_name": "HTMLModel",
      "_view_count": null,
      "_view_module": "@jupyter-widgets/controls",
      "_view_module_version": "1.5.0",
      "_view_name": "HTMLView",
      "description": "",
      "description_tooltip": null,
      "layout": "IPY_MODEL_80c5f442014946df8957cc48dcca541e",
      "placeholder": "​",
      "style": "IPY_MODEL_c6017ca79bae42bfa03eb72781ab031f",
      "value": "100%"
     }
    },
    "1b8264c7ea5a421584e4871c2d8062ea": {
     "model_module": "@jupyter-widgets/base",
     "model_module_version": "1.2.0",
     "model_name": "LayoutModel",
     "state": {
      "_model_module": "@jupyter-widgets/base",
      "_model_module_version": "1.2.0",
      "_model_name": "LayoutModel",
      "_view_count": null,
      "_view_module": "@jupyter-widgets/base",
      "_view_module_version": "1.2.0",
      "_view_name": "LayoutView",
      "align_content": null,
      "align_items": null,
      "align_self": null,
      "border": null,
      "bottom": null,
      "display": null,
      "flex": null,
      "flex_flow": null,
      "grid_area": null,
      "grid_auto_columns": null,
      "grid_auto_flow": null,
      "grid_auto_rows": null,
      "grid_column": null,
      "grid_gap": null,
      "grid_row": null,
      "grid_template_areas": null,
      "grid_template_columns": null,
      "grid_template_rows": null,
      "height": null,
      "justify_content": null,
      "justify_items": null,
      "left": null,
      "margin": null,
      "max_height": null,
      "max_width": null,
      "min_height": null,
      "min_width": null,
      "object_fit": null,
      "object_position": null,
      "order": null,
      "overflow": null,
      "overflow_x": null,
      "overflow_y": null,
      "padding": null,
      "right": null,
      "top": null,
      "visibility": null,
      "width": null
     }
    },
    "1c63e0a213d2422fad1013a4c7dc40c6": {
     "model_module": "@jupyter-widgets/controls",
     "model_module_version": "1.5.0",
     "model_name": "HTMLModel",
     "state": {
      "_dom_classes": [],
      "_model_module": "@jupyter-widgets/controls",
      "_model_module_version": "1.5.0",
      "_model_name": "HTMLModel",
      "_view_count": null,
      "_view_module": "@jupyter-widgets/controls",
      "_view_module_version": "1.5.0",
      "_view_name": "HTMLView",
      "description": "",
      "description_tooltip": null,
      "layout": "IPY_MODEL_cee19a8eb4454b238b640ea1f7669a2f",
      "placeholder": "​",
      "style": "IPY_MODEL_7abc07cf6e164036be85a891356d0a79",
      "value": " 35624/35624 [00:40&lt;00:00, 870.16it/s]"
     }
    },
    "3658851275694ee1a15f9d5a305c1e22": {
     "model_module": "@jupyter-widgets/base",
     "model_module_version": "1.2.0",
     "model_name": "LayoutModel",
     "state": {
      "_model_module": "@jupyter-widgets/base",
      "_model_module_version": "1.2.0",
      "_model_name": "LayoutModel",
      "_view_count": null,
      "_view_module": "@jupyter-widgets/base",
      "_view_module_version": "1.2.0",
      "_view_name": "LayoutView",
      "align_content": null,
      "align_items": null,
      "align_self": null,
      "border": null,
      "bottom": null,
      "display": null,
      "flex": null,
      "flex_flow": null,
      "grid_area": null,
      "grid_auto_columns": null,
      "grid_auto_flow": null,
      "grid_auto_rows": null,
      "grid_column": null,
      "grid_gap": null,
      "grid_row": null,
      "grid_template_areas": null,
      "grid_template_columns": null,
      "grid_template_rows": null,
      "height": null,
      "justify_content": null,
      "justify_items": null,
      "left": null,
      "margin": null,
      "max_height": null,
      "max_width": null,
      "min_height": null,
      "min_width": null,
      "object_fit": null,
      "object_position": null,
      "order": null,
      "overflow": null,
      "overflow_x": null,
      "overflow_y": null,
      "padding": null,
      "right": null,
      "top": null,
      "visibility": null,
      "width": null
     }
    },
    "3e7a113c1fa34f8b9810b782447b3e8c": {
     "model_module": "@jupyter-widgets/controls",
     "model_module_version": "1.5.0",
     "model_name": "ProgressStyleModel",
     "state": {
      "_model_module": "@jupyter-widgets/controls",
      "_model_module_version": "1.5.0",
      "_model_name": "ProgressStyleModel",
      "_view_count": null,
      "_view_module": "@jupyter-widgets/base",
      "_view_module_version": "1.2.0",
      "_view_name": "StyleView",
      "bar_color": null,
      "description_width": ""
     }
    },
    "7abc07cf6e164036be85a891356d0a79": {
     "model_module": "@jupyter-widgets/controls",
     "model_module_version": "1.5.0",
     "model_name": "DescriptionStyleModel",
     "state": {
      "_model_module": "@jupyter-widgets/controls",
      "_model_module_version": "1.5.0",
      "_model_name": "DescriptionStyleModel",
      "_view_count": null,
      "_view_module": "@jupyter-widgets/base",
      "_view_module_version": "1.2.0",
      "_view_name": "StyleView",
      "description_width": ""
     }
    },
    "80c5f442014946df8957cc48dcca541e": {
     "model_module": "@jupyter-widgets/base",
     "model_module_version": "1.2.0",
     "model_name": "LayoutModel",
     "state": {
      "_model_module": "@jupyter-widgets/base",
      "_model_module_version": "1.2.0",
      "_model_name": "LayoutModel",
      "_view_count": null,
      "_view_module": "@jupyter-widgets/base",
      "_view_module_version": "1.2.0",
      "_view_name": "LayoutView",
      "align_content": null,
      "align_items": null,
      "align_self": null,
      "border": null,
      "bottom": null,
      "display": null,
      "flex": null,
      "flex_flow": null,
      "grid_area": null,
      "grid_auto_columns": null,
      "grid_auto_flow": null,
      "grid_auto_rows": null,
      "grid_column": null,
      "grid_gap": null,
      "grid_row": null,
      "grid_template_areas": null,
      "grid_template_columns": null,
      "grid_template_rows": null,
      "height": null,
      "justify_content": null,
      "justify_items": null,
      "left": null,
      "margin": null,
      "max_height": null,
      "max_width": null,
      "min_height": null,
      "min_width": null,
      "object_fit": null,
      "object_position": null,
      "order": null,
      "overflow": null,
      "overflow_x": null,
      "overflow_y": null,
      "padding": null,
      "right": null,
      "top": null,
      "visibility": null,
      "width": null
     }
    },
    "8fa5a4cd197c4a19b703b9e3178d546e": {
     "model_module": "@jupyter-widgets/controls",
     "model_module_version": "1.5.0",
     "model_name": "HBoxModel",
     "state": {
      "_dom_classes": [],
      "_model_module": "@jupyter-widgets/controls",
      "_model_module_version": "1.5.0",
      "_model_name": "HBoxModel",
      "_view_count": null,
      "_view_module": "@jupyter-widgets/controls",
      "_view_module_version": "1.5.0",
      "_view_name": "HBoxView",
      "box_style": "",
      "children": [
       "IPY_MODEL_0fb04728349c4dde94aaf9897492743f",
       "IPY_MODEL_054083162da645f9b247be27173efe1e",
       "IPY_MODEL_1c63e0a213d2422fad1013a4c7dc40c6"
      ],
      "layout": "IPY_MODEL_1b8264c7ea5a421584e4871c2d8062ea"
     }
    },
    "c6017ca79bae42bfa03eb72781ab031f": {
     "model_module": "@jupyter-widgets/controls",
     "model_module_version": "1.5.0",
     "model_name": "DescriptionStyleModel",
     "state": {
      "_model_module": "@jupyter-widgets/controls",
      "_model_module_version": "1.5.0",
      "_model_name": "DescriptionStyleModel",
      "_view_count": null,
      "_view_module": "@jupyter-widgets/base",
      "_view_module_version": "1.2.0",
      "_view_name": "StyleView",
      "description_width": ""
     }
    },
    "cee19a8eb4454b238b640ea1f7669a2f": {
     "model_module": "@jupyter-widgets/base",
     "model_module_version": "1.2.0",
     "model_name": "LayoutModel",
     "state": {
      "_model_module": "@jupyter-widgets/base",
      "_model_module_version": "1.2.0",
      "_model_name": "LayoutModel",
      "_view_count": null,
      "_view_module": "@jupyter-widgets/base",
      "_view_module_version": "1.2.0",
      "_view_name": "LayoutView",
      "align_content": null,
      "align_items": null,
      "align_self": null,
      "border": null,
      "bottom": null,
      "display": null,
      "flex": null,
      "flex_flow": null,
      "grid_area": null,
      "grid_auto_columns": null,
      "grid_auto_flow": null,
      "grid_auto_rows": null,
      "grid_column": null,
      "grid_gap": null,
      "grid_row": null,
      "grid_template_areas": null,
      "grid_template_columns": null,
      "grid_template_rows": null,
      "height": null,
      "justify_content": null,
      "justify_items": null,
      "left": null,
      "margin": null,
      "max_height": null,
      "max_width": null,
      "min_height": null,
      "min_width": null,
      "object_fit": null,
      "object_position": null,
      "order": null,
      "overflow": null,
      "overflow_x": null,
      "overflow_y": null,
      "padding": null,
      "right": null,
      "top": null,
      "visibility": null,
      "width": null
     }
    }
   }
  }
 },
 "nbformat": 4,
 "nbformat_minor": 4
}
